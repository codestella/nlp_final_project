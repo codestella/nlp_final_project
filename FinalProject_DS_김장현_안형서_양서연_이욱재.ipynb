{
 "cells": [
  {
   "cell_type": "markdown",
   "id": "366761e5",
   "metadata": {},
   "source": [
    "## 팀원\n",
    "- 김장현 / 컴퓨터공학부/ 2019-26471 \n",
    "- 안형서 / 전기정보공학부 / 2017-12932\n",
    "- 양서연 / 인공지능 협동과정 / 2021-33205\n",
    "- 이욱재 / 산업공학과 / 2021-22053\n",
    "\n",
    "## Intro \n",
    "- Here, we train neural networks solving the four Korean language tasks ([link](https://corpus.korean.go.kr/task/taskDownload.do?taskId=1&clCd=END_TASK&subMenuId=sub02)). \n",
    "- Our basic approach is to fine-tune pre-trained **korean language models** (https://huggingface.co/models?language=ko&sort=downloads). \n",
    "- We basically use **KLUE-RoBERTa** models from https://github.com/KLUE-benchmark/KLUE, which is the state-of-the-art korean language model. \n",
    "- We refer the following sources for the some parts of data processing and fine-tuning techniques. \n",
    " - Sun et al., 'How to Fine-Tune BERT for Text Classification?', https://arxiv.org/abs/1905.05583\n",
    " - https://github.com/NIKL-Team-BC/NIKL-KLUE\n",
    "- For more **detailed codes and experiment logs**, please refer to our [github page](https://github.com/codestella/nlp_final_project)"
   ]
  },
  {
   "cell_type": "markdown",
   "id": "8b8dcbb1",
   "metadata": {},
   "source": [
    "### Disclaimer\n",
    "코랩, 리눅스 환경 쥬피터 등 다양한 환경의 쥬피터 파일들을 하나로 합치는 과정에서, 호환이 안 맞아 생기는 문제가 있습니다:   \n",
    "```Notebook validation failed: Additional properties are not allowed ('metadata' was unexpected):```\n",
    "\n",
    "코드가 돌아가는데에 문제는 없음을 확인했으니, 일단 무시하고 진행해서 코드 체크를 하시면 될 것 같습니다. \n",
    "혹여 문제가 있다면 개별 쥬피터 파일을 모아놓은 https://github.com/codestella/nlp_final_project/tree/main/jupyter 를 참조 바랍니다.\n",
    "\n",
    "학습된 모델은 요청시에 제공 가능합니다."
   ]
  },
  {
   "cell_type": "markdown",
   "id": "3cfa38bd",
   "metadata": {},
   "source": [
    "## 1. 판정의문문 (BoolQ)\n",
    "\n",
    "아래 하이퍼파라미터 및 모델 세팅을 탐색 하였음. 가장 성능이 좋은 세팅은 강조되어 있음. 이 실험에 대한 보다 자세한 코드 및 로그파일은 [github page](https://github.com/codestella/nlp_final_project) 참조. \n",
    "- Model size: **Large** (\\~85%) / Base (\\~79%)\n",
    "- Epoch: 10\n",
    "- warm up: 10% training step (없으면 학습 불안정)\n",
    "- Learning rate: 1e-5, **8e-6**, 5e-6 (큰 차이는 없으나, 커지면 학습 불안정)\n",
    "- Batch size: **5**, 20, 60\n",
    "- Finetuning: **All**, Only classifier (i.e., freeze feature extractor, \\~57%)\n",
    "- Classifier: linear model 충분 (multi-layer로 늘려도 gain 작음)"
   ]
  },
  {
   "cell_type": "code",
   "execution_count": 1,
   "id": "e3f3c34c",
   "metadata": {},
   "outputs": [],
   "source": [
    "import os\n",
    "import torch\n",
    "import torch.nn as nn\n",
    "from torch.utils.data import Dataset, DataLoader\n",
    "import transformers\n",
    "import pandas\n",
    "from transformers import AutoTokenizer\n",
    "from transformers import RobertaModel, RobertaConfig\n",
    "from transformers import AdamW\n",
    "import time\n",
    "import argparse\n",
    "\n",
    "transformers.logging.set_verbosity(40) # Turn off warning\n",
    "device = torch.device('cuda:0' if torch.cuda.is_available() else 'cpu')"
   ]
  },
  {
   "cell_type": "code",
   "execution_count": 2,
   "id": "5bedcd76",
   "metadata": {},
   "outputs": [],
   "source": [
    "def load_data(path, tokenizer):\n",
    "    ''' Tokenization for BoolQ data'''\n",
    "    dataset = pandas.read_csv(path,\n",
    "                              delimiter='\\t',\n",
    "                              names=['ID', 'text', 'question', 'answer'],\n",
    "                              header=0)\n",
    "\n",
    "    tokenized = tokenizer(dataset['text'].tolist(),\n",
    "                          dataset['question'].tolist(),\n",
    "                          padding=True,\n",
    "                          truncation=True,\n",
    "                          return_tensors=\"pt\")\n",
    "    dataset['label'] = torch.tensor(dataset['answer'])\n",
    "    return dataset, tokenized\n",
    "\n",
    "\n",
    "class Roberta(RobertaModel):\n",
    "    ''' Classification layer added Roberta model'''\n",
    "    def __init__(self, config, model_name):\n",
    "        super(Roberta, self).__init__(config)\n",
    "        self.roberta = RobertaModel.from_pretrained(model_name, config=config)\n",
    "        self.hdim = config.hidden_size\n",
    "        self.nclass = config.nclass\n",
    "        self.classifier = nn.Linear(self.hdim, self.nclass)\n",
    "\n",
    "    def forward(self, input_ids, attention_mask, **kwargs):\n",
    "        outputs = self.roberta(input_ids, attention_mask=attention_mask)\n",
    "        h = outputs[0][:, 0, :]\n",
    "        logits = self.classifier(h)\n",
    "        return logits"
   ]
  },
  {
   "cell_type": "code",
   "execution_count": 3,
   "id": "12998384",
   "metadata": {},
   "outputs": [],
   "source": [
    "class TensorDataset(Dataset):\n",
    "    ''' Define Torch Dataset '''\n",
    "    def __init__(self, tokenized_dataset, labels):\n",
    "        self.tokenized_dataset = tokenized_dataset\n",
    "        self.labels = labels\n",
    "\n",
    "    def __getitem__(self, idx):\n",
    "        item = {key: val[idx] for key, val in self.tokenized_dataset.items()}\n",
    "        label = self.labels[idx]\n",
    "        return item, label\n",
    "\n",
    "    def __len__(self):\n",
    "        return len(self.labels)"
   ]
  },
  {
   "cell_type": "code",
   "execution_count": 4,
   "id": "768ffae8",
   "metadata": {},
   "outputs": [],
   "source": [
    "# Define tokenizer and model type\n",
    "model_type = \"Roberta\"\n",
    "size = 'large'\n",
    "model_name = f\"klue/roberta-{size}\"\n",
    "tokenizer = AutoTokenizer.from_pretrained(model_name)"
   ]
  },
  {
   "cell_type": "markdown",
   "id": "7fed234b",
   "metadata": {},
   "source": [
    "Set data path below!"
   ]
  },
  {
   "cell_type": "code",
   "execution_count": 5,
   "id": "7d2f93fe",
   "metadata": {},
   "outputs": [],
   "source": [
    "# Data path\n",
    "base_path = './data'\n",
    "\n",
    "train_dataset, train_tokenized = load_data(os.path.join(base_path, 'SKT_BoolQ_Train.tsv'), tokenizer)\n",
    "val_dataset, val_tokenized = load_data(os.path.join(base_path, 'SKT_BoolQ_Dev.tsv'), tokenizer)\n",
    "\n",
    "train_dataset = TensorDataset(train_tokenized, train_dataset['label'])\n",
    "val_dataset = TensorDataset(val_tokenized, val_dataset['label'])\n",
    "\n",
    "# Define loader\n",
    "if size == 'base':\n",
    "    batch_size = 16\n",
    "else:\n",
    "    batch_size = 5\n",
    "train_loader = DataLoader(train_dataset, batch_size=batch_size, shuffle=True)\n",
    "val_loader = DataLoader(val_dataset, batch_size=batch_size, shuffle=False)"
   ]
  },
  {
   "cell_type": "code",
   "execution_count": 6,
   "id": "32eac84d",
   "metadata": {},
   "outputs": [
    {
     "data": {
      "text/plain": [
       "'[CLS] 로마 시대의 오리엔트의 범위는 제국 내에 동부 지방은 물론 제국 외부에 있는 다른 국가에 광범위하게 쓰이는 단어였다. 그 후에 로마 제국이 분열되고 서유럽이 그들의 중심적인 세계를 형성하는 과정에서 자신들을 옥시덴트 ( occident ), 서방이라 부르며 오리엔트는 이와 대조되는 문화를 가진 동방세계라는 뜻이 부가되어, 인도와 중국, 일본을 이루는 광범위한 지역을 지칭하는 단어가 되었다. [SEP] 오리엔트는 인도와 중국, 일본을 이루는 광범위한 지역을 지칭하는 단어로 쓰인다. [SEP] [PAD] [PAD] [PAD] [PAD] [PAD] [PAD] [PAD] [PAD] [PAD] [PAD] [PAD] [PAD] [PAD] [PAD] [PAD] [PAD] [PAD] [PAD] [PAD] [PAD] [PAD] [PAD] [PAD] [PAD] [PAD] [PAD] [PAD] [PAD] [PAD] [PAD] [PAD] [PAD] [PAD] [PAD] [PAD] [PAD] [PAD] [PAD] [PAD] [PAD] [PAD] [PAD] [PAD] [PAD] [PAD] [PAD] [PAD] [PAD] [PAD] [PAD] [PAD] [PAD] [PAD] [PAD] [PAD] [PAD] [PAD] [PAD] [PAD] [PAD] [PAD] [PAD] [PAD] [PAD] [PAD] [PAD] [PAD] [PAD] [PAD] [PAD] [PAD] [PAD] [PAD] [PAD] [PAD] [PAD] [PAD] [PAD] [PAD] [PAD] [PAD] [PAD] [PAD] [PAD] [PAD] [PAD] [PAD] [PAD] [PAD] [PAD] [PAD] [PAD] [PAD] [PAD] [PAD] [PAD] [PAD] [PAD] [PAD] [PAD] [PAD] [PAD] [PAD] [PAD] [PAD] [PAD] [PAD] [PAD] [PAD] [PAD] [PAD] [PAD] [PAD] [PAD] [PAD] [PAD] [PAD] [PAD] [PAD] [PAD] [PAD] [PAD] [PAD] [PAD] [PAD] [PAD] [PAD] [PAD]'"
      ]
     },
     "execution_count": 6,
     "metadata": {},
     "output_type": "execute_result"
    }
   ],
   "source": [
    "# Data example\n",
    "tokenizer.decode(train_tokenized['input_ids'][0])"
   ]
  },
  {
   "cell_type": "markdown",
   "id": "7aa23db9",
   "metadata": {},
   "source": [
    "### [BoolQ] 학습 결과\n",
    "- 최적 세팅에서 10번 반복한 결과 84% \\~ 87% 의 결과를 얻음\n",
    "- 각 실험은 1시간 정도 소요 (6min/epoch) \n",
    "- (참고) jupyter를 서버에서 돌려서 컴퓨터 연결이 끊겼을때 print가 잘 되지 않은 경우가 있으나, 모델 학습 및 저장은 이상 없음.\n",
    "- 본 모델을 앙상블하여 최종 **88.14\\%**의 validation accuracy 달성."
   ]
  },
  {
   "cell_type": "code",
   "execution_count": 7,
   "id": "360e9c6e",
   "metadata": {},
   "outputs": [],
   "source": [
    "def train_epoch(epoch, model, train_loader, optimizer, scheduler):\n",
    "    ''' One epoch fine-tuning '''\n",
    "    model.train()\n",
    "    total_loss = 0\n",
    "    cor = 0\n",
    "    n_sample = 0\n",
    "    s = time.time()\n",
    "    criterion = nn.CrossEntropyLoss()\n",
    "\n",
    "    for data, target in train_loader:\n",
    "        item = {key: val.to(device) for key, val in data.items()}\n",
    "        target = target.to(device)\n",
    "\n",
    "        logits = model(**item)\n",
    "        loss = criterion(logits, target)\n",
    "\n",
    "        optimizer.zero_grad()\n",
    "        loss.backward()\n",
    "        optimizer.step()\n",
    "        scheduler.step()\n",
    "\n",
    "        with torch.no_grad():\n",
    "            preds = torch.argmax(logits, dim=-1)\n",
    "\n",
    "        total_loss += loss.item()\n",
    "        cor += (preds == target).sum().item()\n",
    "        n_sample += len(target)\n",
    "\n",
    "        print(f\"{cor}/{n_sample}\", end='\\r')\n",
    "\n",
    "    loss_avg = total_loss / n_sample\n",
    "    acc = cor / n_sample\n",
    "    print(\n",
    "        f\"[Epoch {epoch}] Train loss: {loss_avg:.3f}, acc: {acc*100:.2f}, time: {time.time()-s:.1f}s\"\n",
    "    )\n",
    "    return acc\n",
    "\n",
    "\n",
    "def validate(epoch, model, val_loader, verbose=True):\n",
    "    ''' Evaluate on validation set '''\n",
    "    model.eval()\n",
    "    total_loss = 0\n",
    "    cor = 0\n",
    "    n_sample = 0\n",
    "    criterion = nn.CrossEntropyLoss()\n",
    "    pred_all = []\n",
    "    \n",
    "    with torch.no_grad():\n",
    "        for data, target in val_loader:\n",
    "            item = {key: val.to(device) for key, val in data.items()}\n",
    "            target = target.to(device)\n",
    "\n",
    "            logits = model(**item)\n",
    "            loss = criterion(logits, target)\n",
    "            preds = torch.argmax(logits, dim=-1)\n",
    "            pred_all.append(preds)\n",
    "\n",
    "            total_loss += loss.item()\n",
    "            cor += (preds == target).sum().item()\n",
    "            n_sample += len(target)\n",
    "\n",
    "    loss_avg = total_loss / n_sample\n",
    "    acc = cor / n_sample\n",
    "    pred_all = torch.cat(pred_all)\n",
    "    \n",
    "    if verbose:\n",
    "        print(f\"[Epoch {epoch}] Valid loss: {loss_avg:.3f}, acc: {acc*100:.2f}\")\n",
    "    return acc, pred_all\n",
    "\n",
    "\n",
    "def train(idx, num_epochs, lr, train_loader, val_loader, config, save_dir='./results'):\n",
    "    ''' Train for multiple epochs and validate '''    \n",
    "    print(f\"Start trining {idx}th model\")\n",
    "    model = Roberta(config, model_name).to(device)\n",
    "    optimizer = AdamW(model.parameters(), lr=lr)\n",
    "    scheduler = transformers.get_scheduler(\"linear\",\n",
    "                                           optimizer=optimizer,\n",
    "                                           num_warmup_steps=num_epochs * len(train_loader) // 10,\n",
    "                                           num_training_steps=num_epochs * len(train_loader))\n",
    "    best_acc = 0\n",
    "    for epoch in range(num_epochs):\n",
    "        train_acc = train_epoch(epoch, model, train_loader, optimizer, scheduler)\n",
    "        val_acc, _ = validate(epoch, model, val_loader)\n",
    "        if val_acc > best_acc:\n",
    "            best_acc = val_acc\n",
    "\n",
    "            model_to_save = model.module if hasattr(model, \"module\") else model\n",
    "            model_to_save.save_pretrained(os.path.join(save_dir, f'{idx}'))\n",
    "            \n",
    "    print(f\"Training finish! Best validation accuracy: {best_acc*100:.2f}\\n\")"
   ]
  },
  {
   "cell_type": "code",
   "execution_count": 8,
   "id": "7570f41c",
   "metadata": {},
   "outputs": [],
   "source": [
    "def validate_ensemble(save_dir, model_name, val_loader, answer, idx_max=10, acc_threshold=0.85):\n",
    "    ''' Measure ensemble accuracy '''\n",
    "    pred_ensemble = []\n",
    "    for idx in range(idx_max):\n",
    "        model = Roberta.from_pretrained(os.path.join(save_dir, f'{idx}'), model_name)\n",
    "        model.to(device)\n",
    "        acc, pred_all = validate('best', model, val_loader, verbose=False)\n",
    "        print(f\"Load {idx}th model (acc: {acc*100:.2f})\")\n",
    "        if acc >= acc_threshold:\n",
    "            pred_ensemble.append(pred_all)\n",
    "        \n",
    "    pred_ensemble = torch.stack(pred_ensemble, dim=-1).float()\n",
    "    pred_ensemble = (pred_ensemble.mean(-1) >= 0.5).long().to(answer.device)\n",
    "    acc_ensemble = (pred_ensemble == answer).sum() / len(answer)\n",
    "    print(f\"\\nEnsemble accuracy: {acc_ensemble*100:.2f}\")"
   ]
  },
  {
   "cell_type": "code",
   "execution_count": 9,
   "id": "4b708488",
   "metadata": {
    "scrolled": true
   },
   "outputs": [
    {
     "name": "stdout",
     "output_type": "stream",
     "text": [
      "Start trining 0th model\n"
     ]
    },
    {
     "name": "stderr",
     "output_type": "stream",
     "text": [
      "Some weights of the model checkpoint at klue/roberta-large were not used when initializing RobertaModel: ['lm_head.decoder.weight', 'lm_head.layer_norm.bias', 'lm_head.dense.bias', 'lm_head.dense.weight', 'lm_head.decoder.bias', 'lm_head.layer_norm.weight', 'lm_head.bias']\n",
      "- This IS expected if you are initializing RobertaModel from the checkpoint of a model trained on another task or with another architecture (e.g. initializing a BertForSequenceClassification model from a BertForPreTraining model).\n",
      "- This IS NOT expected if you are initializing RobertaModel from the checkpoint of a model that you expect to be exactly identical (initializing a BertForSequenceClassification model from a BertForSequenceClassification model).\n",
      "Some weights of RobertaModel were not initialized from the model checkpoint at klue/roberta-large and are newly initialized: ['roberta.pooler.dense.weight', 'roberta.pooler.dense.bias']\n",
      "You should probably TRAIN this model on a down-stream task to be able to use it for predictions and inference.\n"
     ]
    },
    {
     "name": "stdout",
     "output_type": "stream",
     "text": [
      "[Epoch 0] Train loss: 0.135, acc: 55.66, time: 346.7s\n",
      "[Epoch 0] Valid loss: 0.111, acc: 72.00\n",
      "[Epoch 1] Train loss: 0.086, acc: 81.53, time: 348.5s\n",
      "[Epoch 1] Valid loss: 0.090, acc: 78.71\n",
      "[Epoch 2] Train loss: 0.037, acc: 93.40, time: 350.1s\n",
      "[Epoch 2] Valid loss: 0.094, acc: 82.57\n",
      "[Epoch 3] Train loss: 0.016, acc: 97.33, time: 349.0s\n",
      "[Epoch 3] Valid loss: 0.112, acc: 84.00\n",
      "[Epoch 4] Train loss: 0.006, acc: 98.99, time: 347.3s\n",
      "[Epoch 4] Valid loss: 0.167, acc: 84.00\n",
      "[Epoch 5] Train loss: 0.004, acc: 99.40, time: 350.4s\n",
      "[Epoch 5] Valid loss: 0.165, acc: 84.00\n",
      "[Epoch 6] Train loss: 0.003, acc: 99.48, time: 350.7s\n",
      "[Epoch 6] Valid loss: 0.144, acc: 87.00\n",
      "[Epoch 7] Train loss: 0.001, acc: 99.81, time: 349.5s\n",
      "[Epoch 7] Valid loss: 0.181, acc: 85.71\n",
      "[Epoch 8] Train loss: 0.001, acc: 99.89, time: 353.4s\n",
      "[Epoch 8] Valid loss: 0.189, acc: 85.00\n",
      "[Epoch 9] Train loss: 0.001, acc: 99.89, time: 350.9s\n",
      "[Epoch 9] Valid loss: 0.193, acc: 84.43\n",
      "Training finish! Best validation accuracy: 87.00\n",
      "\n",
      "Start trining 1th model\n"
     ]
    },
    {
     "name": "stderr",
     "output_type": "stream",
     "text": [
      "Some weights of the model checkpoint at klue/roberta-large were not used when initializing RobertaModel: ['lm_head.decoder.weight', 'lm_head.layer_norm.bias', 'lm_head.dense.bias', 'lm_head.dense.weight', 'lm_head.decoder.bias', 'lm_head.layer_norm.weight', 'lm_head.bias']\n",
      "- This IS expected if you are initializing RobertaModel from the checkpoint of a model trained on another task or with another architecture (e.g. initializing a BertForSequenceClassification model from a BertForPreTraining model).\n",
      "- This IS NOT expected if you are initializing RobertaModel from the checkpoint of a model that you expect to be exactly identical (initializing a BertForSequenceClassification model from a BertForSequenceClassification model).\n",
      "Some weights of RobertaModel were not initialized from the model checkpoint at klue/roberta-large and are newly initialized: ['roberta.pooler.dense.weight', 'roberta.pooler.dense.bias']\n",
      "You should probably TRAIN this model on a down-stream task to be able to use it for predictions and inference.\n"
     ]
    },
    {
     "name": "stdout",
     "output_type": "stream",
     "text": [
      "[Epoch 0] Train loss: 0.130, acc: 59.15, time: 351.2s\n",
      "[Epoch 0] Valid loss: 0.101, acc: 75.86\n",
      "[Epoch 1] Train loss: 0.081, acc: 82.18, time: 349.3s\n",
      "[Epoch 1] Valid loss: 0.070, acc: 84.71\n",
      "[Epoch 2] Train loss: 0.031, acc: 94.22, time: 350.0s\n",
      "[Epoch 2] Valid loss: 0.126, acc: 84.71\n",
      "[Epoch 3] Train loss: 0.013, acc: 97.93, time: 354.0s\n",
      "[Epoch 3] Valid loss: 0.132, acc: 84.29\n",
      "[Epoch 4] Train loss: 0.007, acc: 99.07, time: 353.1s\n",
      "[Epoch 4] Valid loss: 0.152, acc: 84.57\n",
      "[Epoch 5] Train loss: 0.002, acc: 99.54, time: 353.0s\n",
      "[Epoch 5] Valid loss: 0.164, acc: 84.71\n",
      "[Epoch 6] Train loss: 0.003, acc: 99.54, time: 352.5s\n",
      "[Epoch 6] Valid loss: 0.150, acc: 86.14\n",
      "[Epoch 7] Train loss: 0.002, acc: 99.73, time: 351.3s\n",
      "[Epoch 7] Valid loss: 0.168, acc: 85.71\n",
      "[Epoch 8] Train loss: 0.001, acc: 99.97, time: 354.4s\n",
      "[Epoch 8] Valid loss: 0.179, acc: 85.29\n",
      "[Epoch 9] Train loss: 0.001, acc: 99.95, time: 353.6s\n",
      "[Epoch 9] Valid loss: 0.179, acc: 85.71\n",
      "Training finish! Best validation accuracy: 86.14\n",
      "\n",
      "Start trining 2th model\n"
     ]
    },
    {
     "name": "stderr",
     "output_type": "stream",
     "text": [
      "Some weights of the model checkpoint at klue/roberta-large were not used when initializing RobertaModel: ['lm_head.decoder.weight', 'lm_head.layer_norm.bias', 'lm_head.dense.bias', 'lm_head.dense.weight', 'lm_head.decoder.bias', 'lm_head.layer_norm.weight', 'lm_head.bias']\n",
      "- This IS expected if you are initializing RobertaModel from the checkpoint of a model trained on another task or with another architecture (e.g. initializing a BertForSequenceClassification model from a BertForPreTraining model).\n",
      "- This IS NOT expected if you are initializing RobertaModel from the checkpoint of a model that you expect to be exactly identical (initializing a BertForSequenceClassification model from a BertForSequenceClassification model).\n",
      "Some weights of RobertaModel were not initialized from the model checkpoint at klue/roberta-large and are newly initialized: ['roberta.pooler.dense.weight', 'roberta.pooler.dense.bias']\n",
      "You should probably TRAIN this model on a down-stream task to be able to use it for predictions and inference.\n"
     ]
    },
    {
     "name": "stdout",
     "output_type": "stream",
     "text": [
      "[Epoch 0] Train loss: 0.140, acc: 50.97, time: 353.7s\n",
      "[Epoch 0] Valid loss: 0.134, acc: 59.14\n",
      "[Epoch 1] Train loss: 0.104, acc: 73.29, time: 353.2s\n",
      "[Epoch 1] Valid loss: 0.083, acc: 81.14\n",
      "3170/3485\r"
     ]
    },
    {
     "name": "stderr",
     "output_type": "stream",
     "text": [
      "IOPub message rate exceeded.\n",
      "The notebook server will temporarily stop sending output\n",
      "to the client in order to avoid crashing it.\n",
      "To change this limit, set the config variable\n",
      "`--NotebookApp.iopub_msg_rate_limit`.\n",
      "\n",
      "Current values:\n",
      "NotebookApp.iopub_msg_rate_limit=1000.0 (msgs/sec)\n",
      "NotebookApp.rate_limit_window=3.0 (secs)\n",
      "\n"
     ]
    },
    {
     "name": "stdout",
     "output_type": "stream",
     "text": [
      "[Epoch 4] Train loss: 0.006, acc: 99.13, time: 352.3s\n",
      "[Epoch 4] Valid loss: 0.148, acc: 83.00\n",
      "[Epoch 5] Train loss: 0.004, acc: 99.29, time: 354.9s\n",
      "[Epoch 5] Valid loss: 0.143, acc: 83.43\n",
      "[Epoch 6] Train loss: 0.003, acc: 99.56, time: 353.8s\n",
      "[Epoch 6] Valid loss: 0.193, acc: 82.86\n",
      "[Epoch 7] Train loss: 0.000, acc: 99.95, time: 356.7s\n",
      "[Epoch 7] Valid loss: 0.202, acc: 84.71\n",
      "425/425\r"
     ]
    },
    {
     "name": "stderr",
     "output_type": "stream",
     "text": [
      "IOPub message rate exceeded.\n",
      "The notebook server will temporarily stop sending output\n",
      "to the client in order to avoid crashing it.\n",
      "To change this limit, set the config variable\n",
      "`--NotebookApp.iopub_msg_rate_limit`.\n",
      "\n",
      "Current values:\n",
      "NotebookApp.iopub_msg_rate_limit=1000.0 (msgs/sec)\n",
      "NotebookApp.rate_limit_window=3.0 (secs)\n",
      "\n"
     ]
    },
    {
     "name": "stdout",
     "output_type": "stream",
     "text": [
      "[Epoch 5] Train loss: 0.002, acc: 99.70, time: 353.3s\n",
      "[Epoch 5] Valid loss: 0.179, acc: 85.00\n",
      "[Epoch 6] Train loss: 0.002, acc: 99.59, time: 353.9s\n",
      "[Epoch 6] Valid loss: 0.188, acc: 84.86\n",
      "[Epoch 7] Train loss: 0.001, acc: 99.84, time: 355.2s\n",
      "[Epoch 7] Valid loss: 0.184, acc: 85.00\n",
      "[Epoch 8] Train loss: 0.001, acc: 99.92, time: 355.2s\n",
      "[Epoch 8] Valid loss: 0.184, acc: 85.86\n",
      "3584/3585\r"
     ]
    },
    {
     "name": "stderr",
     "output_type": "stream",
     "text": [
      "IOPub message rate exceeded.\n",
      "The notebook server will temporarily stop sending output\n",
      "to the client in order to avoid crashing it.\n",
      "To change this limit, set the config variable\n",
      "`--NotebookApp.iopub_msg_rate_limit`.\n",
      "\n",
      "Current values:\n",
      "NotebookApp.iopub_msg_rate_limit=1000.0 (msgs/sec)\n",
      "NotebookApp.rate_limit_window=3.0 (secs)\n",
      "\n"
     ]
    },
    {
     "name": "stdout",
     "output_type": "stream",
     "text": [
      "[Epoch 2] Train loss: 0.035, acc: 94.00, time: 354.7s\n",
      "[Epoch 2] Valid loss: 0.100, acc: 82.00\n",
      "[Epoch 3] Train loss: 0.012, acc: 98.25, time: 357.2s\n",
      "[Epoch 3] Valid loss: 0.128, acc: 83.57\n",
      "[Epoch 4] Train loss: 0.007, acc: 98.80, time: 354.8s\n",
      "[Epoch 4] Valid loss: 0.150, acc: 82.57\n",
      "[Epoch 5] Train loss: 0.005, acc: 98.99, time: 356.3s\n",
      "[Epoch 5] Valid loss: 0.187, acc: 81.43\n",
      "1705/1705\r"
     ]
    },
    {
     "name": "stderr",
     "output_type": "stream",
     "text": [
      "IOPub message rate exceeded.\n",
      "The notebook server will temporarily stop sending output\n",
      "to the client in order to avoid crashing it.\n",
      "To change this limit, set the config variable\n",
      "`--NotebookApp.iopub_msg_rate_limit`.\n",
      "\n",
      "Current values:\n",
      "NotebookApp.iopub_msg_rate_limit=1000.0 (msgs/sec)\n",
      "NotebookApp.rate_limit_window=3.0 (secs)\n",
      "\n"
     ]
    },
    {
     "name": "stdout",
     "output_type": "stream",
     "text": [
      "[Epoch 7] Train loss: 0.002, acc: 99.75, time: 358.5s\n",
      "[Epoch 7] Valid loss: 0.181, acc: 83.57\n",
      "[Epoch 8] Train loss: 0.001, acc: 99.92, time: 358.0s\n",
      "[Epoch 8] Valid loss: 0.193, acc: 82.57\n",
      "[Epoch 9] Train loss: 0.000, acc: 99.97, time: 356.7s\n",
      "[Epoch 9] Valid loss: 0.209, acc: 81.86\n",
      "Training finish! Best validation accuracy: 83.57\n",
      "\n",
      "Start trining 5th model\n"
     ]
    },
    {
     "name": "stderr",
     "output_type": "stream",
     "text": [
      "Some weights of the model checkpoint at klue/roberta-large were not used when initializing RobertaModel: ['lm_head.decoder.weight', 'lm_head.layer_norm.bias', 'lm_head.dense.bias', 'lm_head.dense.weight', 'lm_head.decoder.bias', 'lm_head.layer_norm.weight', 'lm_head.bias']\n",
      "- This IS expected if you are initializing RobertaModel from the checkpoint of a model trained on another task or with another architecture (e.g. initializing a BertForSequenceClassification model from a BertForPreTraining model).\n",
      "- This IS NOT expected if you are initializing RobertaModel from the checkpoint of a model that you expect to be exactly identical (initializing a BertForSequenceClassification model from a BertForSequenceClassification model).\n",
      "Some weights of RobertaModel were not initialized from the model checkpoint at klue/roberta-large and are newly initialized: ['roberta.pooler.dense.weight', 'roberta.pooler.dense.bias']\n",
      "You should probably TRAIN this model on a down-stream task to be able to use it for predictions and inference.\n"
     ]
    },
    {
     "name": "stdout",
     "output_type": "stream",
     "text": [
      "[Epoch 0] Train loss: 0.140, acc: 51.24, time: 357.3s\n",
      "[Epoch 0] Valid loss: 0.123, acc: 68.14\n",
      "2083/2690\r"
     ]
    },
    {
     "name": "stderr",
     "output_type": "stream",
     "text": [
      "IOPub message rate exceeded.\n",
      "The notebook server will temporarily stop sending output\n",
      "to the client in order to avoid crashing it.\n",
      "To change this limit, set the config variable\n",
      "`--NotebookApp.iopub_msg_rate_limit`.\n",
      "\n",
      "Current values:\n",
      "NotebookApp.iopub_msg_rate_limit=1000.0 (msgs/sec)\n",
      "NotebookApp.rate_limit_window=3.0 (secs)\n",
      "\n"
     ]
    },
    {
     "name": "stdout",
     "output_type": "stream",
     "text": [
      "[Epoch 9] Train loss: 0.001, acc: 99.95, time: 359.1s\n",
      "[Epoch 9] Valid loss: 0.218, acc: 84.43\n",
      "Training finish! Best validation accuracy: 84.86\n",
      "\n",
      "Start trining 6th model\n"
     ]
    },
    {
     "name": "stderr",
     "output_type": "stream",
     "text": [
      "Some weights of the model checkpoint at klue/roberta-large were not used when initializing RobertaModel: ['lm_head.decoder.weight', 'lm_head.layer_norm.bias', 'lm_head.dense.bias', 'lm_head.dense.weight', 'lm_head.decoder.bias', 'lm_head.layer_norm.weight', 'lm_head.bias']\n",
      "- This IS expected if you are initializing RobertaModel from the checkpoint of a model trained on another task or with another architecture (e.g. initializing a BertForSequenceClassification model from a BertForPreTraining model).\n",
      "- This IS NOT expected if you are initializing RobertaModel from the checkpoint of a model that you expect to be exactly identical (initializing a BertForSequenceClassification model from a BertForSequenceClassification model).\n",
      "Some weights of RobertaModel were not initialized from the model checkpoint at klue/roberta-large and are newly initialized: ['roberta.pooler.dense.weight', 'roberta.pooler.dense.bias']\n",
      "You should probably TRAIN this model on a down-stream task to be able to use it for predictions and inference.\n"
     ]
    },
    {
     "name": "stdout",
     "output_type": "stream",
     "text": [
      "[Epoch 0] Train loss: 0.137, acc: 53.12, time: 359.3s\n",
      "[Epoch 0] Valid loss: 0.098, acc: 76.57\n",
      "[Epoch 1] Train loss: 0.086, acc: 81.17, time: 354.8s\n",
      "[Epoch 1] Valid loss: 0.086, acc: 81.86\n",
      "[Epoch 2] Train loss: 0.033, acc: 94.00, time: 358.5s\n",
      "[Epoch 2] Valid loss: 0.113, acc: 81.14\n",
      "2626/2690\r"
     ]
    },
    {
     "name": "stderr",
     "output_type": "stream",
     "text": [
      "IOPub message rate exceeded.\n",
      "The notebook server will temporarily stop sending output\n",
      "to the client in order to avoid crashing it.\n",
      "To change this limit, set the config variable\n",
      "`--NotebookApp.iopub_msg_rate_limit`.\n",
      "\n",
      "Current values:\n",
      "NotebookApp.iopub_msg_rate_limit=1000.0 (msgs/sec)\n",
      "NotebookApp.rate_limit_window=3.0 (secs)\n",
      "\n"
     ]
    },
    {
     "name": "stdout",
     "output_type": "stream",
     "text": [
      "[Epoch 6] Train loss: 0.002, acc: 99.86, time: 356.8s\n",
      "[Epoch 6] Valid loss: 0.181, acc: 84.57\n",
      "[Epoch 7] Train loss: 0.001, acc: 99.89, time: 358.8s\n",
      "[Epoch 7] Valid loss: 0.199, acc: 84.57\n",
      "[Epoch 8] Train loss: 0.000, acc: 99.95, time: 357.7s\n",
      "[Epoch 8] Valid loss: 0.205, acc: 85.29\n",
      "[Epoch 9] Train loss: 0.000, acc: 100.00, time: 355.7s\n",
      "[Epoch 9] Valid loss: 0.209, acc: 85.43\n",
      "Training finish! Best validation accuracy: 85.43\n",
      "\n",
      "Start trining 7th model\n"
     ]
    },
    {
     "name": "stderr",
     "output_type": "stream",
     "text": [
      "Some weights of the model checkpoint at klue/roberta-large were not used when initializing RobertaModel: ['lm_head.decoder.weight', 'lm_head.layer_norm.bias', 'lm_head.dense.bias', 'lm_head.dense.weight', 'lm_head.decoder.bias', 'lm_head.layer_norm.weight', 'lm_head.bias']\n",
      "- This IS expected if you are initializing RobertaModel from the checkpoint of a model trained on another task or with another architecture (e.g. initializing a BertForSequenceClassification model from a BertForPreTraining model).\n",
      "- This IS NOT expected if you are initializing RobertaModel from the checkpoint of a model that you expect to be exactly identical (initializing a BertForSequenceClassification model from a BertForSequenceClassification model).\n",
      "Some weights of RobertaModel were not initialized from the model checkpoint at klue/roberta-large and are newly initialized: ['roberta.pooler.dense.weight', 'roberta.pooler.dense.bias']\n",
      "You should probably TRAIN this model on a down-stream task to be able to use it for predictions and inference.\n"
     ]
    },
    {
     "name": "stdout",
     "output_type": "stream",
     "text": [
      "400/780\r"
     ]
    },
    {
     "name": "stderr",
     "output_type": "stream",
     "text": [
      "IOPub message rate exceeded.\n",
      "The notebook server will temporarily stop sending output\n",
      "to the client in order to avoid crashing it.\n",
      "To change this limit, set the config variable\n",
      "`--NotebookApp.iopub_msg_rate_limit`.\n",
      "\n",
      "Current values:\n",
      "NotebookApp.iopub_msg_rate_limit=1000.0 (msgs/sec)\n",
      "NotebookApp.rate_limit_window=3.0 (secs)\n",
      "\n"
     ]
    },
    {
     "name": "stdout",
     "output_type": "stream",
     "text": [
      "[Epoch 1] Train loss: 0.085, acc: 80.90, time: 355.3s\n",
      "[Epoch 1] Valid loss: 0.097, acc: 81.00\n",
      "[Epoch 2] Train loss: 0.037, acc: 93.70, time: 356.8s\n",
      "[Epoch 2] Valid loss: 0.088, acc: 84.57\n",
      "[Epoch 3] Train loss: 0.013, acc: 98.25, time: 355.4s\n",
      "[Epoch 3] Valid loss: 0.115, acc: 84.57\n",
      "[Epoch 4] Train loss: 0.009, acc: 98.64, time: 357.4s\n",
      "[Epoch 4] Valid loss: 0.121, acc: 85.00\n",
      "2834/2855\r"
     ]
    },
    {
     "name": "stderr",
     "output_type": "stream",
     "text": [
      "IOPub message rate exceeded.\n",
      "The notebook server will temporarily stop sending output\n",
      "to the client in order to avoid crashing it.\n",
      "To change this limit, set the config variable\n",
      "`--NotebookApp.iopub_msg_rate_limit`.\n",
      "\n",
      "Current values:\n",
      "NotebookApp.iopub_msg_rate_limit=1000.0 (msgs/sec)\n",
      "NotebookApp.rate_limit_window=3.0 (secs)\n",
      "\n"
     ]
    },
    {
     "name": "stdout",
     "output_type": "stream",
     "text": [
      "[Epoch 3] Train loss: 0.015, acc: 97.44, time: 357.1s\n",
      "[Epoch 3] Valid loss: 0.130, acc: 83.71\n",
      "[Epoch 4] Train loss: 0.006, acc: 99.02, time: 356.7s\n",
      "[Epoch 4] Valid loss: 0.135, acc: 84.29\n",
      "[Epoch 5] Train loss: 0.003, acc: 99.48, time: 356.5s\n",
      "[Epoch 5] Valid loss: 0.177, acc: 84.00\n",
      "[Epoch 6] Train loss: 0.001, acc: 99.95, time: 359.4s\n",
      "[Epoch 6] Valid loss: 0.232, acc: 84.00\n",
      "3238/3245\r"
     ]
    },
    {
     "name": "stderr",
     "output_type": "stream",
     "text": [
      "IOPub message rate exceeded.\n",
      "The notebook server will temporarily stop sending output\n",
      "to the client in order to avoid crashing it.\n",
      "To change this limit, set the config variable\n",
      "`--NotebookApp.iopub_msg_rate_limit`.\n",
      "\n",
      "Current values:\n",
      "NotebookApp.iopub_msg_rate_limit=1000.0 (msgs/sec)\n",
      "NotebookApp.rate_limit_window=3.0 (secs)\n",
      "\n"
     ]
    },
    {
     "name": "stdout",
     "output_type": "stream",
     "text": [
      "[Epoch 9] Train loss: 0.001, acc: 99.86, time: 361.4s\n",
      "[Epoch 9] Valid loss: 0.224, acc: 83.71\n",
      "Training finish! Best validation accuracy: 84.29\n",
      "\n",
      "Start trining 9th model\n"
     ]
    },
    {
     "name": "stderr",
     "output_type": "stream",
     "text": [
      "Some weights of the model checkpoint at klue/roberta-large were not used when initializing RobertaModel: ['lm_head.decoder.weight', 'lm_head.layer_norm.bias', 'lm_head.dense.bias', 'lm_head.dense.weight', 'lm_head.decoder.bias', 'lm_head.layer_norm.weight', 'lm_head.bias']\n",
      "- This IS expected if you are initializing RobertaModel from the checkpoint of a model trained on another task or with another architecture (e.g. initializing a BertForSequenceClassification model from a BertForPreTraining model).\n",
      "- This IS NOT expected if you are initializing RobertaModel from the checkpoint of a model that you expect to be exactly identical (initializing a BertForSequenceClassification model from a BertForSequenceClassification model).\n",
      "Some weights of RobertaModel were not initialized from the model checkpoint at klue/roberta-large and are newly initialized: ['roberta.pooler.dense.weight', 'roberta.pooler.dense.bias']\n",
      "You should probably TRAIN this model on a down-stream task to be able to use it for predictions and inference.\n"
     ]
    },
    {
     "name": "stdout",
     "output_type": "stream",
     "text": [
      "[Epoch 0] Train loss: 0.141, acc: 51.65, time: 359.3s\n",
      "[Epoch 0] Valid loss: 0.153, acc: 46.57\n",
      "[Epoch 1] Train loss: 0.104, acc: 74.05, time: 357.5s\n",
      "[Epoch 1] Valid loss: 0.088, acc: 79.43\n",
      "[Epoch 2] Train loss: 0.048, acc: 90.86, time: 356.8s\n",
      "[Epoch 2] Valid loss: 0.084, acc: 82.71\n",
      "[Epoch 3] Train loss: 0.017, acc: 97.57, time: 357.0s\n",
      "[Epoch 3] Valid loss: 0.150, acc: 79.57\n",
      "25/25\r"
     ]
    },
    {
     "name": "stderr",
     "output_type": "stream",
     "text": [
      "IOPub message rate exceeded.\n",
      "The notebook server will temporarily stop sending output\n",
      "to the client in order to avoid crashing it.\n",
      "To change this limit, set the config variable\n",
      "`--NotebookApp.iopub_msg_rate_limit`.\n",
      "\n",
      "Current values:\n",
      "NotebookApp.iopub_msg_rate_limit=1000.0 (msgs/sec)\n",
      "NotebookApp.rate_limit_window=3.0 (secs)\n",
      "\n"
     ]
    },
    {
     "name": "stdout",
     "output_type": "stream",
     "text": [
      "[Epoch 4] Train loss: 0.007, acc: 98.83, time: 360.3s\n",
      "[Epoch 4] Valid loss: 0.162, acc: 83.14\n",
      "[Epoch 5] Train loss: 0.004, acc: 99.32, time: 360.5s\n",
      "[Epoch 5] Valid loss: 0.185, acc: 83.57\n",
      "[Epoch 6] Train loss: 0.004, acc: 99.51, time: 360.3s\n",
      "[Epoch 6] Valid loss: 0.161, acc: 84.29\n",
      "[Epoch 7] Train loss: 0.003, acc: 99.62, time: 360.3s\n",
      "[Epoch 7] Valid loss: 0.164, acc: 83.86\n",
      "1589/1590\r"
     ]
    },
    {
     "name": "stderr",
     "output_type": "stream",
     "text": [
      "IOPub message rate exceeded.\n",
      "The notebook server will temporarily stop sending output\n",
      "to the client in order to avoid crashing it.\n",
      "To change this limit, set the config variable\n",
      "`--NotebookApp.iopub_msg_rate_limit`.\n",
      "\n",
      "Current values:\n",
      "NotebookApp.iopub_msg_rate_limit=1000.0 (msgs/sec)\n",
      "NotebookApp.rate_limit_window=3.0 (secs)\n",
      "\n"
     ]
    }
   ],
   "source": [
    "# Fine-tuning networks (10 repeat)\n",
    "lr = 8e-6\n",
    "num_epochs = 10\n",
    "\n",
    "save_dir = './results_qa'\n",
    "if not os.path.exists(save_dir):\n",
    "    os.makedirs(save_dir)\n",
    "    \n",
    "config = RobertaConfig.from_pretrained(model_name)\n",
    "config.nclass = 2\n",
    "for i in range(10):\n",
    "    train(i, num_epochs, lr, train_loader, val_loader, config=config, save_dir=save_dir)"
   ]
  },
  {
   "cell_type": "code",
   "execution_count": 10,
   "id": "5258f71b",
   "metadata": {
    "scrolled": true
   },
   "outputs": [
    {
     "name": "stdout",
     "output_type": "stream",
     "text": [
      "Load 0th model (acc: 87.00)\n",
      "Load 1th model (acc: 86.14)\n",
      "Load 2th model (acc: 85.43)\n",
      "Load 3th model (acc: 85.86)\n",
      "Load 4th model (acc: 83.57)\n",
      "Load 5th model (acc: 84.86)\n",
      "Load 6th model (acc: 85.43)\n",
      "Load 7th model (acc: 85.43)\n",
      "Load 8th model (acc: 84.29)\n",
      "Load 9th model (acc: 84.29)\n",
      "\n",
      "Ensemble accuracy: 88.14\n"
     ]
    }
   ],
   "source": [
    "answer = torch.tensor(val_dataset.labels)\n",
    "save_dir = './results_qa'\n",
    "\n",
    "validate_ensemble(save_dir, model_name, val_loader, answer, idx_max=10, acc_threshold=0.85)"
   ]
  },
  {
   "cell_type": "markdown",
   "id": "05f8d40e",
   "metadata": {},
   "source": [
    "## 2. 동형이의어 구별 (WIC)\n",
    "\n",
    "- 전체적인 코드의 뼈대 / 하이퍼 파라미터는 같은 조의 BoolQ의 코드를 사용하였습니다.\n",
    "- 사용모델 : KLUE-roberta-large\n",
    "- Epoch: 10\n",
    "- warm up: 10% training step\n",
    "- Learning rate: 8e-6\n",
    "- Batch size: 4 (colab에서 4를 넘어가면 memory 초과)\n",
    "- Classifier: 1 layer linear model ( layer/activaation을 추가해도 효과 미미)"
   ]
  },
  {
   "cell_type": "code",
   "execution_count": 2,
   "id": "c635c5dd",
   "metadata": {
    "id": "510a000b"
   },
   "outputs": [],
   "source": [
    "import os\n",
    "import torch\n",
    "import torch.nn as nn\n",
    "from torch.utils.data import Dataset, DataLoader\n",
    "import transformers\n",
    "import pandas\n",
    "from transformers import AutoTokenizer\n",
    "from transformers import RobertaModel, RobertaConfig ,RobertaPreTrainedModel\n",
    "from transformers import AdamW\n",
    "import time\n",
    "import argparse\n",
    "from tqdm.auto import tqdm\n",
    "import numpy as np\n",
    "import random\n",
    "\n",
    "transformers.logging.set_verbosity(40) # Turn off warning"
   ]
  },
  {
   "cell_type": "code",
   "execution_count": 4,
   "id": "01f3c00c",
   "metadata": {
    "id": "1389aa39"
   },
   "outputs": [],
   "source": [
    "save_dir = './result_wic'\n",
    "\n",
    "if not os.path.exists( save_dir):\n",
    "    os.makedirs(save_dir)"
   ]
  },
  {
   "cell_type": "markdown",
   "id": "9e06a6e6",
   "metadata": {
    "id": "5uU0kKI2dr0G"
   },
   "source": [
    "### [WIC] 전처리 / 데이터셋 만들기\n",
    " - 동형이의어의 토큰이 다른 단어와 섞이지 않고 명확하게 쪼개져야 하기때문에 앞뒤로 special token을 삽입해 줌으로써 구분해줍니다.\n",
    " - 또한, 모델의 끝부분에서 동형이의어의 embedding vector만 사용하고, 나머지 토큰들의 결과는 사용하지 않으니, 그 부분만 1, 나머지는 0 인 wordmask가 필요합니다. 이를 위해 만든 speical token의 위치를 파악하여 wordmask를 만들어줍니다.\n",
    " - 처음 시도는 torch.roll(shift 연산)을 사용해 동형이의어의 끝 부분을 한칸 앞으로 당긴곳을 1로 만들었지만, 이 경우, 동형이의어가 2개이상의 토큰으로 나뉜경우 완전히 커버할 수 없습니다.\n",
    " - 따라서 torch.cumsum(누적합 연산)을 사용하여 동형이의어의 시작/끝부분 사이를 토큰을 전부 1이되도록 만들어주었습니다.\n",
    " - 이후 모델 안에서는 wordmask가 1인 위치의 embedding vector을 전부 더해서 classifier에 넣어줍니다.\n",
    " - 각 문장당 동형이의어를 대표하는 하나의 vector가 필요하기 때문에, 문장당 wordmask를 만들어주어 총 2개의 wordmask를 만들어주었습니다."
   ]
  },
  {
   "cell_type": "code",
   "execution_count": 6,
   "id": "ab3ff548",
   "metadata": {
    "id": "fdd6faee"
   },
   "outputs": [],
   "source": [
    "def load_data(path, tokenizer):\n",
    "    dataset = pandas.read_csv(path,\n",
    "                              delimiter='\\t',\n",
    "                              names=['ID', 'Target', 'text1', 'text2','answer','s_s1','e_s1','s_s2','e_s2'],\n",
    "                              header=0)\n",
    "\n",
    "    dataset_text1=[]\n",
    "    dataset_text2=[]\n",
    "\n",
    "    for i,text1 in enumerate(dataset['text1']):   #동형이의어 앞뒤로 special token 추가\n",
    "        text= text1[:dataset[\"s_s1\"][i]]+\"[WORD1S]\"+text1[dataset[\"s_s1\"][i]:dataset[\"e_s1\"][i]]+\"[WORD1E]\"+text1[dataset[\"e_s1\"][i]:]\n",
    "        dataset_text1.append(text)\n",
    "\n",
    "    for i,text2 in enumerate(dataset['text2']):\n",
    "        text= text2[:dataset[\"s_s2\"][i]]+\"[WORD2S]\"+text2[dataset[\"s_s2\"][i]:dataset[\"e_s2\"][i]]+\"[WORD2E]\"+text2[dataset[\"e_s2\"][i]:]\n",
    "        dataset_text2.append(text)\n",
    "    \n",
    "    word1s_tok_idx=tokenizer.encode(\"[WORD1S]\")[1]\n",
    "    word1e_tok_idx=tokenizer.encode(\"[WORD1E]\")[1]\n",
    "    word2s_tok_idx=tokenizer.encode(\"[WORD2S]\")[1]\n",
    "    word2e_tok_idx=tokenizer.encode(\"[WORD2E]\")[1]\n",
    "\n",
    "    tokenized = tokenizer(dataset_text1,\n",
    "                          dataset_text2,\n",
    "                          padding=True,\n",
    "                          truncation=True,\n",
    "                          return_tensors=\"pt\")\n",
    "    dataset['label'] = torch.tensor(dataset['answer'],dtype=int)\n",
    "\n",
    "    #word_mask1=  torch.roll((tokenized[\"input_ids\"]==word1e_tok_idx),-1,dims=1).int()  #first trial with roll\n",
    "    #word_mask2=  torch.roll((tokenized[\"input_ids\"]==word2e_tok_idx),-1,dims=1).int()\n",
    "    \n",
    "    word_mask1 = torch.roll((tokenized[\"input_ids\"]==word1s_tok_idx),1,dims=1).int() # second trial with cumsum\n",
    "    word_mask1 = word_mask1 - (tokenized[\"input_ids\"]==word1e_tok_idx).int()\n",
    "    word_mask1 = torch.cumsum(word_mask1,dim=1)\n",
    "\n",
    "    word_mask2 = torch.roll((tokenized[\"input_ids\"]==word2s_tok_idx),1,dims=1).int()  # 각 문장당 동형이의어의 토큰 위치가 1이되는 mask 생성\n",
    "    word_mask2 = word_mask2 - (tokenized[\"input_ids\"]==word2e_tok_idx).int()\n",
    "    word_mask2 = torch.cumsum(word_mask2,dim=1)\n",
    "    \n",
    "    return dataset, tokenized, word_mask1, word_mask2\n",
    "\n",
    "\n",
    "class TensorDataset(Dataset):\n",
    "    def __init__(self, tokenized_dataset, word_mask1, word_mask2, labels):\n",
    "        self.tokenized_dataset = tokenized_dataset\n",
    "        self.word_mask1= word_mask1\n",
    "        self.word_mask2= word_mask2\n",
    "        self.labels = labels\n",
    "\n",
    "    def __getitem__(self, idx):\n",
    "        item = {key: val[idx] for key, val in self.tokenized_dataset.items()}\n",
    "        item[\"word_mask1\"]=self.word_mask1[idx]\n",
    "        item[\"word_mask2\"]=self.word_mask2[idx]\n",
    "        label = self.labels[idx]\n",
    "        return item, label\n",
    "\n",
    "    def __len__(self):\n",
    "        return len(self.labels)"
   ]
  },
  {
   "cell_type": "code",
   "execution_count": 7,
   "id": "a07e2fea",
   "metadata": {
    "colab": {
     "base_uri": "https://localhost:8080/",
     "height": 182,
     "referenced_widgets": [
      "e7b9ae64a8324fe8b5df66cd3db84ad4",
      "51f932bab4164a859354fa8f46fef300",
      "d1d5c221ae284734a164d90db8031b1b",
      "88749eaaeb914c9297d2b995b84a7fc3",
      "d32e30db2699443181706587ed26cbc0",
      "7551cef0ca3a4bab9b61dcfad0d0810a",
      "28f4e4c0adc8487290e2ad42ab13891e",
      "ba21e8c4ca9b41299aad91955e82da90",
      "299199ce14d34dc5851b6506d5255da5",
      "5daaf6d1b9564fdfb7d21d937d68cd49",
      "801423f0aceb49fc84cb185c3c2bd4e2",
      "1f9a2bf5a679473a82b6410477b16d8e",
      "5d7b6054f71d41f3bde0644a207bef39",
      "121cdf326fe6489b8be00001d51580c8",
      "f9332da451da4707a848ac81993fa273",
      "c25341d753d043eda43dd312c5b58b08",
      "02884f3d376940358195348bd5d22dae",
      "0c90a07cd64041cdbb6bdd12eb345871",
      "db14c4a3323742cf89e9fda3b52aaf91",
      "7fab521885d646758a45aa0b18c12faf",
      "50c5c827ba3044f7aa74fa50d24e7d24",
      "e499f866014f4f8397cc68dd4f47757e",
      "160060d1a1b64744b27da5d1cd4ecd96",
      "39f928c975b34ac6af4edf9219bb3c25",
      "10d16041d754440f9dce88b1f5f6e8a4",
      "069900efe9ef4b73a255fdc9cba4d279",
      "96e1b78a086747aea733e929474fe550",
      "9c663018eed044f1b79fbb91bb88239f",
      "8c1224ac8a7e4e88a98738b53599283d",
      "8055911f9b004abe8b93564a3d829178",
      "35c48c7db7814fe18f9702177331c668",
      "0efe47bbffc34cb39a79498da8557833",
      "955ffaa60f11472687233a21f08ea868",
      "58755bf65d614a8f804465973b12d371",
      "f3bc2d9c070e4eca948ee83315193a23",
      "3477d4415e52479c9dcfb0de622216ec",
      "78af815adc684f27a56fb0f8ed8e9d22",
      "bd285c5ba3464c979f1fb38a4bfb8507",
      "9fda5868a87845da89a1bf9bd1b8dab9",
      "81f83496d5464376aadd9df4c9db901c",
      "c9f0ac9b91484d6b87787c36e6c5eafd",
      "29b4a0e0d57b45f7a917a3020f3c828f",
      "a151991f36064bf39cef99fe20476c86",
      "b2f82c054ebf454884ecfc9d3ed5e4eb"
     ]
    },
    "executionInfo": {
     "elapsed": 1923,
     "status": "ok",
     "timestamp": 1638773798671,
     "user": {
      "displayName": "­안형서 / 학생 / 전기·정보공학부",
      "photoUrl": "https://lh3.googleusercontent.com/a-/AOh14Gg2m5GEkg1AKOub_GkVdF2Ujkorj8KoGoebIxj9=s64",
      "userId": "10372927598583850844"
     },
     "user_tz": -540
    },
    "id": "27f0d9c2",
    "outputId": "8a83f451-4d42-4f8d-d39b-dae51bf56c1f",
    "scrolled": true
   },
   "outputs": [
    {
     "data": {
      "application/vnd.jupyter.widget-view+json": {
       "model_id": "ad837f2823884f43b96e84dee65005a5",
       "version_major": 2,
       "version_minor": 0
      },
      "text/plain": [
       "Downloading:   0%|          | 0.00/375 [00:00<?, ?B/s]"
      ]
     },
     "metadata": {},
     "output_type": "display_data"
    },
    {
     "data": {
      "application/vnd.jupyter.widget-view+json": {
       "model_id": "177fd71470e540caad7eb61845cdd16b",
       "version_major": 2,
       "version_minor": 0
      },
      "text/plain": [
       "Downloading:   0%|          | 0.00/243k [00:00<?, ?B/s]"
      ]
     },
     "metadata": {},
     "output_type": "display_data"
    },
    {
     "data": {
      "application/vnd.jupyter.widget-view+json": {
       "model_id": "87a36908c500446a9f74db9d5d6ee758",
       "version_major": 2,
       "version_minor": 0
      },
      "text/plain": [
       "Downloading:   0%|          | 0.00/734k [00:00<?, ?B/s]"
      ]
     },
     "metadata": {},
     "output_type": "display_data"
    },
    {
     "data": {
      "application/vnd.jupyter.widget-view+json": {
       "model_id": "b89a871a1ee84141bcd9bf4c20c31716",
       "version_major": 2,
       "version_minor": 0
      },
      "text/plain": [
       "Downloading:   0%|          | 0.00/173 [00:00<?, ?B/s]"
      ]
     },
     "metadata": {},
     "output_type": "display_data"
    },
    {
     "name": "stdout",
     "output_type": "stream",
     "text": [
      "added 4 new special token\n",
      "32004\n"
     ]
    }
   ],
   "source": [
    "device = torch.device('cuda:0' if torch.cuda.is_available() else 'cpu')\n",
    "\n",
    "model_type = \"Roberta\"\n",
    "size = 'large'\n",
    "model_name = f\"klue/roberta-{size}\"\n",
    "tokenizer = AutoTokenizer.from_pretrained(model_name)\n",
    "\n",
    "new_special_tokens=[\"[WORD1S]\",\"[WORD1E]\",\"[WORD2S]\",\"[WORD2E]\"]\n",
    "tokenizer.add_special_tokens({\"additional_special_tokens\":new_special_tokens})\n",
    "print(f\"added {len(new_special_tokens)} new special token\")\n",
    "\n",
    "print(len(tokenizer))\n",
    "# add special token - 동형이의어를 문장과 구별하기 위해서"
   ]
  },
  {
   "cell_type": "code",
   "execution_count": 8,
   "id": "d1d49507",
   "metadata": {
    "id": "d4082ecb"
   },
   "outputs": [],
   "source": [
    "base_path = './data'\n",
    "\n",
    "train_dataset, train_tokenized, train_word_mask1, train_word_mask2 = load_data(os.path.join(base_path, 'NIKL_SKT_WiC_Train.tsv'),\n",
    "                                           tokenizer)\n",
    "val_dataset, val_tokenized, val_word_mask1, val_word_mask2 = load_data(os.path.join(base_path, 'NIKL_SKT_WiC_Dev.tsv'), tokenizer)\n",
    "\n",
    "train_dataset = TensorDataset(train_tokenized, train_word_mask1, train_word_mask2, train_dataset['label'])\n",
    "val_dataset = TensorDataset(val_tokenized, val_word_mask1, val_word_mask2, val_dataset['label'])\n",
    "\n",
    "if size == 'base':\n",
    "    batch_size = 16\n",
    "else:\n",
    "    batch_size = 4\n",
    "train_loader = DataLoader(train_dataset, batch_size=batch_size, shuffle=True)\n",
    "val_loader = DataLoader(val_dataset, batch_size=batch_size, shuffle=False)"
   ]
  },
  {
   "cell_type": "code",
   "execution_count": 9,
   "id": "38b9db57",
   "metadata": {
    "colab": {
     "base_uri": "https://localhost:8080/",
     "height": 218
    },
    "executionInfo": {
     "elapsed": 22,
     "status": "ok",
     "timestamp": 1638773803864,
     "user": {
      "displayName": "­안형서 / 학생 / 전기·정보공학부",
      "photoUrl": "https://lh3.googleusercontent.com/a-/AOh14Gg2m5GEkg1AKOub_GkVdF2Ujkorj8KoGoebIxj9=s64",
      "userId": "10372927598583850844"
     },
     "user_tz": -540
    },
    "id": "38fd4618",
    "outputId": "b3bf4eb9-b5fc-45a6-9c9c-b61f3b02b25e",
    "scrolled": true
   },
   "outputs": [
    {
     "data": {
      "text/plain": [
       "'[CLS] 그의 죽음은 타살로 [WORD1S] 단정 [WORD1E] 이 되었다. [SEP] [WORD2S] 단정 [WORD2E] 이 된 교실은 정돈되어 있다. [SEP] [PAD] [PAD] [PAD] [PAD] [PAD] [PAD] [PAD] [PAD] [PAD] [PAD] [PAD] [PAD] [PAD] [PAD] [PAD] [PAD] [PAD] [PAD] [PAD] [PAD] [PAD] [PAD] [PAD] [PAD] [PAD] [PAD] [PAD] [PAD] [PAD] [PAD] [PAD] [PAD] [PAD] [PAD] [PAD] [PAD] [PAD] [PAD] [PAD] [PAD] [PAD] [PAD] [PAD] [PAD] [PAD] [PAD] [PAD] [PAD] [PAD] [PAD] [PAD] [PAD] [PAD] [PAD] [PAD] [PAD] [PAD] [PAD] [PAD] [PAD] [PAD] [PAD] [PAD] [PAD] [PAD] [PAD] [PAD] [PAD] [PAD] [PAD] [PAD] [PAD] [PAD] [PAD] [PAD] [PAD] [PAD] [PAD] [PAD] [PAD] [PAD] [PAD] [PAD] [PAD] [PAD] [PAD] [PAD] [PAD] [PAD] [PAD] [PAD] [PAD] [PAD] [PAD] [PAD] [PAD] [PAD] [PAD] [PAD] [PAD] [PAD] [PAD] [PAD] [PAD] [PAD] [PAD] [PAD] [PAD] [PAD] [PAD] [PAD] [PAD] [PAD] [PAD] [PAD] [PAD] [PAD] [PAD] [PAD] [PAD] [PAD] [PAD] [PAD] [PAD] [PAD] [PAD] [PAD] [PAD] [PAD] [PAD] [PAD] [PAD] [PAD] [PAD] [PAD] [PAD] [PAD] [PAD] [PAD] [PAD] [PAD] [PAD] [PAD] [PAD] [PAD] [PAD] [PAD] [PAD] [PAD] [PAD] [PAD] [PAD] [PAD] [PAD] [PAD] [PAD] [PAD] [PAD] [PAD] [PAD] [PAD] [PAD] [PAD] [PAD] [PAD] [PAD] [PAD] [PAD] [PAD] [PAD] [PAD] [PAD] [PAD] [PAD] [PAD] [PAD] [PAD] [PAD] [PAD] [PAD] [PAD] [PAD] [PAD] [PAD] [PAD] [PAD] [PAD]'"
      ]
     },
     "execution_count": 9,
     "metadata": {},
     "output_type": "execute_result"
    }
   ],
   "source": [
    "# 데이터 예시\n",
    "tokenizer.decode(train_tokenized['input_ids'][0])"
   ]
  },
  {
   "cell_type": "code",
   "execution_count": 10,
   "id": "801822a0",
   "metadata": {
    "colab": {
     "base_uri": "https://localhost:8080/"
    },
    "executionInfo": {
     "elapsed": 21,
     "status": "ok",
     "timestamp": 1638773803865,
     "user": {
      "displayName": "­안형서 / 학생 / 전기·정보공학부",
      "photoUrl": "https://lh3.googleusercontent.com/a-/AOh14Gg2m5GEkg1AKOub_GkVdF2Ujkorj8KoGoebIxj9=s64",
      "userId": "10372927598583850844"
     },
     "user_tz": -540
    },
    "id": "qpmQrODfJddO",
    "outputId": "fefd6b77-9257-4bd3-c520-6c4476ae376f"
   },
   "outputs": [
    {
     "data": {
      "text/plain": [
       "tensor([0, 0, 0, 0, 0, 0, 0, 0, 1, 0, 0, 0, 0, 0, 0, 0, 0, 0, 0, 0, 0, 0, 0, 0,\n",
       "        0, 0, 0, 0, 0, 0, 0, 0, 0, 0, 0, 0, 0, 0, 0, 0, 0, 0, 0, 0, 0, 0, 0, 0,\n",
       "        0, 0, 0, 0, 0, 0, 0, 0, 0, 0, 0, 0, 0, 0, 0, 0, 0, 0, 0, 0, 0, 0, 0, 0,\n",
       "        0, 0, 0, 0, 0, 0, 0, 0, 0, 0, 0, 0, 0, 0, 0, 0, 0, 0, 0, 0, 0, 0, 0, 0,\n",
       "        0, 0, 0, 0, 0, 0, 0, 0, 0, 0, 0, 0, 0, 0, 0, 0, 0, 0, 0, 0, 0, 0, 0, 0,\n",
       "        0, 0, 0, 0, 0, 0, 0, 0, 0, 0, 0, 0, 0, 0, 0, 0, 0, 0, 0, 0, 0, 0, 0, 0,\n",
       "        0, 0, 0, 0, 0, 0, 0, 0, 0, 0, 0, 0, 0, 0, 0, 0, 0, 0, 0, 0, 0, 0, 0, 0,\n",
       "        0, 0, 0, 0, 0, 0, 0, 0, 0, 0, 0, 0, 0, 0, 0, 0, 0, 0, 0, 0, 0, 0, 0, 0,\n",
       "        0, 0, 0, 0, 0, 0, 0, 0, 0, 0, 0, 0, 0, 0, 0, 0, 0, 0, 0, 0, 0, 0, 0, 0,\n",
       "        0])"
      ]
     },
     "execution_count": 10,
     "metadata": {},
     "output_type": "execute_result"
    }
   ],
   "source": [
    "# 데이터 예시2, 동형이의어 마스크\n",
    "train_word_mask1[0]"
   ]
  },
  {
   "cell_type": "markdown",
   "id": "1b9f7084",
   "metadata": {
    "id": "9d1965e2"
   },
   "source": [
    "### [WIC]  Method\n",
    "- 모델은 KLUE-RoBERTa를 사용하였습니다. (https://github.com/KLUE-benchmark/KLUE) \n",
    "- 각 문장의 동형이의어 마스크를 통과한 결과를 합해줌으로써 각 문장의 동형이의어를 대표하는 hid_dim크기의 벡터를 2개 만듭니다.\n",
    "- 2개의 벡터를 concat하여 classifier에 넣고 구분하였습니다.\n",
    "\n",
    "**실험 결과**\n",
    "- 1. **1 layer classifier** (92.54%)\n",
    "- 2. 2 layer classifier (92.11%)\n",
    "- 3. 2 layer classifier with relu (91.25%)\n",
    "- 4. 2 layer classifier with tanh (91.42%)\n",
    "\n",
    "최종적으로 layer의 복잡성을 올려도, 효과는 미미한데 학습 속도는 느려졌기 때문에 1 layer를 사용하였습니다."
   ]
  },
  {
   "cell_type": "code",
   "execution_count": 11,
   "id": "67933921",
   "metadata": {
    "colab": {
     "base_uri": "https://localhost:8080/",
     "height": 597,
     "referenced_widgets": [
      "19840fe61a604114beb024b311d4a285",
      "d12e62a316b44fd58193b59415eefb81",
      "6429cfa60438473681a12c9a934037d5",
      "1e28ee7a61424f42b5ed4dffc04c7ff5",
      "969d2acf036842479cf6d8292159844d",
      "71543a3e83d24ad0afd7fa53ffeca663",
      "1288586920f44f03b9851da656c06ef7",
      "07edb72ac5834f8d8b1bedff5d2978e6",
      "7884c320d8fc4f43a856354261972511",
      "be8b1780c4ac42faa6430167603288d7",
      "26fb45034d54460ea7c0cd16ad0cc6d2"
     ]
    },
    "executionInfo": {
     "elapsed": 542,
     "status": "ok",
     "timestamp": 1638773804392,
     "user": {
      "displayName": "­안형서 / 학생 / 전기·정보공학부",
      "photoUrl": "https://lh3.googleusercontent.com/a-/AOh14Gg2m5GEkg1AKOub_GkVdF2Ujkorj8KoGoebIxj9=s64",
      "userId": "10372927598583850844"
     },
     "user_tz": -540
    },
    "id": "d0b89d10",
    "outputId": "a1d63d5d-829e-4e11-8343-67b8f4401cf3",
    "scrolled": true
   },
   "outputs": [
    {
     "data": {
      "application/vnd.jupyter.widget-view+json": {
       "model_id": "4b1f8df553f54981b2f055f0ba48c2bd",
       "version_major": 2,
       "version_minor": 0
      },
      "text/plain": [
       "Downloading:   0%|          | 0.00/547 [00:00<?, ?B/s]"
      ]
     },
     "metadata": {},
     "output_type": "display_data"
    },
    {
     "name": "stdout",
     "output_type": "stream",
     "text": [
      "RobertaConfig {\n",
      "  \"architectures\": [\n",
      "    \"RobertaForMaskedLM\"\n",
      "  ],\n",
      "  \"attention_probs_dropout_prob\": 0.1,\n",
      "  \"bos_token_id\": 0,\n",
      "  \"classifier_dropout\": null,\n",
      "  \"eos_token_id\": 2,\n",
      "  \"gradient_checkpointing\": false,\n",
      "  \"hidden_act\": \"gelu\",\n",
      "  \"hidden_dropout_prob\": 0.1,\n",
      "  \"hidden_size\": 1024,\n",
      "  \"initializer_range\": 0.02,\n",
      "  \"intermediate_size\": 4096,\n",
      "  \"layer_norm_eps\": 1e-05,\n",
      "  \"max_position_embeddings\": 514,\n",
      "  \"model_type\": \"roberta\",\n",
      "  \"nclass\": 2,\n",
      "  \"new_tok_size\": 32004,\n",
      "  \"num_attention_heads\": 16,\n",
      "  \"num_hidden_layers\": 24,\n",
      "  \"pad_token_id\": 1,\n",
      "  \"position_embedding_type\": \"absolute\",\n",
      "  \"tokenizer_class\": \"BertTokenizer\",\n",
      "  \"transformers_version\": \"4.12.5\",\n",
      "  \"type_vocab_size\": 1,\n",
      "  \"use_cache\": true,\n",
      "  \"vocab_size\": 32000\n",
      "}\n",
      "\n"
     ]
    }
   ],
   "source": [
    "class Roberta(RobertaPreTrainedModel):\n",
    "    def __init__(self, config, model_name):\n",
    "        super(Roberta, self).__init__(config)\n",
    "        self.roberta = RobertaModel.from_pretrained(model_name, config=RobertaConfig.from_pretrained(model_name))\n",
    "        self.roberta.resize_token_embeddings(config.new_tok_size)\n",
    "        self.hdim = config.hidden_size\n",
    "        self.nclass = config.nclass\n",
    "        self.classifier = nn.Linear(self.hdim*2, self.nclass)\n",
    "        \n",
    "        #self.classifier = nn.Linear(self.hdim*2, self.hdim)\n",
    "        #self.activation = nn.ReLU()\n",
    "        #self.activation = nn.Tanh()\n",
    "        #self.classifier2 = nn.Linear(self.hdim, self.nclass) #trial\n",
    "\n",
    "    def forward(self, input_ids, attention_mask, word_mask1, word_mask2 , **kwargs):\n",
    "        outputs = self.roberta(input_ids, attention_mask=attention_mask)[0]\n",
    "        #(batch_size, sequence_length, hidden_size)\n",
    "\n",
    "        #torch.sum( word_mask1.unsqueeze(2) * outputs , dim=1 ) : word mask가 1인 부분의 embedding vector만 더해서 하나의 벡터로 만듭니다.\n",
    "        \n",
    "        h = torch.cat( [torch.sum( word_mask1.unsqueeze(2) * outputs , dim=1 ),torch.sum( word_mask2.unsqueeze(2) * outputs , dim=1 )], dim=1)\n",
    "        # (batch, hidden_size*2)\n",
    "\n",
    "        logits = self.classifier(h)\n",
    "\n",
    "        return logits\n",
    "\n",
    "\n",
    "config = RobertaConfig.from_pretrained(model_name)\n",
    "config.nclass = 2\n",
    "config.new_tok_size = len(tokenizer)\n",
    "print(config)"
   ]
  },
  {
   "cell_type": "code",
   "execution_count": 12,
   "id": "126fd76c",
   "metadata": {
    "id": "f16f6361"
   },
   "outputs": [],
   "source": [
    "def train_epoch(epoch, model, train_loader, optimizer, scheduler):\n",
    "    model.train()\n",
    "    total_loss = 0\n",
    "    cor = 0\n",
    "    n_sample = 0\n",
    "    s = time.time()\n",
    "    criterion = nn.CrossEntropyLoss()\n",
    "\n",
    "    for data, target in tqdm(train_loader):\n",
    "        item = {key: val.to(device) for key, val in data.items()}\n",
    "        target = target.to(device)\n",
    "\n",
    "        logits = model(**item)\n",
    "        loss = criterion(logits, target)\n",
    "\n",
    "        optimizer.zero_grad()\n",
    "        loss.backward()\n",
    "        optimizer.step()\n",
    "        scheduler.step()\n",
    "\n",
    "        with torch.no_grad():\n",
    "            preds = torch.argmax(logits, dim=-1)\n",
    "\n",
    "        total_loss += loss.item()\n",
    "        cor += (preds == target).sum().item()\n",
    "        n_sample += len(target)\n",
    "\n",
    "        print(f\"{cor}/{n_sample}\", end='\\r')\n",
    "\n",
    "    loss_avg = total_loss / n_sample\n",
    "    acc = cor / n_sample\n",
    "    print(\n",
    "        f\"[Epoch {epoch}] Train loss: {loss_avg:.3f}, acc: {acc*100:.2f}, time: {time.time()-s:.1f}s\"\n",
    "    )\n",
    "    return acc\n",
    "\n",
    "\n",
    "def validate(epoch, model, val_loader, verbose=True):\n",
    "    model.eval()\n",
    "    total_loss = 0\n",
    "    cor = 0\n",
    "    n_sample = 0\n",
    "    criterion = nn.CrossEntropyLoss()\n",
    "    pred_all = []\n",
    "    \n",
    "    with torch.no_grad():\n",
    "        for data, target in val_loader:\n",
    "            item = {key: val.to(device) for key, val in data.items()}\n",
    "            target = target.to(device)\n",
    "\n",
    "            logits = model(**item)\n",
    "            loss = criterion(logits, target)\n",
    "            preds = torch.argmax(logits, dim=-1)\n",
    "            pred_all.append(preds)\n",
    "\n",
    "            total_loss += loss.item()\n",
    "            cor += (preds == target).sum().item()\n",
    "            n_sample += len(target)\n",
    "\n",
    "    loss_avg = total_loss / n_sample\n",
    "    acc = cor / n_sample\n",
    "    pred_all = torch.cat(pred_all)\n",
    "    \n",
    "    if verbose:\n",
    "        print(f\"[Epoch {epoch}] Valid loss: {loss_avg:.3f}, acc: {acc*100:.2f}\")\n",
    "    return acc, pred_all\n",
    "\n",
    "\n",
    "def train(idx, num_epochs, lr, train_loader, val_loader, tokenizer):\n",
    "    print(f\"Start trining {idx}th model\")\n",
    "    model = Roberta(config, model_name).to(device)\n",
    "\n",
    "\n",
    "    optimizer = AdamW(model.parameters(), lr=lr)\n",
    "    scheduler = transformers.get_scheduler(\"linear\",\n",
    "                                           optimizer=optimizer,\n",
    "                                           num_warmup_steps=num_epochs * len(train_loader) // 10,\n",
    "                                           num_training_steps=num_epochs * len(train_loader))\n",
    "    best_acc = 0\n",
    "    for epoch in range(num_epochs):\n",
    "        train_acc = train_epoch(epoch, model, train_loader, optimizer, scheduler)\n",
    "        val_acc, _ = validate(epoch, model, val_loader)\n",
    "        if val_acc > best_acc:\n",
    "            best_acc = val_acc\n",
    "\n",
    "            model_to_save = model.module if hasattr(model, \"module\") else model\n",
    "\n",
    "            if not os.path.exists( os.path.join(save_dir, f'{idx}') ):\n",
    "                os.makedirs( os.path.join(save_dir, f'{idx}') )\n",
    "\n",
    "            model_to_save.save_pretrained(os.path.join(save_dir, f'{idx}'))\n",
    "            \n",
    "    print(f\"Training finish! Best validation accuracy: {best_acc*100:.2f}\\n\")"
   ]
  },
  {
   "cell_type": "markdown",
   "id": "09dc65d0",
   "metadata": {
    "id": "3c889cc9"
   },
   "source": [
    "### [WIC] 실행 결과 (validation: 93.31%)\n",
    " - 각 모델은 대략 91%~92.5% 정도의 결과를 보였습니다.\n",
    " - 6번 실행하여 이후에 앙상블을 사용합니다."
   ]
  },
  {
   "cell_type": "code",
   "execution_count": 13,
   "id": "0200bb66",
   "metadata": {
    "id": "ca3c1fe2"
   },
   "outputs": [],
   "source": [
    "lr = 8e-6\n",
    "num_epochs = 10\n",
    "ensen_num=6"
   ]
  },
  {
   "cell_type": "code",
   "execution_count": 14,
   "id": "cc20bfcb",
   "metadata": {
    "colab": {
     "base_uri": "https://localhost:8080/",
     "height": 510,
     "referenced_widgets": [
      "d3b1bdf0f6e94ba5a7265a60b79c1add",
      "19a03d7c4d0b497785d39b17f532c694",
      "7147b5f24c364c84b8a097d7a6e0bfcb",
      "5b3af215fef1467189bcf3c162235cfa",
      "53f4362119b64227b539544e7ca049ec",
      "f5cba34c6f0a4fd7b18b17d958079944",
      "28dae571960e4b0c990cca0b8fdc0f04",
      "d3efe9ef42b041ffb3ea83d002ea0da5",
      "66651868655747668e3ee2633d0f49f8",
      "dab704bdac3942bc8c295477a4315025",
      "e1e6cce6a138421fb878be27dea963e5",
      "d0cf925f522344ad8cf9dc9e553a70e2",
      "0273d910839844e5aa8f3b030313fe4e",
      "241f458aade249c7adfd6bcd8868ec8d",
      "c57deec5f3d44beabdb057c8f752fcac",
      "1c06cee1092e460e96cb1c147fc02368",
      "7eb8b53ba5b4424691e564e555a0a40c",
      "0b67432930374d21b224b5c9feea1db3",
      "aba079fe3e4b400bbd3e11ea0d76c82a",
      "6d5143beca1b454c86db95ae0d68d260",
      "e26271bca156464187176908cbab3bf6",
      "c1db2744cd474b39bacbaf530ecd9c7f",
      "7ca3c68aff554e9f8b0a2c726c454232",
      "b9b24d3425364d99a154aa72bc778a6f",
      "64f4f54b340840649c2044f16b6e5792",
      "e4a93db66e6b4ea98cec35517050eb60",
      "44a53774cf7c43ef83ce85303bc57bc4",
      "9af0b5d4478d485cb2645135e8e36e8b",
      "1ae8b58334ab4845ad0a305b9bc40e7c",
      "ba611529b4e14f32ac04bdc51a08d6f9",
      "2c8850e42b124e20be35f231d2afb0fa",
      "79ab8c8b6b1240a6980e5f9e385b7977",
      "ba6a5bd87dae4461bdba265cdfced139",
      "e577cbc799874e3bb59b8bcabc13f332",
      "b9ec8a0e0259454ab2f15081604c0234",
      "7a348cb05a4745c3a87f4c9f17f9cae7",
      "f73f92181ec34432a72c68238c2e7ecf",
      "52b036d6d2e8441b939f87f659854669",
      "14d612f32efe408fbf245aea1dbf5dcb",
      "de2ba0cc7b0641d5bc1de689b4386f69",
      "f613429862bc4c068f822f1650341495",
      "d5187f8a77b442e69fc10607531f54da",
      "4643c81468c4402aa9942756abf8c255",
      "35ce95bf746c4b839b11ce8a7e0d6288",
      "52f8a8a874374bacad31ec7622255fef",
      "5e23cc8c4c664712b30a97f7a0e30c86",
      "267781abe5d84ebba9c2140c1fa25fd2",
      "b9dbd52d5b5f4a1aab16e453f786158e",
      "035ebf00ccb1451cafebd1b667a031fd",
      "533274a1bf094fc3932726ba20e96904",
      "8003e932b98141ffbc4dacd3cb31d1a9",
      "c7eee685d6b0494d95256a633ea92a99",
      "3224c4d939444fee89884088c584d26a",
      "cf05cd3748ae4fe8b4b8c42277592f64",
      "7cb7662881ef4c9f80e14ef88e4b71d7",
      "b5171a1a6c904f9d92e3361982c6c35d",
      "935e73e96b1a44aebab2a282685d734e",
      "d0e9707bdba2415bacd070939de7da7c",
      "d22ac7e4aca04cd4b529b62786ef40a9",
      "fd93747567734f7a897a2ed48c29c0c4",
      "0b7f14ea012d4ea7a61e51d984e89f5a",
      "99df3a6e1477474c8c5ada7c433fc454",
      "57eae92a0ad84ae68adf7bbfec56eba6",
      "3a8a58f207e748418921cc1dcfce6b9b",
      "3c0521a988364faeb7a8aa21fe5194d0",
      "3251f61e5dc1421788b3bd7b00549f4c",
      "e7d1dc50e5254255a12293c618a5bdf9",
      "254cf2aa3cea40a680b3d0c6452c1798",
      "396928f391b4403f8a17ab0d0215ac52",
      "27c074c9345046c08b43db36a0e6ce94",
      "94e2bd93a26c4fc69e17e2c7f9b54639",
      "59405b18b4f74710bc48919bb43ef000",
      "750730f99f8541f692029584273d36b3",
      "1fb23fa10ef44967a63c2bed8361879c",
      "c73c339fa3e84ce39fb0d9e920dd404c",
      "842c57f9cdba48d5853c346c9363cc72",
      "657399d477d741479d2d5c06a95228c6",
      "f2a93aec43214930862fb34b102142c2",
      "82ac3bc75c584fe6964052fe70b1fc56",
      "3a939d72e5f84cf98796046c663ed093",
      "1a24799f318e477e93747d545260cc48",
      "8856be9a74014a2bb86a2f96d7b64df8",
      "187443649b7e440d9de529c5a40b4ea3",
      "e56a8095076e4812ba602f97b3102753",
      "67d82c14f5cf4cab802bbae68e7662e6",
      "d0f3e6e190764ab2a5b82633bc1d0424",
      "09832ebc74614364ac1d38b2639d71ce",
      "dc28547cf16847549318685291badcc4"
     ]
    },
    "id": "17295cee",
    "outputId": "fa0092bb-957b-4803-8c62-5928f270a298",
    "scrolled": true
   },
   "outputs": [
    {
     "name": "stdout",
     "output_type": "stream",
     "text": [
      "Start trining 0th model\n"
     ]
    },
    {
     "data": {
      "application/vnd.jupyter.widget-view+json": {
       "model_id": "d89fd550b0aa40c9abacc9eca6cca224",
       "version_major": 2,
       "version_minor": 0
      },
      "text/plain": [
       "Downloading:   0%|          | 0.00/1.25G [00:00<?, ?B/s]"
      ]
     },
     "metadata": {},
     "output_type": "display_data"
    },
    {
     "data": {
      "application/vnd.jupyter.widget-view+json": {
       "model_id": "2874c08b6b7a4babbe03aa2f21c9ef9c",
       "version_major": 2,
       "version_minor": 0
      },
      "text/plain": [
       "  0%|          | 0/1937 [00:00<?, ?it/s]"
      ]
     },
     "metadata": {},
     "output_type": "display_data"
    },
    {
     "name": "stdout",
     "output_type": "stream",
     "text": [
      "[Epoch 0] Train loss: 0.127, acc: 73.70, time: 429.8s\n",
      "[Epoch 0] Valid loss: 0.084, acc: 87.82\n"
     ]
    },
    {
     "data": {
      "application/vnd.jupyter.widget-view+json": {
       "model_id": "e61979c5e38a46cbac2be9172102cd2d",
       "version_major": 2,
       "version_minor": 0
      },
      "text/plain": [
       "  0%|          | 0/1937 [00:00<?, ?it/s]"
      ]
     },
     "metadata": {},
     "output_type": "display_data"
    },
    {
     "name": "stdout",
     "output_type": "stream",
     "text": [
      "[Epoch 1] Train loss: 0.064, acc: 90.49, time: 429.7s\n",
      "[Epoch 1] Valid loss: 0.071, acc: 88.16\n"
     ]
    },
    {
     "data": {
      "application/vnd.jupyter.widget-view+json": {
       "model_id": "cc713e012b624765999b05b7f4029ce1",
       "version_major": 2,
       "version_minor": 0
      },
      "text/plain": [
       "  0%|          | 0/1937 [00:00<?, ?it/s]"
      ]
     },
     "metadata": {},
     "output_type": "display_data"
    },
    {
     "name": "stdout",
     "output_type": "stream",
     "text": [
      "[Epoch 2] Train loss: 0.026, acc: 96.32, time: 429.9s\n",
      "[Epoch 2] Valid loss: 0.073, acc: 91.17\n"
     ]
    },
    {
     "data": {
      "application/vnd.jupyter.widget-view+json": {
       "model_id": "f54b6be1277146968e8482ab10a12566",
       "version_major": 2,
       "version_minor": 0
      },
      "text/plain": [
       "  0%|          | 0/1937 [00:00<?, ?it/s]"
      ]
     },
     "metadata": {},
     "output_type": "display_data"
    },
    {
     "name": "stdout",
     "output_type": "stream",
     "text": [
      "[Epoch 3] Train loss: 0.012, acc: 98.46, time: 430.1s\n",
      "[Epoch 3] Valid loss: 0.093, acc: 90.14\n"
     ]
    },
    {
     "data": {
      "application/vnd.jupyter.widget-view+json": {
       "model_id": "303ff099993b4dc08125ba67cc4e7932",
       "version_major": 2,
       "version_minor": 0
      },
      "text/plain": [
       "  0%|          | 0/1937 [00:00<?, ?it/s]"
      ]
     },
     "metadata": {},
     "output_type": "display_data"
    },
    {
     "name": "stdout",
     "output_type": "stream",
     "text": [
      "[Epoch 4] Train loss: 0.007, acc: 99.01, time: 429.5s\n",
      "[Epoch 4] Valid loss: 0.090, acc: 91.25\n"
     ]
    },
    {
     "data": {
      "application/vnd.jupyter.widget-view+json": {
       "model_id": "bd67f7141e73402bb3195af744b89c78",
       "version_major": 2,
       "version_minor": 0
      },
      "text/plain": [
       "  0%|          | 0/1937 [00:00<?, ?it/s]"
      ]
     },
     "metadata": {},
     "output_type": "display_data"
    },
    {
     "name": "stdout",
     "output_type": "stream",
     "text": [
      "[Epoch 5] Train loss: 0.005, acc: 99.48, time: 432.8s\n",
      "[Epoch 5] Valid loss: 0.106, acc: 90.91\n"
     ]
    },
    {
     "data": {
      "application/vnd.jupyter.widget-view+json": {
       "model_id": "18dd2c480fb6486eb962dc1496d33be9",
       "version_major": 2,
       "version_minor": 0
      },
      "text/plain": [
       "  0%|          | 0/1937 [00:00<?, ?it/s]"
      ]
     },
     "metadata": {},
     "output_type": "display_data"
    },
    {
     "name": "stdout",
     "output_type": "stream",
     "text": [
      "[Epoch 6] Train loss: 0.002, acc: 99.81, time: 432.7s\n",
      "[Epoch 6] Valid loss: 0.117, acc: 91.42\n"
     ]
    },
    {
     "data": {
      "application/vnd.jupyter.widget-view+json": {
       "model_id": "8d79871230ad4ac49954124a993235e6",
       "version_major": 2,
       "version_minor": 0
      },
      "text/plain": [
       "  0%|          | 0/1937 [00:00<?, ?it/s]"
      ]
     },
     "metadata": {},
     "output_type": "display_data"
    },
    {
     "name": "stdout",
     "output_type": "stream",
     "text": [
      "[Epoch 7] Train loss: 0.001, acc: 99.91, time: 432.9s\n",
      "[Epoch 7] Valid loss: 0.133, acc: 92.02\n"
     ]
    },
    {
     "data": {
      "application/vnd.jupyter.widget-view+json": {
       "model_id": "8be21a53ecdd4a709bf2bd23dc682427",
       "version_major": 2,
       "version_minor": 0
      },
      "text/plain": [
       "  0%|          | 0/1937 [00:00<?, ?it/s]"
      ]
     },
     "metadata": {},
     "output_type": "display_data"
    },
    {
     "name": "stdout",
     "output_type": "stream",
     "text": [
      "[Epoch 8] Train loss: 0.000, acc: 99.99, time: 433.2s\n",
      "[Epoch 8] Valid loss: 0.148, acc: 92.28\n"
     ]
    },
    {
     "data": {
      "application/vnd.jupyter.widget-view+json": {
       "model_id": "5a1aefeab5744998867341a81992e531",
       "version_major": 2,
       "version_minor": 0
      },
      "text/plain": [
       "  0%|          | 0/1937 [00:00<?, ?it/s]"
      ]
     },
     "metadata": {},
     "output_type": "display_data"
    },
    {
     "name": "stdout",
     "output_type": "stream",
     "text": [
      "[Epoch 9] Train loss: 0.001, acc: 99.94, time: 432.8s\n",
      "[Epoch 9] Valid loss: 0.142, acc: 92.28\n",
      "Training finish! Best validation accuracy: 92.28\n",
      "\n",
      "Start trining 1th model\n"
     ]
    },
    {
     "data": {
      "application/vnd.jupyter.widget-view+json": {
       "model_id": "ea14b1cd102b42ec8678f14f52a09376",
       "version_major": 2,
       "version_minor": 0
      },
      "text/plain": [
       "  0%|          | 0/1937 [00:00<?, ?it/s]"
      ]
     },
     "metadata": {},
     "output_type": "display_data"
    },
    {
     "name": "stdout",
     "output_type": "stream",
     "text": [
      "[Epoch 0] Train loss: 0.127, acc: 72.66, time: 432.9s\n",
      "[Epoch 0] Valid loss: 0.085, acc: 85.42\n"
     ]
    },
    {
     "data": {
      "application/vnd.jupyter.widget-view+json": {
       "model_id": "c3cec1e916fc494bb3b7a307eaa882ef",
       "version_major": 2,
       "version_minor": 0
      },
      "text/plain": [
       "  0%|          | 0/1937 [00:00<?, ?it/s]"
      ]
     },
     "metadata": {},
     "output_type": "display_data"
    },
    {
     "name": "stdout",
     "output_type": "stream",
     "text": [
      "[Epoch 1] Train loss: 0.057, acc: 91.29, time: 433.7s\n",
      "[Epoch 1] Valid loss: 0.076, acc: 88.59\n"
     ]
    },
    {
     "data": {
      "application/vnd.jupyter.widget-view+json": {
       "model_id": "b564110e02aa4ef1b3ff35f24784cd78",
       "version_major": 2,
       "version_minor": 0
      },
      "text/plain": [
       "  0%|          | 0/1937 [00:00<?, ?it/s]"
      ]
     },
     "metadata": {},
     "output_type": "display_data"
    },
    {
     "name": "stdout",
     "output_type": "stream",
     "text": [
      "[Epoch 2] Train loss: 0.021, acc: 97.11, time: 433.5s\n",
      "[Epoch 2] Valid loss: 0.069, acc: 90.22\n"
     ]
    },
    {
     "data": {
      "application/vnd.jupyter.widget-view+json": {
       "model_id": "5b3707cb2510427b97addb3f3b5dea14",
       "version_major": 2,
       "version_minor": 0
      },
      "text/plain": [
       "  0%|          | 0/1937 [00:00<?, ?it/s]"
      ]
     },
     "metadata": {},
     "output_type": "display_data"
    },
    {
     "name": "stdout",
     "output_type": "stream",
     "text": [
      "[Epoch 3] Train loss: 0.011, acc: 98.66, time: 432.9s\n",
      "[Epoch 3] Valid loss: 0.103, acc: 88.85\n"
     ]
    },
    {
     "data": {
      "application/vnd.jupyter.widget-view+json": {
       "model_id": "6d5984a260804193b0e34fad6e9de82a",
       "version_major": 2,
       "version_minor": 0
      },
      "text/plain": [
       "  0%|          | 0/1937 [00:00<?, ?it/s]"
      ]
     },
     "metadata": {},
     "output_type": "display_data"
    },
    {
     "name": "stdout",
     "output_type": "stream",
     "text": [
      "[Epoch 4] Train loss: 0.006, acc: 99.37, time: 433.1s\n",
      "[Epoch 4] Valid loss: 0.104, acc: 90.82\n"
     ]
    },
    {
     "data": {
      "application/vnd.jupyter.widget-view+json": {
       "model_id": "2ed1382514a844908ddc2d0a67a9e379",
       "version_major": 2,
       "version_minor": 0
      },
      "text/plain": [
       "  0%|          | 0/1937 [00:00<?, ?it/s]"
      ]
     },
     "metadata": {},
     "output_type": "display_data"
    },
    {
     "name": "stdout",
     "output_type": "stream",
     "text": [
      "[Epoch 5] Train loss: 0.004, acc: 99.57, time: 433.3s\n",
      "[Epoch 5] Valid loss: 0.089, acc: 90.91\n"
     ]
    },
    {
     "data": {
      "application/vnd.jupyter.widget-view+json": {
       "model_id": "6219f36b65794bd2bd78d82a79c33b67",
       "version_major": 2,
       "version_minor": 0
      },
      "text/plain": [
       "  0%|          | 0/1937 [00:00<?, ?it/s]"
      ]
     },
     "metadata": {},
     "output_type": "display_data"
    },
    {
     "name": "stdout",
     "output_type": "stream",
     "text": [
      "[Epoch 6] Train loss: 0.002, acc: 99.81, time: 432.8s\n",
      "[Epoch 6] Valid loss: 0.101, acc: 92.54\n"
     ]
    },
    {
     "data": {
      "application/vnd.jupyter.widget-view+json": {
       "model_id": "e70d34089a524be290989634a5153ce7",
       "version_major": 2,
       "version_minor": 0
      },
      "text/plain": [
       "  0%|          | 0/1937 [00:00<?, ?it/s]"
      ]
     },
     "metadata": {},
     "output_type": "display_data"
    },
    {
     "name": "stdout",
     "output_type": "stream",
     "text": [
      "[Epoch 7] Train loss: 0.000, acc: 99.95, time: 433.1s\n",
      "[Epoch 7] Valid loss: 0.130, acc: 91.60\n"
     ]
    },
    {
     "data": {
      "application/vnd.jupyter.widget-view+json": {
       "model_id": "48c73f74f7ff4f7a8a1e016c1d47d043",
       "version_major": 2,
       "version_minor": 0
      },
      "text/plain": [
       "  0%|          | 0/1937 [00:00<?, ?it/s]"
      ]
     },
     "metadata": {},
     "output_type": "display_data"
    },
    {
     "name": "stdout",
     "output_type": "stream",
     "text": [
      "[Epoch 8] Train loss: 0.001, acc: 99.94, time: 433.1s\n",
      "[Epoch 8] Valid loss: 0.140, acc: 91.60\n"
     ]
    },
    {
     "data": {
      "application/vnd.jupyter.widget-view+json": {
       "model_id": "b217e14e7e7e4e72a26badedce62fe5b",
       "version_major": 2,
       "version_minor": 0
      },
      "text/plain": [
       "  0%|          | 0/1937 [00:00<?, ?it/s]"
      ]
     },
     "metadata": {},
     "output_type": "display_data"
    },
    {
     "name": "stdout",
     "output_type": "stream",
     "text": [
      "[Epoch 9] Train loss: 0.000, acc: 99.99, time: 433.3s\n",
      "[Epoch 9] Valid loss: 0.130, acc: 92.20\n",
      "Training finish! Best validation accuracy: 92.54\n",
      "\n",
      "Start trining 2th model\n"
     ]
    },
    {
     "data": {
      "application/vnd.jupyter.widget-view+json": {
       "model_id": "1fee06c73879420bbd828ad53751657f",
       "version_major": 2,
       "version_minor": 0
      },
      "text/plain": [
       "  0%|          | 0/1937 [00:00<?, ?it/s]"
      ]
     },
     "metadata": {},
     "output_type": "display_data"
    },
    {
     "name": "stdout",
     "output_type": "stream",
     "text": [
      "[Epoch 0] Train loss: 0.130, acc: 72.73, time: 433.2s\n",
      "[Epoch 0] Valid loss: 0.091, acc: 84.73\n"
     ]
    },
    {
     "data": {
      "application/vnd.jupyter.widget-view+json": {
       "model_id": "7c80ed1ccd75494c9829475ec2d8fe47",
       "version_major": 2,
       "version_minor": 0
      },
      "text/plain": [
       "  0%|          | 0/1937 [00:00<?, ?it/s]"
      ]
     },
     "metadata": {},
     "output_type": "display_data"
    },
    {
     "name": "stdout",
     "output_type": "stream",
     "text": [
      "[Epoch 1] Train loss: 0.056, acc: 91.62, time: 433.4s\n",
      "[Epoch 1] Valid loss: 0.071, acc: 88.34\n"
     ]
    },
    {
     "data": {
      "application/vnd.jupyter.widget-view+json": {
       "model_id": "4ead3a2aa4804807b4010288d45408a2",
       "version_major": 2,
       "version_minor": 0
      },
      "text/plain": [
       "  0%|          | 0/1937 [00:00<?, ?it/s]"
      ]
     },
     "metadata": {},
     "output_type": "display_data"
    },
    {
     "name": "stdout",
     "output_type": "stream",
     "text": [
      "[Epoch 2] Train loss: 0.022, acc: 97.02, time: 433.3s\n",
      "[Epoch 2] Valid loss: 0.079, acc: 90.14\n"
     ]
    },
    {
     "data": {
      "application/vnd.jupyter.widget-view+json": {
       "model_id": "8a7f0c68bc384db99e9265b41cc1b88a",
       "version_major": 2,
       "version_minor": 0
      },
      "text/plain": [
       "  0%|          | 0/1937 [00:00<?, ?it/s]"
      ]
     },
     "metadata": {},
     "output_type": "display_data"
    },
    {
     "name": "stdout",
     "output_type": "stream",
     "text": [
      "[Epoch 3] Train loss: 0.010, acc: 98.50, time: 433.1s\n",
      "[Epoch 3] Valid loss: 0.096, acc: 90.31\n"
     ]
    },
    {
     "data": {
      "application/vnd.jupyter.widget-view+json": {
       "model_id": "77e845d19eac43dabba191d1b4bb7109",
       "version_major": 2,
       "version_minor": 0
      },
      "text/plain": [
       "  0%|          | 0/1937 [00:00<?, ?it/s]"
      ]
     },
     "metadata": {},
     "output_type": "display_data"
    },
    {
     "name": "stdout",
     "output_type": "stream",
     "text": [
      "[Epoch 4] Train loss: 0.006, acc: 99.16, time: 433.2s\n",
      "[Epoch 4] Valid loss: 0.095, acc: 91.08\n"
     ]
    },
    {
     "data": {
      "application/vnd.jupyter.widget-view+json": {
       "model_id": "f49118cc62994f89a5f3d12562730e6f",
       "version_major": 2,
       "version_minor": 0
      },
      "text/plain": [
       "  0%|          | 0/1937 [00:00<?, ?it/s]"
      ]
     },
     "metadata": {},
     "output_type": "display_data"
    },
    {
     "name": "stdout",
     "output_type": "stream",
     "text": [
      "[Epoch 5] Train loss: 0.003, acc: 99.64, time: 434.0s\n",
      "[Epoch 5] Valid loss: 0.121, acc: 90.48\n"
     ]
    },
    {
     "data": {
      "application/vnd.jupyter.widget-view+json": {
       "model_id": "2119d07f727940a398970b51cc460863",
       "version_major": 2,
       "version_minor": 0
      },
      "text/plain": [
       "  0%|          | 0/1937 [00:00<?, ?it/s]"
      ]
     },
     "metadata": {},
     "output_type": "display_data"
    },
    {
     "name": "stdout",
     "output_type": "stream",
     "text": [
      "[Epoch 6] Train loss: 0.002, acc: 99.74, time: 433.7s\n",
      "[Epoch 6] Valid loss: 0.107, acc: 91.17\n"
     ]
    },
    {
     "data": {
      "application/vnd.jupyter.widget-view+json": {
       "model_id": "985715dc3d254924b7b870dd4706141e",
       "version_major": 2,
       "version_minor": 0
      },
      "text/plain": [
       "  0%|          | 0/1937 [00:00<?, ?it/s]"
      ]
     },
     "metadata": {},
     "output_type": "display_data"
    },
    {
     "name": "stdout",
     "output_type": "stream",
     "text": [
      "[Epoch 7] Train loss: 0.002, acc: 99.83, time: 433.5s\n",
      "[Epoch 7] Valid loss: 0.114, acc: 91.85\n"
     ]
    },
    {
     "data": {
      "application/vnd.jupyter.widget-view+json": {
       "model_id": "e5439f4817194d58b89b8e4866935b58",
       "version_major": 2,
       "version_minor": 0
      },
      "text/plain": [
       "  0%|          | 0/1937 [00:00<?, ?it/s]"
      ]
     },
     "metadata": {},
     "output_type": "display_data"
    },
    {
     "name": "stdout",
     "output_type": "stream",
     "text": [
      "[Epoch 8] Train loss: 0.000, acc: 100.00, time: 433.7s\n",
      "[Epoch 8] Valid loss: 0.128, acc: 92.11\n"
     ]
    },
    {
     "data": {
      "application/vnd.jupyter.widget-view+json": {
       "model_id": "e43d28cbd14c464c9fe46ccea8ab496b",
       "version_major": 2,
       "version_minor": 0
      },
      "text/plain": [
       "  0%|          | 0/1937 [00:00<?, ?it/s]"
      ]
     },
     "metadata": {},
     "output_type": "display_data"
    },
    {
     "name": "stdout",
     "output_type": "stream",
     "text": [
      "[Epoch 9] Train loss: 0.000, acc: 99.96, time: 433.2s\n",
      "[Epoch 9] Valid loss: 0.134, acc: 91.94\n",
      "Training finish! Best validation accuracy: 92.11\n",
      "\n",
      "Start trining 3th model\n"
     ]
    },
    {
     "data": {
      "application/vnd.jupyter.widget-view+json": {
       "model_id": "6f727d6fb44e47e3a43291a017147cce",
       "version_major": 2,
       "version_minor": 0
      },
      "text/plain": [
       "  0%|          | 0/1937 [00:00<?, ?it/s]"
      ]
     },
     "metadata": {},
     "output_type": "display_data"
    },
    {
     "name": "stdout",
     "output_type": "stream",
     "text": [
      "[Epoch 0] Train loss: 0.126, acc: 73.52, time: 434.0s\n",
      "[Epoch 0] Valid loss: 0.076, acc: 87.99\n"
     ]
    },
    {
     "data": {
      "application/vnd.jupyter.widget-view+json": {
       "model_id": "da4f07e195dd4c4688e37c0106616c14",
       "version_major": 2,
       "version_minor": 0
      },
      "text/plain": [
       "  0%|          | 0/1937 [00:00<?, ?it/s]"
      ]
     },
     "metadata": {},
     "output_type": "display_data"
    },
    {
     "name": "stdout",
     "output_type": "stream",
     "text": [
      "[Epoch 1] Train loss: 0.059, acc: 90.95, time: 433.2s\n",
      "[Epoch 1] Valid loss: 0.070, acc: 89.62\n"
     ]
    },
    {
     "data": {
      "application/vnd.jupyter.widget-view+json": {
       "model_id": "5e89fe2bf4884116a6296c6be41fb690",
       "version_major": 2,
       "version_minor": 0
      },
      "text/plain": [
       "  0%|          | 0/1937 [00:00<?, ?it/s]"
      ]
     },
     "metadata": {},
     "output_type": "display_data"
    },
    {
     "name": "stdout",
     "output_type": "stream",
     "text": [
      "[Epoch 2] Train loss: 0.023, acc: 96.77, time: 433.9s\n",
      "[Epoch 2] Valid loss: 0.076, acc: 90.22\n"
     ]
    },
    {
     "data": {
      "application/vnd.jupyter.widget-view+json": {
       "model_id": "f5dfda0cddfa4fb38cd15d6c63efa1c5",
       "version_major": 2,
       "version_minor": 0
      },
      "text/plain": [
       "  0%|          | 0/1937 [00:00<?, ?it/s]"
      ]
     },
     "metadata": {},
     "output_type": "display_data"
    },
    {
     "name": "stdout",
     "output_type": "stream",
     "text": [
      "[Epoch 3] Train loss: 0.013, acc: 98.26, time: 433.5s\n",
      "[Epoch 3] Valid loss: 0.132, acc: 88.25\n"
     ]
    },
    {
     "data": {
      "application/vnd.jupyter.widget-view+json": {
       "model_id": "3ad065d4c47941e99fdd9c8138791e8a",
       "version_major": 2,
       "version_minor": 0
      },
      "text/plain": [
       "  0%|          | 0/1937 [00:00<?, ?it/s]"
      ]
     },
     "metadata": {},
     "output_type": "display_data"
    },
    {
     "name": "stdout",
     "output_type": "stream",
     "text": [
      "[Epoch 4] Train loss: 0.007, acc: 99.04, time: 433.3s\n",
      "[Epoch 4] Valid loss: 0.072, acc: 91.42\n"
     ]
    },
    {
     "data": {
      "application/vnd.jupyter.widget-view+json": {
       "model_id": "8f91442d5c08493a88230d1eb4dde94d",
       "version_major": 2,
       "version_minor": 0
      },
      "text/plain": [
       "  0%|          | 0/1937 [00:00<?, ?it/s]"
      ]
     },
     "metadata": {},
     "output_type": "display_data"
    },
    {
     "name": "stdout",
     "output_type": "stream",
     "text": [
      "[Epoch 5] Train loss: 0.003, acc: 99.65, time: 434.6s\n",
      "[Epoch 5] Valid loss: 0.127, acc: 90.82\n"
     ]
    },
    {
     "data": {
      "application/vnd.jupyter.widget-view+json": {
       "model_id": "6f29546d922440e895e2179ef2e4b40c",
       "version_major": 2,
       "version_minor": 0
      },
      "text/plain": [
       "  0%|          | 0/1937 [00:00<?, ?it/s]"
      ]
     },
     "metadata": {},
     "output_type": "display_data"
    },
    {
     "name": "stdout",
     "output_type": "stream",
     "text": [
      "[Epoch 6] Train loss: 0.002, acc: 99.73, time: 433.4s\n",
      "[Epoch 6] Valid loss: 0.166, acc: 87.82\n"
     ]
    },
    {
     "data": {
      "application/vnd.jupyter.widget-view+json": {
       "model_id": "8615ff6888d64417a5e21f3229d1cb48",
       "version_major": 2,
       "version_minor": 0
      },
      "text/plain": [
       "  0%|          | 0/1937 [00:00<?, ?it/s]"
      ]
     },
     "metadata": {},
     "output_type": "display_data"
    },
    {
     "name": "stdout",
     "output_type": "stream",
     "text": [
      "[Epoch 7] Train loss: 0.001, acc: 99.86, time: 433.6s\n",
      "[Epoch 7] Valid loss: 0.122, acc: 90.74\n"
     ]
    },
    {
     "data": {
      "application/vnd.jupyter.widget-view+json": {
       "model_id": "b481ee89a4cc4246ad21d46874551732",
       "version_major": 2,
       "version_minor": 0
      },
      "text/plain": [
       "  0%|          | 0/1937 [00:00<?, ?it/s]"
      ]
     },
     "metadata": {},
     "output_type": "display_data"
    },
    {
     "name": "stdout",
     "output_type": "stream",
     "text": [
      "[Epoch 8] Train loss: 0.001, acc: 99.92, time: 433.9s\n",
      "[Epoch 8] Valid loss: 0.118, acc: 92.20\n"
     ]
    },
    {
     "data": {
      "application/vnd.jupyter.widget-view+json": {
       "model_id": "96587f7e74c14ce188c56fbd2f811f6e",
       "version_major": 2,
       "version_minor": 0
      },
      "text/plain": [
       "  0%|          | 0/1937 [00:00<?, ?it/s]"
      ]
     },
     "metadata": {},
     "output_type": "display_data"
    },
    {
     "name": "stdout",
     "output_type": "stream",
     "text": [
      "[Epoch 9] Train loss: 0.000, acc: 99.94, time: 433.7s\n",
      "[Epoch 9] Valid loss: 0.122, acc: 92.11\n",
      "Training finish! Best validation accuracy: 92.20\n",
      "\n",
      "Start trining 4th model\n"
     ]
    },
    {
     "data": {
      "application/vnd.jupyter.widget-view+json": {
       "model_id": "92703d6141de4410b9892bb84c9e40e6",
       "version_major": 2,
       "version_minor": 0
      },
      "text/plain": [
       "  0%|          | 0/1937 [00:00<?, ?it/s]"
      ]
     },
     "metadata": {},
     "output_type": "display_data"
    },
    {
     "name": "stdout",
     "output_type": "stream",
     "text": [
      "[Epoch 0] Train loss: 0.126, acc: 74.42, time: 432.7s\n",
      "[Epoch 0] Valid loss: 0.085, acc: 84.56\n"
     ]
    },
    {
     "data": {
      "application/vnd.jupyter.widget-view+json": {
       "model_id": "a8b138731dcf4c00bbcd482437d7a8c1",
       "version_major": 2,
       "version_minor": 0
      },
      "text/plain": [
       "  0%|          | 0/1937 [00:00<?, ?it/s]"
      ]
     },
     "metadata": {},
     "output_type": "display_data"
    },
    {
     "name": "stdout",
     "output_type": "stream",
     "text": [
      "[Epoch 1] Train loss: 0.058, acc: 91.34, time: 433.5s\n",
      "[Epoch 1] Valid loss: 0.064, acc: 89.88\n"
     ]
    },
    {
     "data": {
      "application/vnd.jupyter.widget-view+json": {
       "model_id": "ebb2d17f0dd5404ea2b62773d735dfc3",
       "version_major": 2,
       "version_minor": 0
      },
      "text/plain": [
       "  0%|          | 0/1937 [00:00<?, ?it/s]"
      ]
     },
     "metadata": {},
     "output_type": "display_data"
    },
    {
     "name": "stdout",
     "output_type": "stream",
     "text": [
      "[Epoch 2] Train loss: 0.022, acc: 96.97, time: 432.9s\n",
      "[Epoch 2] Valid loss: 0.062, acc: 90.74\n"
     ]
    },
    {
     "data": {
      "application/vnd.jupyter.widget-view+json": {
       "model_id": "122617d25d424df9b529ce60914dc9f9",
       "version_major": 2,
       "version_minor": 0
      },
      "text/plain": [
       "  0%|          | 0/1937 [00:00<?, ?it/s]"
      ]
     },
     "metadata": {},
     "output_type": "display_data"
    },
    {
     "name": "stdout",
     "output_type": "stream",
     "text": [
      "[Epoch 3] Train loss: 0.011, acc: 98.70, time: 433.6s\n",
      "[Epoch 3] Valid loss: 0.079, acc: 91.51\n"
     ]
    },
    {
     "data": {
      "application/vnd.jupyter.widget-view+json": {
       "model_id": "a3f891e1b0f34f1ba0e994cb59b1d175",
       "version_major": 2,
       "version_minor": 0
      },
      "text/plain": [
       "  0%|          | 0/1937 [00:00<?, ?it/s]"
      ]
     },
     "metadata": {},
     "output_type": "display_data"
    },
    {
     "name": "stdout",
     "output_type": "stream",
     "text": [
      "[Epoch 4] Train loss: 0.007, acc: 99.06, time: 433.2s\n",
      "[Epoch 4] Valid loss: 0.077, acc: 91.25\n"
     ]
    },
    {
     "data": {
      "application/vnd.jupyter.widget-view+json": {
       "model_id": "139b7bb2624e4b8d95aadf3714e2594d",
       "version_major": 2,
       "version_minor": 0
      },
      "text/plain": [
       "  0%|          | 0/1937 [00:00<?, ?it/s]"
      ]
     },
     "metadata": {},
     "output_type": "display_data"
    },
    {
     "name": "stdout",
     "output_type": "stream",
     "text": [
      "[Epoch 5] Train loss: 0.003, acc: 99.54, time: 433.6s\n",
      "[Epoch 5] Valid loss: 0.106, acc: 91.08\n"
     ]
    },
    {
     "data": {
      "application/vnd.jupyter.widget-view+json": {
       "model_id": "f1d088cd2256458d887e0b0f972f2d8d",
       "version_major": 2,
       "version_minor": 0
      },
      "text/plain": [
       "  0%|          | 0/1937 [00:00<?, ?it/s]"
      ]
     },
     "metadata": {},
     "output_type": "display_data"
    },
    {
     "name": "stdout",
     "output_type": "stream",
     "text": [
      "[Epoch 6] Train loss: 0.002, acc: 99.73, time: 433.4s\n",
      "[Epoch 6] Valid loss: 0.113, acc: 91.60\n"
     ]
    },
    {
     "data": {
      "application/vnd.jupyter.widget-view+json": {
       "model_id": "de1da58a9050426fbb8ee5233092d070",
       "version_major": 2,
       "version_minor": 0
      },
      "text/plain": [
       "  0%|          | 0/1937 [00:00<?, ?it/s]"
      ]
     },
     "metadata": {},
     "output_type": "display_data"
    },
    {
     "name": "stdout",
     "output_type": "stream",
     "text": [
      "[Epoch 7] Train loss: 0.001, acc: 99.88, time: 432.9s\n",
      "[Epoch 7] Valid loss: 0.108, acc: 92.02\n"
     ]
    },
    {
     "data": {
      "application/vnd.jupyter.widget-view+json": {
       "model_id": "d2fea51416024b83af4689a173305b1c",
       "version_major": 2,
       "version_minor": 0
      },
      "text/plain": [
       "  0%|          | 0/1937 [00:00<?, ?it/s]"
      ]
     },
     "metadata": {},
     "output_type": "display_data"
    },
    {
     "name": "stdout",
     "output_type": "stream",
     "text": [
      "[Epoch 8] Train loss: 0.000, acc: 99.94, time: 433.9s\n",
      "[Epoch 8] Valid loss: 0.119, acc: 92.28\n"
     ]
    },
    {
     "data": {
      "application/vnd.jupyter.widget-view+json": {
       "model_id": "b9f538c5739e413e885688383a2283b3",
       "version_major": 2,
       "version_minor": 0
      },
      "text/plain": [
       "  0%|          | 0/1937 [00:00<?, ?it/s]"
      ]
     },
     "metadata": {},
     "output_type": "display_data"
    },
    {
     "name": "stdout",
     "output_type": "stream",
     "text": [
      "[Epoch 9] Train loss: 0.000, acc: 99.97, time: 433.4s\n",
      "[Epoch 9] Valid loss: 0.125, acc: 92.28\n",
      "Training finish! Best validation accuracy: 92.28\n",
      "\n",
      "Start trining 5th model\n"
     ]
    },
    {
     "data": {
      "application/vnd.jupyter.widget-view+json": {
       "model_id": "ca6de97b072b4055a9f72338a985183e",
       "version_major": 2,
       "version_minor": 0
      },
      "text/plain": [
       "  0%|          | 0/1937 [00:00<?, ?it/s]"
      ]
     },
     "metadata": {},
     "output_type": "display_data"
    },
    {
     "name": "stdout",
     "output_type": "stream",
     "text": [
      "[Epoch 0] Train loss: 0.129, acc: 72.23, time: 433.1s\n",
      "[Epoch 0] Valid loss: 0.111, acc: 80.02\n"
     ]
    },
    {
     "data": {
      "application/vnd.jupyter.widget-view+json": {
       "model_id": "23dc70674d5f49ce844b8a70b6293a4e",
       "version_major": 2,
       "version_minor": 0
      },
      "text/plain": [
       "  0%|          | 0/1937 [00:00<?, ?it/s]"
      ]
     },
     "metadata": {},
     "output_type": "display_data"
    },
    {
     "name": "stdout",
     "output_type": "stream",
     "text": [
      "[Epoch 1] Train loss: 0.058, acc: 91.21, time: 433.8s\n",
      "[Epoch 1] Valid loss: 0.059, acc: 90.14\n"
     ]
    },
    {
     "data": {
      "application/vnd.jupyter.widget-view+json": {
       "model_id": "9e1427726c0d49e192c2e5bae894ba39",
       "version_major": 2,
       "version_minor": 0
      },
      "text/plain": [
       "  0%|          | 0/1937 [00:00<?, ?it/s]"
      ]
     },
     "metadata": {},
     "output_type": "display_data"
    },
    {
     "name": "stdout",
     "output_type": "stream",
     "text": [
      "[Epoch 2] Train loss: 0.022, acc: 97.11, time: 433.7s\n",
      "[Epoch 2] Valid loss: 0.081, acc: 90.48\n"
     ]
    },
    {
     "data": {
      "application/vnd.jupyter.widget-view+json": {
       "model_id": "91de1b81b024466ead92f0b24a0f3f6e",
       "version_major": 2,
       "version_minor": 0
      },
      "text/plain": [
       "  0%|          | 0/1937 [00:00<?, ?it/s]"
      ]
     },
     "metadata": {},
     "output_type": "display_data"
    },
    {
     "name": "stdout",
     "output_type": "stream",
     "text": [
      "[Epoch 3] Train loss: 0.012, acc: 98.40, time: 433.1s\n",
      "[Epoch 3] Valid loss: 0.108, acc: 89.79\n"
     ]
    },
    {
     "data": {
      "application/vnd.jupyter.widget-view+json": {
       "model_id": "5f63eb76970f406aa44b5928a25c9435",
       "version_major": 2,
       "version_minor": 0
      },
      "text/plain": [
       "  0%|          | 0/1937 [00:00<?, ?it/s]"
      ]
     },
     "metadata": {},
     "output_type": "display_data"
    },
    {
     "name": "stdout",
     "output_type": "stream",
     "text": [
      "[Epoch 4] Train loss: 0.007, acc: 99.23, time: 434.3s\n",
      "[Epoch 4] Valid loss: 0.093, acc: 90.48\n"
     ]
    },
    {
     "data": {
      "application/vnd.jupyter.widget-view+json": {
       "model_id": "7a614fce24af4029846651c557849461",
       "version_major": 2,
       "version_minor": 0
      },
      "text/plain": [
       "  0%|          | 0/1937 [00:00<?, ?it/s]"
      ]
     },
     "metadata": {},
     "output_type": "display_data"
    },
    {
     "name": "stdout",
     "output_type": "stream",
     "text": [
      "[Epoch 5] Train loss: 0.003, acc: 99.56, time: 433.6s\n",
      "[Epoch 5] Valid loss: 0.134, acc: 90.22\n"
     ]
    },
    {
     "data": {
      "application/vnd.jupyter.widget-view+json": {
       "model_id": "415bbbac308045e2b1c48f56b6a3c9df",
       "version_major": 2,
       "version_minor": 0
      },
      "text/plain": [
       "  0%|          | 0/1937 [00:00<?, ?it/s]"
      ]
     },
     "metadata": {},
     "output_type": "display_data"
    },
    {
     "name": "stdout",
     "output_type": "stream",
     "text": [
      "[Epoch 6] Train loss: 0.002, acc: 99.73, time: 433.0s\n",
      "[Epoch 6] Valid loss: 0.129, acc: 90.99\n"
     ]
    },
    {
     "data": {
      "application/vnd.jupyter.widget-view+json": {
       "model_id": "3a01ef2e23654802bea0f57bcb7f6dca",
       "version_major": 2,
       "version_minor": 0
      },
      "text/plain": [
       "  0%|          | 0/1937 [00:00<?, ?it/s]"
      ]
     },
     "metadata": {},
     "output_type": "display_data"
    },
    {
     "name": "stdout",
     "output_type": "stream",
     "text": [
      "[Epoch 7] Train loss: 0.001, acc: 99.83, time: 434.0s\n",
      "[Epoch 7] Valid loss: 0.120, acc: 91.60\n"
     ]
    },
    {
     "data": {
      "application/vnd.jupyter.widget-view+json": {
       "model_id": "d97f4c83c81c4167a5d4d2f044380e04",
       "version_major": 2,
       "version_minor": 0
      },
      "text/plain": [
       "  0%|          | 0/1937 [00:00<?, ?it/s]"
      ]
     },
     "metadata": {},
     "output_type": "display_data"
    },
    {
     "name": "stdout",
     "output_type": "stream",
     "text": [
      "[Epoch 8] Train loss: 0.001, acc: 99.94, time: 433.5s\n",
      "[Epoch 8] Valid loss: 0.121, acc: 91.51\n"
     ]
    },
    {
     "data": {
      "application/vnd.jupyter.widget-view+json": {
       "model_id": "504849d026fe4307a25cac4bae73d16a",
       "version_major": 2,
       "version_minor": 0
      },
      "text/plain": [
       "  0%|          | 0/1937 [00:00<?, ?it/s]"
      ]
     },
     "metadata": {},
     "output_type": "display_data"
    },
    {
     "name": "stdout",
     "output_type": "stream",
     "text": [
      "[Epoch 9] Train loss: 0.000, acc: 99.99, time: 433.1s\n",
      "[Epoch 9] Valid loss: 0.126, acc: 91.68\n",
      "Training finish! Best validation accuracy: 91.68\n",
      "\n"
     ]
    }
   ],
   "source": [
    "for i in range(ensen_num):\n",
    "    train(i, num_epochs, lr, train_loader, val_loader, tokenizer)"
   ]
  },
  {
   "cell_type": "code",
   "execution_count": 20,
   "id": "1f2dca25",
   "metadata": {
    "id": "63f561ef"
   },
   "outputs": [],
   "source": [
    "def validate_ensemble(val_loader, answer, idx_max=10):\n",
    "    pred_ensemble = []\n",
    "    for idx in range(idx_max):\n",
    "        model = Roberta.from_pretrained(os.path.join(save_dir, f'{idx}'), model_name)\n",
    "        model.to(device)\n",
    "        acc, pred_all = validate('best', model, val_loader, verbose=False)\n",
    "        print(f\"Load {idx}th model (acc: {acc*100:.2f})\")\n",
    "        if acc >= 0.87:\n",
    "            pred_ensemble.append(pred_all)\n",
    "        \n",
    "    pred_ensemble = torch.stack(pred_ensemble, dim=-1).float()\n",
    "    pred_ensemble = (pred_ensemble.mean(-1) >= 0.5).long().to(answer.device)\n",
    "    acc_ensemble = (pred_ensemble == answer).sum() / len(answer)\n",
    "    print(f\"\\nEnsemble accuracy: {acc_ensemble*100:.2f}\")"
   ]
  },
  {
   "cell_type": "code",
   "execution_count": 21,
   "id": "d8ddb0ce",
   "metadata": {
    "id": "47ecdd9f",
    "scrolled": false
   },
   "outputs": [
    {
     "name": "stdout",
     "output_type": "stream",
     "text": [
      "Load 0th model (acc: 92.28)\n",
      "Load 1th model (acc: 92.54)\n",
      "Load 2th model (acc: 92.11)\n",
      "Load 3th model (acc: 92.20)\n",
      "Load 4th model (acc: 92.28)\n",
      "Load 5th model (acc: 91.68)\n",
      "\n",
      "Ensemble accuracy: 93.31\n"
     ]
    }
   ],
   "source": [
    "answer = torch.tensor(val_dataset.labels)\n",
    "\n",
    "validate_ensemble(val_loader, answer, idx_max=ensen_num)"
   ]
  },
  {
   "cell_type": "markdown",
   "id": "479204a3",
   "metadata": {
    "id": "t7bn4_EDoLRW"
   },
   "source": [
    "## 3. 인과관계추론 (COPA)\n",
    "아래 하이퍼파라미터 및 모델 세팅을 탐색하였음.\n",
    "가장 성능이 좋은 세팅은 강조되어 있음. \n",
    "\n",
    "*전처리*\n",
    "- Question이 원인인지, 결과인지에 따라 문장을 각각의 리스트로 재구성하여 전처리. 이에 따라 2개의 데이터셋으로 나누어 토크나이징 진행\n",
    "- 나누어 진행된 tokeized sentence는 합쳐서 return\n",
    "- 전처리의 경우, 원인 결과를 명시한 경우와 아닌 경우 각각을 실험한 결과 명시하지 않은 경우 성능이 더 좋았음(92.8 < **93.2**)\n",
    "\n",
    "*모델*\n",
    "- Model : **KLUE-RoBERTa(90~93%)** > Ko-ELECTRa-v3(88.4%)\n",
    "\n",
    "\n",
    "*세팅*\n",
    "- Max length & Batch combination : 100/8(92.2%), 100/16(92.8%), **150/5(93.2%)**, 150/8(92.4%), 200/5(92.8%), 200/8(92.8%)\n",
    "- Epoch : 10\n",
    "- Warm up : 10% training step\n",
    "- Learning rate : 8e-6\n",
    "- Optimizer : **AdamW(93.2%)** vs RAdam(93%)\n",
    "- Scheduler : Linear Scheduler\n",
    "* Experiment : https://github.com/codestella/nlp_final_project/tree/main/COPA_experiment\n",
    "\n"
   ]
  },
  {
   "cell_type": "code",
   "execution_count": null,
   "id": "1d8e3bda",
   "metadata": {},
   "outputs": [],
   "source": [
    "import os\n",
    "import torch\n",
    "import torch.nn as nn\n",
    "from torch.utils.data import Dataset, DataLoader\n",
    "import transformers\n",
    "import pandas as pd\n",
    "from transformers import AutoTokenizer\n",
    "from transformers import RobertaModel, RobertaConfig\n",
    "from transformers import AdamW\n",
    "import time\n",
    "import argparse\n",
    "\n",
    "transformers.logging.set_verbosity(40) # Turn off warning\n",
    "device = torch.device('cuda:0' if torch.cuda.is_available() else 'cpu')\n",
    "\n",
    "save_dir = './result_copa'\n",
    "if not os.path.exists(save_dir):\n",
    "    os.makedirs(save_dir)"
   ]
  },
  {
   "cell_type": "code",
   "execution_count": 2,
   "id": "6d9c3946",
   "metadata": {
    "id": "m_VnBIJKoODc"
   },
   "outputs": [],
   "source": [
    "def load_data(dataset_dir):\n",
    "    dataset = pd.read_csv(dataset_dir, delimiter='\\t', names=['ID', 'sentence', 'question', '1', '2','answer'], header=0)\n",
    "    dataset[\"label\"] = dataset[\"answer\"].astype(int) - 1\n",
    "\n",
    "    new_sentence1_1 = []\n",
    "    new_sentence1_2 = []\n",
    "    new_sentence2_1 = []\n",
    "    new_sentence2_2 = []\n",
    "\n",
    "    for i in range(len(dataset)):\n",
    "        s = dataset.iloc[i]['sentence']\n",
    "        q = dataset.iloc[i]['question']\n",
    "        s1 = dataset.iloc[i]['1']\n",
    "        s2 = dataset.iloc[i]['2']\n",
    "        lb = dataset.iloc[i]['label']\n",
    "\n",
    "        if q == \"결과\":\n",
    "            new_sentence1_1.append(s)\n",
    "            new_sentence1_2.append(s1)  # 후보1\n",
    "            new_sentence2_1.append(s)\n",
    "            new_sentence2_2.append(s2)  # 후보2\n",
    "\n",
    "        else:\n",
    "            new_sentence1_1.append(s1) # 후보1 먼저\n",
    "            new_sentence1_2.append(s)\n",
    "            new_sentence2_1.append(s2) # 후보2 먼저 \n",
    "            new_sentence2_2.append(s) \n",
    "\n",
    "    dataset[\"new_sentence1_1\"] = new_sentence1_1\n",
    "    dataset[\"new_sentence1_2\"] = new_sentence1_2\n",
    "    dataset[\"new_sentence2_1\"] = new_sentence2_1\n",
    "    dataset[\"new_sentence2_2\"] = new_sentence2_2\n",
    "\n",
    "    return dataset\n",
    "\n",
    "\n",
    "class TensorDataset(Dataset):\n",
    "    ''' Define Torch Dataset '''\n",
    "    def __init__(self, tokenized_dataset, labels):\n",
    "        self.tokenized_dataset = tokenized_dataset\n",
    "        self.labels = labels\n",
    "\n",
    "    def __getitem__(self, idx):\n",
    "        item = {key: val[idx] for key, val in self.tokenized_dataset.items()}\n",
    "        label = self.labels[idx]\n",
    "        return item, label\n",
    "\n",
    "    def __len__(self):\n",
    "        return len(self.labels)"
   ]
  },
  {
   "cell_type": "code",
   "execution_count": null,
   "id": "d457980d",
   "metadata": {
    "id": "Fk6OAbryoUTW"
   },
   "outputs": [],
   "source": [
    "def tokenized_dataset(dataset, tokenizer) :\n",
    "    sentence1_1 = dataset['new_sentence1_1'].tolist()\n",
    "    sentence1_2 = dataset['new_sentence1_2'].tolist()\n",
    "    sentence2_1 = dataset[\"new_sentence2_1\"].tolist()\n",
    "    sentence2_2 = dataset[\"new_sentence2_2\"].tolist()\n",
    "\n",
    "    # 결과인 경우\n",
    "    tokenized_sentences = tokenizer(\n",
    "      sentence1_1,\n",
    "      sentence1_2,\n",
    "      return_tensors  = 'pt',\n",
    "      padding = True,\n",
    "      truncation = True, \n",
    "      max_length = 150, \n",
    "      add_special_tokens = True,\n",
    "      return_token_type_ids = True\n",
    "    )\n",
    "\n",
    "    # 원인인 경우\n",
    "    tokenized_sentences2 = tokenizer(\n",
    "      sentence2_1,\n",
    "      sentence2_2,\n",
    "      return_tensors  = 'pt',\n",
    "      padding = True,\n",
    "      truncation = True, \n",
    "      max_length = 150,  \n",
    "      add_special_tokens = True,\n",
    "      return_token_type_ids = True\n",
    "    )\n",
    "\n",
    "    # Sentence 하나로 합쳐 return 하기\n",
    "    for key, value in tokenized_sentences2.items():\n",
    "        tokenized_sentences[key+'2'] = value\n",
    "\n",
    "    return tokenized_sentences"
   ]
  },
  {
   "cell_type": "code",
   "execution_count": null,
   "id": "c7e4c47e",
   "metadata": {
    "colab": {
     "base_uri": "https://localhost:8080/",
     "height": 145,
     "referenced_widgets": [
      "14a6702db61148619aeee07d1baeee28",
      "c12c733f272942c1a17cd80c42086cda",
      "5b475a8dae5e4a44a4514b74f7f62278",
      "058f29b2a9db475798ea470be455e224",
      "ea3a11b4710e4c39a58cee458aecb189",
      "7bd9a35ff6aa4fa2ab858a82e49e319b",
      "602735deada34f43bd1f3780c14310e5",
      "494370fe73734cf080e798eb65e21500",
      "7f59f106357e4401af673b5294c90e7b",
      "a3db09cd5f3f487495051f4561480752",
      "a9959060063948edac8229cc35b65cee",
      "a89fed05d8e84e49b7e137d72cb0ff1d",
      "99da3f4ee4c04a03a526fe060a8bca9c",
      "3e637b34a45142c98d51e3b4a6891f28",
      "017dcc5185e14acb8884118559f20704",
      "993f780d5c834769b9583f0116d376b1",
      "0fe81b907a0249d2a47bf5878c04e7f3",
      "f0778683287c480c87abd07e599f266c",
      "17636647679b4d089f81d5cc38575229",
      "9415944a473f4ae19297be2904911de8",
      "d37668d5d6cf49be8952f08ed74b988a",
      "ef5d64b2e4ff4ae5b428ea85cc6d9cb5",
      "a8bab7a9ff5344a5ad5e11bc5e225335",
      "6162a1b6f6f84e408763c989685e2ff0",
      "344ee7e2bdd74ac3ac9b1e950d09ec08",
      "e5feebed56984b049c0d1aeccd1c1660",
      "b5a8509ee9d44bba8a790e49e3eba9e7",
      "11800c7ee9374daa8adad6780b51bf3e",
      "eeac2d75a15342fb9972823fdde1140d",
      "6bf33339051047de8e51bf597bcb9090",
      "18e408d273b04568841b68611fcda1c5",
      "7a7e7eb59a8b4c2bb4a5211ffc3dd80b",
      "642a367730cf4689a5bd73286add6c0f",
      "fa422af59a7a4d7aa8b0bbf58a9b8160",
      "bbfaa348cbef4bcd8b53d55a39b4ff0f",
      "718756865f4e4ecfb205b35efd7f35d3",
      "d4a778a3388c46348c7ca1c178dcb03b",
      "af4d02909fea4656bd776357324cf486",
      "c1f4203634094d6cbe4a9a569a7a2fe7",
      "1171d12e1a3e4633aad1c58ea87c836f",
      "e7e49cd9b96647f98a1ccf0d6cabbf39",
      "3b134c633dff45a9b88d5c2fa9b19896",
      "7d70fa1899454dd6a50d0e2be36831d5",
      "8e6e7d4b69094df2a199d0d288c1cf4a"
     ]
    },
    "id": "R8nGAUtDoTcE",
    "outputId": "ad209965-a4ac-49b7-a42e-57e747801d7f",
    "scrolled": true
   },
   "outputs": [
    {
     "data": {
      "application/vnd.jupyter.widget-view+json": {
       "model_id": "14a6702db61148619aeee07d1baeee28",
       "version_major": 2,
       "version_minor": 0
      },
      "text/plain": [
       "Downloading:   0%|          | 0.00/375 [00:00<?, ?B/s]"
      ]
     },
     "metadata": {},
     "output_type": "display_data"
    },
    {
     "data": {
      "application/vnd.jupyter.widget-view+json": {
       "model_id": "a89fed05d8e84e49b7e137d72cb0ff1d",
       "version_major": 2,
       "version_minor": 0
      },
      "text/plain": [
       "Downloading:   0%|          | 0.00/243k [00:00<?, ?B/s]"
      ]
     },
     "metadata": {},
     "output_type": "display_data"
    },
    {
     "data": {
      "application/vnd.jupyter.widget-view+json": {
       "model_id": "a8bab7a9ff5344a5ad5e11bc5e225335",
       "version_major": 2,
       "version_minor": 0
      },
      "text/plain": [
       "Downloading:   0%|          | 0.00/734k [00:00<?, ?B/s]"
      ]
     },
     "metadata": {},
     "output_type": "display_data"
    },
    {
     "data": {
      "application/vnd.jupyter.widget-view+json": {
       "model_id": "fa422af59a7a4d7aa8b0bbf58a9b8160",
       "version_major": 2,
       "version_minor": 0
      },
      "text/plain": [
       "Downloading:   0%|          | 0.00/173 [00:00<?, ?B/s]"
      ]
     },
     "metadata": {},
     "output_type": "display_data"
    }
   ],
   "source": [
    "model_type = \"Roberta\"\n",
    "size = 'large'\n",
    "model_name = f\"klue/roberta-{size}\"\n",
    "tokenizer = AutoTokenizer.from_pretrained(model_name)"
   ]
  },
  {
   "cell_type": "code",
   "execution_count": null,
   "id": "34f52af7",
   "metadata": {
    "colab": {
     "base_uri": "https://localhost:8080/",
     "height": 49,
     "referenced_widgets": [
      "4935faa77528447e9708d63057c50b3c",
      "96a8e472bcc64c3fbe34dd151f4c6f58",
      "27368e61ce4c45e4ac7904a1c9285ed2",
      "995a1cd2116840dbbd6732d113a5bb3a",
      "ce3a65d6909d4e4cab7736ed315405b7",
      "35524d202ff046dab82ceccc67aee23d",
      "90388119031b44c3b3ea239f4c686acf",
      "a1e9dab57a344b109fa48a0ffbf6398a",
      "52aa68c2274c4087a7b8de7a7cad999f",
      "c4c36be426124042af61f48437c1e2e6",
      "6b40a71f1e0b44d795c33647449e5a40"
     ]
    },
    "id": "4y0hpfwcoXw-",
    "outputId": "052da40b-39a4-4a80-ffe6-52062cb33acc"
   },
   "outputs": [
    {
     "data": {
      "application/vnd.jupyter.widget-view+json": {
       "model_id": "4935faa77528447e9708d63057c50b3c",
       "version_major": 2,
       "version_minor": 0
      },
      "text/plain": [
       "Downloading:   0%|          | 0.00/547 [00:00<?, ?B/s]"
      ]
     },
     "metadata": {},
     "output_type": "display_data"
    }
   ],
   "source": [
    "class Roberta(RobertaModel):\n",
    "    def __init__(self, config, model_name):\n",
    "        super(Roberta, self).__init__(config)\n",
    "        self.roberta = RobertaModel.from_pretrained(model_name, config=config)\n",
    "        self.hdim = config.hidden_size\n",
    "        self.nclass = config.nclass\n",
    "        self.classifier = nn.Linear(self.hdim, self.nclass-1)\n",
    "\n",
    "    def forward(self, input_ids, input_ids2, attention_mask, attention_mask2, **kwargs):\n",
    "        outputs = self.roberta(input_ids, attention_mask=attention_mask)\n",
    "        outputs2 = self.roberta(input_ids2, attention_mask=attention_mask2)\n",
    "        h = outputs[0][:, 0, :]\n",
    "        h2 = outputs2[0][:, 0, :]\n",
    "        logits1 = self.classifier(h)\n",
    "        logits2 = self.classifier(h2)\n",
    "        logits = torch.cat([logits1, logits2], dim=1)\n",
    "        return logits\n",
    "\n",
    "config = RobertaConfig.from_pretrained(model_name)\n",
    "config.nclass = 2"
   ]
  },
  {
   "cell_type": "code",
   "execution_count": null,
   "id": "c845d25b",
   "metadata": {
    "id": "aZ4DtItCoV3j"
   },
   "outputs": [],
   "source": [
    "# Define loader\n",
    "if size == 'base':\n",
    "    batch_size = 16\n",
    "else:\n",
    "    batch_size = 5\n",
    "    \n",
    "# Data path\n",
    "base_path = './data'\n",
    "train_dataset = load_data(os.path.join(base_path, 'SKT_COPA_Train.tsv'))\n",
    "val_dataset = load_data(os.path.join(base_path, 'SKT_COPA_Dev.tsv'))\n",
    "\n",
    "train_tokenized = tokenized_dataset(train_dataset, tokenizer)\n",
    "val_tokenized = tokenized_dataset(val_dataset, tokenizer)\n",
    "\n",
    "train_dataset = TensorDataset(train_tokenized, train_dataset['label'])\n",
    "val_dataset = TensorDataset(val_tokenized, val_dataset['label'])\n",
    "    \n",
    "train_loader = DataLoader(train_dataset, batch_size=batch_size,drop_last=True, shuffle=True)\n",
    "val_loader = DataLoader(val_dataset, batch_size=batch_size, drop_last=False, shuffle=False)"
   ]
  },
  {
   "cell_type": "markdown",
   "id": "4462d3b1",
   "metadata": {
    "id": "daeDLRWrXXIp"
   },
   "source": [
    "### [COPA] 전처리 예시\n",
    "- input_ids에 후보 1 문장, input_ids2에 후보 2문장이 들어가 있는 형태로 구성되어 있음"
   ]
  },
  {
   "cell_type": "code",
   "execution_count": null,
   "id": "eec52256",
   "metadata": {
    "colab": {
     "base_uri": "https://localhost:8080/",
     "height": 54
    },
    "id": "URj_2dsgXbE6",
    "outputId": "48a4a5f0-10a8-41ea-943d-d1dad13eed90"
   },
   "outputs": [
    {
     "data": {
      "application/vnd.google.colaboratory.intrinsic+json": {
       "type": "string"
      },
      "text/plain": [
       "'[CLS] 바닥에 기어다니는 바퀴벌레를 발견했다. [SEP] 모기향을 피웠다. [SEP] [PAD] [PAD] [PAD] [PAD] [PAD] [PAD] [PAD] [PAD] [PAD] [PAD] [PAD] [PAD] [PAD] [PAD]'"
      ]
     },
     "execution_count": 8,
     "metadata": {},
     "output_type": "execute_result"
    }
   ],
   "source": [
    "tokenizer.decode(train_tokenized['input_ids'][100])"
   ]
  },
  {
   "cell_type": "code",
   "execution_count": null,
   "id": "09d2027a",
   "metadata": {
    "colab": {
     "base_uri": "https://localhost:8080/",
     "height": 54
    },
    "id": "1LN-XPkeXbBU",
    "outputId": "6a9e3742-9fe8-441c-d5ed-1f67f8bb5a3d"
   },
   "outputs": [
    {
     "data": {
      "application/vnd.google.colaboratory.intrinsic+json": {
       "type": "string"
      },
      "text/plain": [
       "'[CLS] 날아다니는 모기를 발견했다. [SEP] 모기향을 피웠다. [SEP] [PAD] [PAD] [PAD] [PAD] [PAD] [PAD] [PAD] [PAD] [PAD] [PAD] [PAD] [PAD] [PAD] [PAD] [PAD] [PAD] [PAD] [PAD] [PAD]'"
      ]
     },
     "execution_count": 9,
     "metadata": {},
     "output_type": "execute_result"
    }
   ],
   "source": [
    "tokenizer.decode(train_tokenized['input_ids2'][100])"
   ]
  },
  {
   "cell_type": "code",
   "execution_count": null,
   "id": "b88ff9d7",
   "metadata": {
    "colab": {
     "base_uri": "https://localhost:8080/",
     "height": 54
    },
    "id": "k-uysuTLXda-",
    "outputId": "ebc9bcb6-e6f7-4ee2-b07e-40953ca7f68e"
   },
   "outputs": [
    {
     "data": {
      "application/vnd.google.colaboratory.intrinsic+json": {
       "type": "string"
      },
      "text/plain": [
       "'[CLS] 전쟁이 시작되었다. [SEP] 병사들이 집으로 돌아왔다. [SEP] [PAD] [PAD] [PAD] [PAD] [PAD] [PAD] [PAD] [PAD] [PAD] [PAD] [PAD] [PAD] [PAD]'"
      ]
     },
     "execution_count": 10,
     "metadata": {},
     "output_type": "execute_result"
    }
   ],
   "source": [
    "tokenizer.decode(val_tokenized['input_ids'][0])"
   ]
  },
  {
   "cell_type": "code",
   "execution_count": null,
   "id": "2ef59f0d",
   "metadata": {
    "colab": {
     "base_uri": "https://localhost:8080/",
     "height": 54
    },
    "id": "Zm5AYnHoXdXc",
    "outputId": "741fbb99-3c12-4b3f-e35b-8deca00c0f6d"
   },
   "outputs": [
    {
     "data": {
      "application/vnd.google.colaboratory.intrinsic+json": {
       "type": "string"
      },
      "text/plain": [
       "'[CLS] 전쟁이 시작되었다. [SEP] 병사들이 전투에 파견되었다. [SEP] [PAD] [PAD] [PAD] [PAD] [PAD] [PAD] [PAD] [PAD] [PAD] [PAD] [PAD] [PAD]'"
      ]
     },
     "execution_count": 11,
     "metadata": {},
     "output_type": "execute_result"
    }
   ],
   "source": [
    "tokenizer.decode(val_tokenized['input_ids2'][0])"
   ]
  },
  {
   "cell_type": "markdown",
   "id": "733c4338",
   "metadata": {
    "id": "7Q-TVBLdVwm8"
   },
   "source": [
    "### [COPA] 학습 결과 (Validation: 93.2%)\n",
    "* 최적 세팅에서 10번 반복한 결과 90.8% ~ 92.8% 의 결과를 얻음\n",
    "* 각 실험은 약 23분 정도 소요 (2.3 min/epoch)\n",
    "* 본 모델을 앙상블하여 최종 93.2%의 validation accuracy 달성."
   ]
  },
  {
   "cell_type": "code",
   "execution_count": null,
   "id": "fc9487e8",
   "metadata": {},
   "outputs": [],
   "source": [
    "def train_epoch(epoch, model, train_loader, optimizer, scheduler):\n",
    "    model.train()\n",
    "    total_loss = 0\n",
    "    cor = 0\n",
    "    n_sample = 0\n",
    "    s = time.time()\n",
    "    criterion = nn.CrossEntropyLoss()\n",
    "\n",
    "    for data, target in train_loader:\n",
    "        item = {key: val.to(device) for key, val in data.items()}\n",
    "        target = target.to(device)\n",
    "\n",
    "        logits = model(**item)\n",
    "        loss = criterion(logits, target)\n",
    "\n",
    "        optimizer.zero_grad()\n",
    "        loss.backward()\n",
    "        optimizer.step()\n",
    "        scheduler.step()\n",
    "\n",
    "        with torch.no_grad():\n",
    "            preds = torch.argmax(logits, dim=-1)\n",
    "\n",
    "        total_loss += loss.item()\n",
    "        cor += (preds == target).sum().item()\n",
    "        n_sample += len(target)\n",
    "\n",
    "        print(f\"{cor}/{n_sample}\", end='\\r')\n",
    "\n",
    "    loss_avg = total_loss / n_sample\n",
    "    acc = cor / n_sample\n",
    "    print(\n",
    "        f\"[Epoch {epoch}] Train loss: {loss_avg:.3f}, acc: {acc*100:.2f}, time: {time.time()-s:.1f}s\"\n",
    "    )\n",
    "    return acc\n",
    "\n",
    "\n",
    "def validate(epoch, model, val_loader, verbose=True):\n",
    "    model.eval()\n",
    "    total_loss = 0\n",
    "    cor = 0\n",
    "    n_sample = 0\n",
    "    criterion = nn.CrossEntropyLoss()\n",
    "    pred_all = []\n",
    "    \n",
    "    with torch.no_grad():\n",
    "        for data, target in val_loader:\n",
    "            item = {key: val.to(device) for key, val in data.items()}\n",
    "            target = target.to(device)\n",
    "\n",
    "            logits = model(**item)\n",
    "            loss = criterion(logits, target)\n",
    "            preds = torch.argmax(logits, dim=-1)\n",
    "            pred_all.append(preds)\n",
    "\n",
    "            total_loss += loss.item()\n",
    "            cor += (preds == target).sum().item()\n",
    "            n_sample += len(target)\n",
    "\n",
    "    loss_avg = total_loss / n_sample\n",
    "    acc = cor / n_sample\n",
    "    pred_all = torch.cat(pred_all)\n",
    "    \n",
    "    if verbose:\n",
    "        print(f\"[Epoch {epoch}] Valid loss: {loss_avg:.3f}, acc: {acc*100:.2f}\")\n",
    "    return acc, pred_all\n",
    "\n",
    "\n",
    "def train(idx, num_epochs, lr, train_loader, val_loader):\n",
    "    print(f\"Start trining {idx}th model\")\n",
    "    model = Roberta(config, model_name).to(device)\n",
    "    optimizer = AdamW(model.parameters(), lr=lr)\n",
    "    scheduler = transformers.get_scheduler(\"linear\",\n",
    "                                           optimizer=optimizer,\n",
    "                                           num_warmup_steps=num_epochs * len(train_loader) // 10,\n",
    "                                           num_training_steps=num_epochs * len(train_loader))\n",
    "    best_acc = 0\n",
    "    for epoch in range(num_epochs):\n",
    "        train_acc = train_epoch(epoch, model, train_loader, optimizer, scheduler)\n",
    "        val_acc, _ = validate(epoch, model, val_loader)\n",
    "        if val_acc > best_acc:\n",
    "            best_acc = val_acc\n",
    "\n",
    "            model_to_save = model.module if hasattr(model, \"module\") else model\n",
    "            model_to_save.save_pretrained(os.path.join(save_dir, f'{idx}'))\n",
    "            \n",
    "    print(f\"Training finish! Best validation accuracy: {best_acc*100:.2f}\\n\")"
   ]
  },
  {
   "cell_type": "code",
   "execution_count": null,
   "id": "37999dad",
   "metadata": {
    "id": "iDNSPtElobTr"
   },
   "outputs": [],
   "source": [
    "lr = 8e-6\n",
    "num_epochs = 10"
   ]
  },
  {
   "cell_type": "code",
   "execution_count": null,
   "id": "438dd359",
   "metadata": {
    "colab": {
     "base_uri": "https://localhost:8080/",
     "height": 1000,
     "referenced_widgets": [
      "ea711cec31cb4e3e9b15c929a753227c",
      "90eb139ee35a4886ba0642614f8cb277",
      "0648db9421814cc6a2494ce1dac729f1",
      "69985635439949caa96e00b7ccc19b0a",
      "fb78ff1fef8d4f3eb1ae3ac8c3579e99",
      "7422157633694552818d4090763a0b85",
      "e1b7bb54558545f989b0515ce26e9b3a",
      "07ed3f35929c45beb40695578039b9c9",
      "9a33246cffbc44d4aaefda866fb72d28",
      "525b16b06f8542cf916012ad54e69eaa",
      "0fd585de826844acbc3fc4f54f88d990"
     ]
    },
    "id": "0tBXqrmBodsN",
    "outputId": "a4e33ff1-9b11-4382-a0ba-5b39aadbed3d"
   },
   "outputs": [
    {
     "metadata": {
      "tags": null
     },
     "name": "stdout",
     "output_type": "stream",
     "text": [
      "Start trining 0th model\n"
     ]
    },
    {
     "data": {
      "application/vnd.jupyter.widget-view+json": {
       "model_id": "ea711cec31cb4e3e9b15c929a753227c",
       "version_major": 2,
       "version_minor": 0
      },
      "text/plain": [
       "Downloading:   0%|          | 0.00/1.25G [00:00<?, ?B/s]"
      ]
     },
     "metadata": {},
     "output_type": "display_data"
    },
    {
     "name": "stdout",
     "output_type": "stream",
     "text": [
      "[Epoch 0] Train loss: 0.107, acc: 70.36, time: 140.0s\n",
      "[Epoch 0] Valid loss: 0.061, acc: 86.60\n",
      "[Epoch 1] Train loss: 0.048, acc: 90.10, time: 139.6s\n",
      "[Epoch 1] Valid loss: 0.056, acc: 89.20\n",
      "[Epoch 2] Train loss: 0.018, acc: 96.62, time: 139.7s\n",
      "[Epoch 2] Valid loss: 0.065, acc: 91.60\n",
      "[Epoch 3] Train loss: 0.008, acc: 98.64, time: 139.6s\n",
      "[Epoch 3] Valid loss: 0.075, acc: 91.00\n",
      "[Epoch 4] Train loss: 0.005, acc: 99.09, time: 139.7s\n",
      "[Epoch 4] Valid loss: 0.062, acc: 92.20\n",
      "[Epoch 5] Train loss: 0.003, acc: 99.81, time: 139.7s\n",
      "[Epoch 5] Valid loss: 0.071, acc: 91.00\n",
      "[Epoch 6] Train loss: 0.001, acc: 99.87, time: 139.7s\n",
      "[Epoch 6] Valid loss: 0.073, acc: 91.20\n",
      "[Epoch 7] Train loss: 0.001, acc: 99.84, time: 139.7s\n",
      "[Epoch 7] Valid loss: 0.073, acc: 91.80\n",
      "[Epoch 8] Train loss: 0.001, acc: 100.00, time: 139.7s\n",
      "[Epoch 8] Valid loss: 0.077, acc: 91.00\n",
      "[Epoch 9] Train loss: 0.001, acc: 99.94, time: 139.7s\n",
      "[Epoch 9] Valid loss: 0.077, acc: 91.60\n",
      "Training finish! Best validation accuracy: 92.20\n",
      "\n",
      "Start trining 1th model\n",
      "[Epoch 0] Train loss: 0.104, acc: 70.03, time: 139.9s\n",
      "[Epoch 0] Valid loss: 0.071, acc: 87.60\n",
      "[Epoch 1] Train loss: 0.048, acc: 90.29, time: 139.7s\n",
      "[Epoch 1] Valid loss: 0.055, acc: 89.80\n",
      "[Epoch 2] Train loss: 0.020, acc: 96.30, time: 139.7s\n",
      "[Epoch 2] Valid loss: 0.082, acc: 89.40\n",
      "[Epoch 3] Train loss: 0.010, acc: 98.25, time: 139.7s\n",
      "[Epoch 3] Valid loss: 0.081, acc: 90.40\n",
      "[Epoch 4] Train loss: 0.004, acc: 99.16, time: 139.7s\n",
      "[Epoch 4] Valid loss: 0.093, acc: 91.00\n",
      "[Epoch 5] Train loss: 0.002, acc: 99.84, time: 139.7s\n",
      "[Epoch 5] Valid loss: 0.087, acc: 91.80\n",
      "[Epoch 6] Train loss: 0.002, acc: 99.55, time: 139.7s\n",
      "[Epoch 6] Valid loss: 0.092, acc: 90.60\n",
      "[Epoch 7] Train loss: 0.001, acc: 99.84, time: 139.7s\n",
      "[Epoch 7] Valid loss: 0.097, acc: 91.00\n",
      "[Epoch 8] Train loss: 0.001, acc: 99.87, time: 139.7s\n",
      "[Epoch 8] Valid loss: 0.099, acc: 91.20\n",
      "[Epoch 9] Train loss: 0.001, acc: 99.87, time: 139.7s\n",
      "[Epoch 9] Valid loss: 0.097, acc: 91.40\n",
      "Training finish! Best validation accuracy: 91.80\n",
      "\n",
      "Start trining 2th model\n",
      "[Epoch 0] Train loss: 0.106, acc: 70.00, time: 139.9s\n",
      "[Epoch 0] Valid loss: 0.056, acc: 90.20\n",
      "[Epoch 1] Train loss: 0.048, acc: 90.62, time: 139.7s\n",
      "[Epoch 1] Valid loss: 0.058, acc: 91.00\n",
      "[Epoch 2] Train loss: 0.017, acc: 97.34, time: 139.7s\n",
      "[Epoch 2] Valid loss: 0.085, acc: 90.40\n",
      "[Epoch 3] Train loss: 0.008, acc: 98.67, time: 139.7s\n",
      "[Epoch 3] Valid loss: 0.093, acc: 89.60\n",
      "[Epoch 4] Train loss: 0.006, acc: 99.35, time: 139.7s\n",
      "[Epoch 4] Valid loss: 0.074, acc: 91.00\n",
      "[Epoch 5] Train loss: 0.003, acc: 99.61, time: 139.8s\n",
      "[Epoch 5] Valid loss: 0.097, acc: 89.60\n",
      "[Epoch 6] Train loss: 0.002, acc: 99.61, time: 139.7s\n",
      "[Epoch 6] Valid loss: 0.097, acc: 90.40\n",
      "[Epoch 7] Train loss: 0.001, acc: 100.00, time: 139.7s\n",
      "[Epoch 7] Valid loss: 0.107, acc: 91.00\n",
      "[Epoch 8] Train loss: 0.001, acc: 99.84, time: 139.7s\n",
      "[Epoch 8] Valid loss: 0.098, acc: 90.20\n",
      "[Epoch 9] Train loss: 0.001, acc: 99.90, time: 139.7s\n",
      "[Epoch 9] Valid loss: 0.101, acc: 90.40\n",
      "Training finish! Best validation accuracy: 91.00\n",
      "\n",
      "Start trining 3th model\n",
      "[Epoch 0] Train loss: 0.106, acc: 70.03, time: 139.8s\n",
      "[Epoch 0] Valid loss: 0.061, acc: 88.20\n",
      "[Epoch 1] Train loss: 0.052, acc: 90.06, time: 139.6s\n",
      "[Epoch 1] Valid loss: 0.052, acc: 91.60\n",
      "[Epoch 2] Train loss: 0.020, acc: 96.72, time: 139.6s\n",
      "[Epoch 2] Valid loss: 0.062, acc: 91.20\n",
      "[Epoch 3] Train loss: 0.008, acc: 98.70, time: 139.7s\n",
      "[Epoch 3] Valid loss: 0.072, acc: 90.80\n",
      "[Epoch 4] Train loss: 0.003, acc: 99.64, time: 139.7s\n",
      "[Epoch 4] Valid loss: 0.079, acc: 91.60\n",
      "[Epoch 5] Train loss: 0.002, acc: 99.64, time: 139.6s\n",
      "[Epoch 5] Valid loss: 0.083, acc: 92.80\n",
      "[Epoch 6] Train loss: 0.002, acc: 99.81, time: 139.6s\n",
      "[Epoch 6] Valid loss: 0.098, acc: 92.40\n",
      "[Epoch 7] Train loss: 0.001, acc: 99.90, time: 139.6s\n",
      "[Epoch 7] Valid loss: 0.094, acc: 92.20\n",
      "[Epoch 8] Train loss: 0.001, acc: 99.94, time: 139.7s\n",
      "[Epoch 8] Valid loss: 0.091, acc: 91.80\n",
      "[Epoch 9] Train loss: 0.001, acc: 99.87, time: 139.7s\n",
      "[Epoch 9] Valid loss: 0.093, acc: 92.00\n",
      "Training finish! Best validation accuracy: 92.80\n",
      "\n",
      "Start trining 4th model\n",
      "[Epoch 0] Train loss: 0.109, acc: 68.28, time: 140.0s\n",
      "[Epoch 0] Valid loss: 0.068, acc: 88.60\n",
      "[Epoch 1] Train loss: 0.053, acc: 89.87, time: 139.6s\n",
      "[Epoch 1] Valid loss: 0.061, acc: 91.60\n",
      "[Epoch 2] Train loss: 0.017, acc: 96.72, time: 139.7s\n",
      "[Epoch 2] Valid loss: 0.073, acc: 91.00\n",
      "[Epoch 3] Train loss: 0.007, acc: 98.99, time: 139.7s\n",
      "[Epoch 3] Valid loss: 0.086, acc: 89.80\n",
      "[Epoch 4] Train loss: 0.004, acc: 99.42, time: 139.7s\n",
      "[Epoch 4] Valid loss: 0.091, acc: 90.40\n",
      "[Epoch 5] Train loss: 0.002, acc: 99.64, time: 139.7s\n",
      "[Epoch 5] Valid loss: 0.087, acc: 90.40\n",
      "[Epoch 6] Train loss: 0.001, acc: 99.87, time: 139.7s\n",
      "[Epoch 6] Valid loss: 0.097, acc: 91.00\n",
      "[Epoch 7] Train loss: 0.001, acc: 99.84, time: 139.7s\n",
      "[Epoch 7] Valid loss: 0.099, acc: 90.80\n",
      "[Epoch 8] Train loss: 0.001, acc: 99.74, time: 139.7s\n",
      "[Epoch 8] Valid loss: 0.098, acc: 91.00\n",
      "[Epoch 9] Train loss: 0.001, acc: 99.90, time: 139.7s\n",
      "[Epoch 9] Valid loss: 0.101, acc: 91.20\n",
      "Training finish! Best validation accuracy: 91.60\n",
      "\n",
      "Start trining 5th model\n",
      "[Epoch 0] Train loss: 0.111, acc: 67.50, time: 139.9s\n",
      "[Epoch 0] Valid loss: 0.062, acc: 88.20\n",
      "[Epoch 1] Train loss: 0.053, acc: 89.25, time: 139.7s\n",
      "[Epoch 1] Valid loss: 0.060, acc: 90.40\n",
      "[Epoch 2] Train loss: 0.017, acc: 96.85, time: 139.7s\n",
      "[Epoch 2] Valid loss: 0.072, acc: 90.00\n",
      "[Epoch 3] Train loss: 0.007, acc: 98.67, time: 139.7s\n",
      "[Epoch 3] Valid loss: 0.087, acc: 90.00\n",
      "[Epoch 4] Train loss: 0.004, acc: 99.32, time: 139.5s\n",
      "[Epoch 4] Valid loss: 0.092, acc: 90.80\n",
      "[Epoch 5] Train loss: 0.003, acc: 99.48, time: 139.6s\n",
      "[Epoch 5] Valid loss: 0.101, acc: 89.40\n",
      "[Epoch 6] Train loss: 0.002, acc: 99.81, time: 139.5s\n",
      "[Epoch 6] Valid loss: 0.098, acc: 90.20\n",
      "[Epoch 7] Train loss: 0.001, acc: 99.84, time: 139.5s\n",
      "[Epoch 7] Valid loss: 0.106, acc: 89.80\n",
      "[Epoch 8] Train loss: 0.001, acc: 99.90, time: 139.6s\n",
      "[Epoch 8] Valid loss: 0.106, acc: 89.80\n",
      "[Epoch 9] Train loss: 0.001, acc: 99.87, time: 139.5s\n",
      "[Epoch 9] Valid loss: 0.107, acc: 90.40\n",
      "Training finish! Best validation accuracy: 90.80\n",
      "\n",
      "Start trining 6th model\n",
      "[Epoch 0] Train loss: 0.102, acc: 71.88, time: 139.9s\n",
      "[Epoch 0] Valid loss: 0.057, acc: 89.20\n",
      "[Epoch 1] Train loss: 0.046, acc: 91.27, time: 139.8s\n",
      "[Epoch 1] Valid loss: 0.058, acc: 90.60\n",
      "[Epoch 2] Train loss: 0.017, acc: 96.92, time: 139.6s\n",
      "[Epoch 2] Valid loss: 0.072, acc: 90.60\n",
      "[Epoch 3] Train loss: 0.007, acc: 98.73, time: 139.7s\n",
      "[Epoch 3] Valid loss: 0.077, acc: 91.60\n",
      "[Epoch 4] Train loss: 0.004, acc: 99.32, time: 139.7s\n",
      "[Epoch 4] Valid loss: 0.081, acc: 90.60\n",
      "[Epoch 5] Train loss: 0.003, acc: 99.55, time: 139.6s\n",
      "[Epoch 5] Valid loss: 0.086, acc: 91.80\n",
      "[Epoch 6] Train loss: 0.001, acc: 99.90, time: 139.5s\n",
      "[Epoch 6] Valid loss: 0.095, acc: 92.20\n",
      "[Epoch 7] Train loss: 0.001, acc: 99.90, time: 139.5s\n",
      "[Epoch 7] Valid loss: 0.091, acc: 91.80\n",
      "[Epoch 8] Train loss: 0.001, acc: 99.94, time: 139.5s\n",
      "[Epoch 8] Valid loss: 0.100, acc: 92.40\n",
      "[Epoch 9] Train loss: 0.000, acc: 99.90, time: 139.5s\n",
      "[Epoch 9] Valid loss: 0.100, acc: 91.80\n",
      "Training finish! Best validation accuracy: 92.40\n",
      "\n",
      "Start trining 7th model\n",
      "[Epoch 0] Train loss: 0.107, acc: 68.31, time: 139.8s\n",
      "[Epoch 0] Valid loss: 0.064, acc: 87.60\n",
      "[Epoch 1] Train loss: 0.049, acc: 90.81, time: 139.5s\n",
      "[Epoch 1] Valid loss: 0.065, acc: 88.40\n",
      "[Epoch 2] Train loss: 0.018, acc: 97.05, time: 139.5s\n",
      "[Epoch 2] Valid loss: 0.080, acc: 89.20\n",
      "[Epoch 3] Train loss: 0.008, acc: 98.47, time: 139.6s\n",
      "[Epoch 3] Valid loss: 0.083, acc: 88.80\n",
      "[Epoch 4] Train loss: 0.005, acc: 99.25, time: 139.5s\n",
      "[Epoch 4] Valid loss: 0.088, acc: 90.40\n",
      "[Epoch 5] Train loss: 0.003, acc: 99.64, time: 139.5s\n",
      "[Epoch 5] Valid loss: 0.099, acc: 89.60\n",
      "[Epoch 6] Train loss: 0.002, acc: 99.64, time: 139.6s\n",
      "[Epoch 6] Valid loss: 0.091, acc: 90.60\n",
      "[Epoch 7] Train loss: 0.001, acc: 99.87, time: 139.6s\n",
      "[Epoch 7] Valid loss: 0.099, acc: 89.80\n",
      "[Epoch 8] Train loss: 0.001, acc: 99.81, time: 139.6s\n",
      "[Epoch 8] Valid loss: 0.092, acc: 91.00\n",
      "[Epoch 9] Train loss: 0.001, acc: 99.94, time: 139.5s\n",
      "[Epoch 9] Valid loss: 0.095, acc: 91.00\n",
      "Training finish! Best validation accuracy: 91.00\n",
      "\n",
      "Start trining 8th model\n",
      "[Epoch 0] Train loss: 0.109, acc: 67.92, time: 139.8s\n",
      "[Epoch 0] Valid loss: 0.071, acc: 84.60\n",
      "[Epoch 1] Train loss: 0.051, acc: 89.74, time: 139.5s\n",
      "[Epoch 1] Valid loss: 0.062, acc: 90.40\n",
      "[Epoch 2] Train loss: 0.017, acc: 96.62, time: 139.5s\n",
      "[Epoch 2] Valid loss: 0.073, acc: 89.60\n",
      "[Epoch 3] Train loss: 0.007, acc: 98.80, time: 139.4s\n",
      "[Epoch 3] Valid loss: 0.080, acc: 91.20\n",
      "[Epoch 4] Train loss: 0.006, acc: 99.06, time: 139.4s\n",
      "[Epoch 4] Valid loss: 0.085, acc: 91.40\n",
      "[Epoch 5] Train loss: 0.002, acc: 99.77, time: 139.4s\n",
      "[Epoch 5] Valid loss: 0.093, acc: 90.40\n",
      "[Epoch 6] Train loss: 0.002, acc: 99.61, time: 139.4s\n",
      "[Epoch 6] Valid loss: 0.092, acc: 91.20\n",
      "[Epoch 7] Train loss: 0.001, acc: 99.87, time: 139.4s\n",
      "[Epoch 7] Valid loss: 0.092, acc: 90.20\n",
      "[Epoch 8] Train loss: 0.001, acc: 99.84, time: 139.4s\n",
      "[Epoch 8] Valid loss: 0.095, acc: 90.60\n",
      "[Epoch 9] Train loss: 0.001, acc: 99.84, time: 139.4s\n",
      "[Epoch 9] Valid loss: 0.095, acc: 90.40\n",
      "Training finish! Best validation accuracy: 91.40\n",
      "\n",
      "Start trining 9th model\n",
      "[Epoch 0] Train loss: 0.104, acc: 71.07, time: 139.9s\n",
      "[Epoch 0] Valid loss: 0.057, acc: 89.80\n",
      "[Epoch 1] Train loss: 0.049, acc: 90.26, time: 139.6s\n",
      "[Epoch 1] Valid loss: 0.056, acc: 90.80\n",
      "[Epoch 2] Train loss: 0.016, acc: 97.47, time: 139.5s\n",
      "[Epoch 2] Valid loss: 0.076, acc: 90.20\n",
      "[Epoch 3] Train loss: 0.009, acc: 98.54, time: 139.5s\n",
      "[Epoch 3] Valid loss: 0.071, acc: 90.20\n",
      "[Epoch 4] Train loss: 0.004, acc: 99.48, time: 139.6s\n",
      "[Epoch 4] Valid loss: 0.081, acc: 89.40\n",
      "[Epoch 5] Train loss: 0.002, acc: 99.74, time: 139.6s\n",
      "[Epoch 5] Valid loss: 0.082, acc: 89.60\n",
      "[Epoch 6] Train loss: 0.001, acc: 99.81, time: 139.6s\n",
      "[Epoch 6] Valid loss: 0.081, acc: 90.40\n",
      "[Epoch 7] Train loss: 0.001, acc: 99.84, time: 139.5s\n",
      "[Epoch 7] Valid loss: 0.088, acc: 89.40\n",
      "[Epoch 8] Train loss: 0.001, acc: 99.84, time: 139.5s\n",
      "[Epoch 8] Valid loss: 0.089, acc: 90.00\n",
      "[Epoch 9] Train loss: 0.001, acc: 99.94, time: 139.6s\n",
      "[Epoch 9] Valid loss: 0.087, acc: 89.60\n",
      "Training finish! Best validation accuracy: 90.80\n",
      "\n"
     ]
    }
   ],
   "source": [
    "for i in range(10):\n",
    "    train(i, num_epochs, lr, train_loader, val_loader)"
   ]
  },
  {
   "cell_type": "code",
   "execution_count": null,
   "id": "561a912e",
   "metadata": {},
   "outputs": [],
   "source": [
    "def validate_ensemble(val_loader, answer, idx_max=10):\n",
    "    pred_ensemble = []\n",
    "    for idx in range(idx_max):\n",
    "        model = Roberta.from_pretrained(os.path.join(save_dir, f'{idx}'), model_name)\n",
    "        model.to(device)\n",
    "        acc, pred_all = validate('best', model, val_loader, verbose=False)\n",
    "        print(f\"Load {idx}th model (acc: {acc*100:.2f})\")\n",
    "        if acc >= 0.85:\n",
    "            pred_ensemble.append(pred_all)\n",
    "        \n",
    "    pred_ensemble = torch.stack(pred_ensemble, dim=-1).float()\n",
    "    pred_ensemble = (pred_ensemble.mean(-1) >= 0.5).long().to(answer.device)\n",
    "    acc_ensemble = (pred_ensemble == answer).sum() / len(answer)\n",
    "    print(f\"\\nEnsemble accuracy: {acc_ensemble*100:.2f}\")"
   ]
  },
  {
   "cell_type": "code",
   "execution_count": null,
   "id": "7a105495",
   "metadata": {
    "colab": {
     "base_uri": "https://localhost:8080/"
    },
    "id": "-pbb6sCsNq7d",
    "outputId": "7188f466-85ee-4026-c1bb-db3e07722f2d",
    "scrolled": true
   },
   "outputs": [
    {
     "name": "stdout",
     "output_type": "stream",
     "text": [
      "Load 0th model (acc: 92.20)\n",
      "Load 1th model (acc: 91.80)\n",
      "Load 2th model (acc: 91.00)\n",
      "Load 3th model (acc: 92.80)\n",
      "Load 4th model (acc: 91.60)\n",
      "Load 5th model (acc: 90.80)\n",
      "Load 6th model (acc: 92.40)\n",
      "Load 7th model (acc: 91.00)\n",
      "Load 8th model (acc: 91.40)\n",
      "Load 9th model (acc: 90.80)\n",
      "\n",
      "Ensemble accuracy: 93.20\n"
     ]
    }
   ],
   "source": [
    "answer = torch.tensor(val_dataset.labels)\n",
    "validate_ensemble(val_loader, answer, idx_max=10)"
   ]
  },
  {
   "cell_type": "markdown",
   "id": "30ad02b9",
   "metadata": {},
   "source": [
    "## 4. 문법성 판단 (CoLA)"
   ]
  },
  {
   "cell_type": "code",
   "execution_count": 25,
   "id": "ec20f053",
   "metadata": {},
   "outputs": [],
   "source": [
    "import os\n",
    "import torch\n",
    "import torch.nn as nn\n",
    "import torch.nn.functional as F\n",
    "from torch.utils.data import Dataset, DataLoader\n",
    "import transformers\n",
    "import pandas as pd\n",
    "from transformers import AutoTokenizer\n",
    "from transformers import ElectraConfig, ElectraModel\n",
    "from transformers import AdamW\n",
    "import time\n",
    "import argparse\n",
    "transformers.logging.set_verbosity(40) # Turn off warning\n",
    "\n",
    "save_dir = './result_gram'\n",
    "if not os.path.exists(save_dir):\n",
    "    os.makedirs(save_dir)"
   ]
  },
  {
   "cell_type": "markdown",
   "id": "ef579977",
   "metadata": {},
   "source": [
    "### [CoLA] Load data\n",
    "- Train, Dev 데이터가 base_path에 들어있어야 합니다. (default: './data')"
   ]
  },
  {
   "cell_type": "code",
   "execution_count": 27,
   "id": "fc07c48c",
   "metadata": {},
   "outputs": [],
   "source": [
    "def load_data(path, tokenizer):\n",
    "    dataset = pd.read_csv(path, delimiter='\\t', names=['source', 'acceptability_label', 'source_annotation', 'sentence'], header=0)\n",
    "    dataset[\"label\"] = dataset[\"acceptability_label\"].astype(int)\n",
    "    \n",
    "    sentence = dataset['sentence'].tolist()\n",
    "    \n",
    "    tokenized = tokenizer(sentence,\n",
    "    return_tensors=\"pt\",\n",
    "    padding=True,\n",
    "    truncation=True,\n",
    "    max_length=150,\n",
    "    add_special_tokens=True,\n",
    "    return_token_type_ids = True)\n",
    "    \n",
    "    return dataset, tokenized\n",
    "\n",
    "\n",
    "class TensorDataset(Dataset):\n",
    "    def __init__(self, tokenized_dataset, labels):\n",
    "        self.tokenized_dataset = tokenized_dataset\n",
    "        self.labels = labels\n",
    "\n",
    "    def __getitem__(self, idx):\n",
    "        item = {key: val[idx] for key, val in self.tokenized_dataset.items()}\n",
    "        label = self.labels[idx]\n",
    "        return item, label\n",
    "\n",
    "    def __len__(self):\n",
    "        return len(self.labels)"
   ]
  },
  {
   "cell_type": "code",
   "execution_count": 28,
   "id": "4f3b45fa",
   "metadata": {},
   "outputs": [],
   "source": [
    "device = torch.device('cuda' if torch.cuda.is_available() else 'cpu')\n",
    "\n",
    "model_type = \"Electra\"\n",
    "model_name = f\"monologg/koelectra-base-v3-discriminator\"\n",
    "tokenizer = AutoTokenizer.from_pretrained(model_name)"
   ]
  },
  {
   "cell_type": "code",
   "execution_count": 29,
   "id": "1c36be6e",
   "metadata": {},
   "outputs": [],
   "source": [
    "base_path = './data'\n",
    "train_dataset, train_tokenized = load_data(os.path.join(base_path, 'NIKL_CoLA_train.tsv'), tokenizer)\n",
    "val_dataset, val_tokenized = load_data(os.path.join(base_path, 'NIKL_CoLA_dev.tsv'), tokenizer)\n",
    "\n",
    "train_dataset = TensorDataset(train_tokenized, train_dataset['label'])\n",
    "val_dataset = TensorDataset(val_tokenized, val_dataset['label'])\n",
    "\n",
    "batch_size = 32\n",
    "\n",
    "train_loader = DataLoader(train_dataset, batch_size=batch_size, shuffle=True)\n",
    "val_loader = DataLoader(val_dataset, batch_size=batch_size, shuffle=False)"
   ]
  },
  {
   "cell_type": "code",
   "execution_count": 30,
   "id": "92f9f834",
   "metadata": {},
   "outputs": [
    {
     "data": {
      "text/plain": [
       "'[CLS] 높은 달이 떴다. [SEP] [PAD] [PAD] [PAD] [PAD] [PAD] [PAD] [PAD] [PAD] [PAD] [PAD] [PAD] [PAD] [PAD] [PAD] [PAD] [PAD] [PAD] [PAD] [PAD] [PAD] [PAD] [PAD] [PAD] [PAD] [PAD] [PAD] [PAD] [PAD] [PAD] [PAD] [PAD]'"
      ]
     },
     "execution_count": 30,
     "metadata": {},
     "output_type": "execute_result"
    }
   ],
   "source": [
    "# 데이터 예시\n",
    "tokenizer.decode(train_tokenized['input_ids'][0])"
   ]
  },
  {
   "cell_type": "markdown",
   "id": "60477c28",
   "metadata": {},
   "source": [
    "### [CoLA] Load pretrained model\n",
    "- 모델은 monologg/koelectra-base-v3-discriminator를 사용하였습니다. (https://github.com/monologg/KoELECTRA) \n",
    "\n",
    "**학습 방법**:  \n",
    "\n",
    "다음의  logit 값을 더하여 최종 분류를 하였습니다. \n",
    "- cls token에 해당하는 hidden feature에 3-layer classifier \n",
    "- average hidden feature에 classifier  "
   ]
  },
  {
   "cell_type": "code",
   "execution_count": 31,
   "id": "77a6a366",
   "metadata": {},
   "outputs": [],
   "source": [
    "class Electra(ElectraModel):\n",
    "    def __init__(self, config, model_name):\n",
    "        super(Electra, self).__init__(config)\n",
    "        self.electra = ElectraModel.from_pretrained(model_name, config=config)\n",
    "        self.hdim = config.hidden_size\n",
    "        self.nclass = config.nclass\n",
    "        self.drop = nn.Dropout(p=0.2)\n",
    "        self.layer1 = nn.Linear(self.hdim, 256) #258\n",
    "        self.layer2 = nn.Linear(256, 128)\n",
    "        self.layer3 = nn.Linear(128, self.nclass)\n",
    "        self.layer4 = nn.Linear(self.hdim, self.nclass)\n",
    "\n",
    "    def forward(self, input_ids, attention_mask, **kwargs):\n",
    "        outputs = self.electra(input_ids, attention_mask=attention_mask)\n",
    "        h = outputs[0][:, 0, :] \n",
    "        h = self.drop(h)\n",
    "        h = F.relu(self.layer1(h))\n",
    "        h = F.relu(self.layer2(h))\n",
    "        logits = self.layer3(h) \n",
    "        result = logits + self.layer4(torch.mean(outputs[0], 1)) \n",
    "        return result\n",
    "\n",
    "config = ElectraConfig.from_pretrained(model_name)\n",
    "config.nclass = 2"
   ]
  },
  {
   "cell_type": "markdown",
   "id": "860e35d1",
   "metadata": {},
   "source": [
    "### [CoLA] Finetune model (Validation: 74.85% (acc), 55.65% (MCC))\n",
    "- Learning rate: 1e-6\n",
    "- Epoch: 80\n",
    "- 학습 과정 중 Best 모델을 저장하여 평가하였습니다. "
   ]
  },
  {
   "cell_type": "code",
   "execution_count": 32,
   "id": "2fba35ca",
   "metadata": {},
   "outputs": [],
   "source": [
    "def train_epoch(epoch, model, train_loader, optimizer, scheduler):\n",
    "    model.train()\n",
    "    total_loss = 0\n",
    "    cor = 0\n",
    "    n_sample = 0\n",
    "    TP = 0\n",
    "    FP = 0\n",
    "    TN = 0\n",
    "    FN = 0\n",
    "    eps = 1e-9\n",
    "    s = time.time()\n",
    "    criterion = nn.CrossEntropyLoss()\n",
    "    add_MCC =0\n",
    "    \n",
    "    for data, target in train_loader:\n",
    "        item = {key: val.to(device) for key, val in data.items()}\n",
    "        target = target.to(device)\n",
    "\n",
    "        logits = model(**item)\n",
    "        loss = criterion(logits, target)\n",
    "\n",
    "        optimizer.zero_grad()\n",
    "        loss.backward()\n",
    "        optimizer.step()\n",
    "        scheduler.step()\n",
    "\n",
    "        with torch.no_grad():\n",
    "            preds = torch.argmax(logits, dim=-1)\n",
    "\n",
    "        total_loss += loss.item()\n",
    "        cor += (preds == target).sum().item()\n",
    "        n_sample += len(target)\n",
    "\n",
    "        print(f\"{cor}/{n_sample}\", end='\\r')\n",
    "        \n",
    "        TRUE = (target == preds)\n",
    "        FALSE = (target != preds)\n",
    "\n",
    "        TP += (TRUE * preds).sum().item()\n",
    "        TN += (TRUE * (preds==0)).sum().item()\n",
    "        FP += (FALSE * preds).sum().item()\n",
    "        FN += (FALSE * (preds==0)).sum().item()\n",
    "\n",
    "        MCC = ((TP*TN) - (FP*FN)) / (((TP+FP+eps)*(TP+FN+eps)*(TN+FP+eps)*(TN+FN+eps))**0.5)\n",
    "        add_MCC += MCC\n",
    "\n",
    "    loss_avg = total_loss / n_sample\n",
    "    acc = cor / n_sample\n",
    "    end_MCC = add_MCC / len(train_loader)\n",
    "    print(\n",
    "        f\"[Epoch {epoch}] Train loss: {loss_avg:.3f}, mcc: {end_MCC*100:.2f}, acc: {acc*100:.2f}, time: {time.time()-s:.1f}s\"\n",
    "    ) \n",
    "    return end_MCC\n",
    "\n",
    "\n",
    "def validate(epoch, model, val_loader, verbose=True):\n",
    "    model.eval()\n",
    "    total_loss = 0\n",
    "    cor = 0\n",
    "    n_sample = 0\n",
    "    TP = 0\n",
    "    FP = 0\n",
    "    TN = 0\n",
    "    FN = 0\n",
    "    eps = 1e-9\n",
    "    criterion = nn.CrossEntropyLoss()\n",
    "    pred_all = []\n",
    "    add_MCC =0\n",
    "    \n",
    "    with torch.no_grad():\n",
    "        for data, target in val_loader:\n",
    "            item = {key: val.to(device) for key, val in data.items()}\n",
    "            target = target.to(device)\n",
    "\n",
    "            logits = model(**item)\n",
    "            loss = criterion(logits, target)\n",
    "            preds = torch.argmax(logits, dim=-1)\n",
    "            pred_all.append(preds)\n",
    "\n",
    "            total_loss += loss.item()\n",
    "            cor += (preds == target).sum().item() \n",
    "            n_sample += len(target)\n",
    "            \n",
    "            TRUE = (target == preds)\n",
    "            FALSE = (target != preds)\n",
    "\n",
    "            TP += (TRUE * preds).sum().item()\n",
    "            TN += (TRUE * (preds==0)).sum().item()\n",
    "            FP += (FALSE * preds).sum().item()\n",
    "            FN += (FALSE * (preds==0)).sum().item()\n",
    "\n",
    "            MCC = ((TP*TN) - (FP*FN)) / (((TP+FP+eps)*(TP+FN+eps)*(TN+FP+eps)*(TN+FN+eps))**0.5)\n",
    "            add_MCC += MCC\n",
    "\n",
    "    loss_avg = total_loss / n_sample\n",
    "    acc = cor / n_sample\n",
    "    pred_all = torch.cat(pred_all)\n",
    "    end_MCC = add_MCC / len(val_loader)\n",
    "\n",
    "    if verbose:\n",
    "        print(f\"[Epoch {epoch}] Valid loss: {loss_avg:.3f}, mcc: {end_MCC*100:.2f}, acc: {acc*100:.2f}\") \n",
    "    return end_MCC, pred_all\n",
    "\n",
    "\n",
    "def train(idx, num_epochs, lr, train_loader, val_loader):\n",
    "    print(f\"Start trining {idx}th model\")\n",
    "    model = Electra(config, model_name).to(device)\n",
    "    optimizer = AdamW(model.parameters(), lr=lr)\n",
    "    scheduler = transformers.get_scheduler(\"linear\",\n",
    "                                           optimizer=optimizer,\n",
    "                                           num_warmup_steps=num_epochs * len(train_loader) // 10,\n",
    "                                           num_training_steps=num_epochs * len(train_loader))\n",
    "    best_mcc = 0\n",
    "    for epoch in range(num_epochs):\n",
    "        train_mcc = train_epoch(epoch, model, train_loader, optimizer, scheduler)\n",
    "        val_mcc, _ = validate(epoch, model, val_loader)\n",
    "        if val_mcc > best_mcc:\n",
    "            best_mcc = val_mcc\n",
    "\n",
    "            model_to_save = model.module if hasattr(model, \"module\") else model\n",
    "            model_to_save.save_pretrained(os.path.join(save_dir, f'{idx}'))\n",
    "            \n",
    "    print(f\"Training finish! Best validation mcc: {best_mcc*100:.2f}\\n\")"
   ]
  },
  {
   "cell_type": "code",
   "execution_count": 33,
   "id": "c23252bf",
   "metadata": {},
   "outputs": [],
   "source": [
    "lr = 1e-6 \n",
    "num_epochs = 80"
   ]
  },
  {
   "cell_type": "code",
   "execution_count": 34,
   "id": "6ef921ce",
   "metadata": {
    "scrolled": true
   },
   "outputs": [
    {
     "name": "stdout",
     "output_type": "stream",
     "text": [
      "Start trining 0th model\n",
      "[Epoch 0] Train loss: 0.022, mcc: -0.91, acc: 49.71, time: 44.4s\n",
      "[Epoch 0] Valid loss: 0.022, mcc: -2.24, acc: 52.46\n",
      "[Epoch 1] Train loss: 0.022, mcc: -1.91, acc: 50.13, time: 44.4s\n",
      "[Epoch 1] Valid loss: 0.022, mcc: 23.38, acc: 60.88\n",
      "[Epoch 2] Train loss: 0.021, mcc: 14.94, acc: 60.47, time: 43.7s\n",
      "[Epoch 2] Valid loss: 0.021, mcc: 41.50, acc: 68.60\n",
      "[Epoch 3] Train loss: 0.020, mcc: 35.36, acc: 68.46, time: 43.7s\n",
      "[Epoch 3] Valid loss: 0.019, mcc: 42.64, acc: 69.64\n",
      "[Epoch 4] Train loss: 0.018, mcc: 42.63, acc: 71.81, time: 44.5s\n",
      "[Epoch 4] Valid loss: 0.017, mcc: 46.93, acc: 72.24\n",
      "[Epoch 5] Train loss: 0.017, mcc: 47.28, acc: 73.97, time: 43.4s\n",
      "[Epoch 5] Valid loss: 0.017, mcc: 47.14, acc: 72.79\n",
      "[Epoch 6] Train loss: 0.016, mcc: 52.36, acc: 76.05, time: 44.1s\n",
      "[Epoch 6] Valid loss: 0.016, mcc: 49.23, acc: 74.06\n",
      "[Epoch 7] Train loss: 0.015, mcc: 53.28, acc: 77.02, time: 45.6s\n",
      "[Epoch 7] Valid loss: 0.016, mcc: 51.54, acc: 75.00\n",
      "[Epoch 8] Train loss: 0.015, mcc: 56.32, acc: 78.67, time: 43.8s\n",
      "[Epoch 8] Valid loss: 0.016, mcc: 50.97, acc: 75.30\n",
      "[Epoch 9] Train loss: 0.014, mcc: 59.75, acc: 79.55, time: 43.8s\n",
      "[Epoch 9] Valid loss: 0.016, mcc: 50.11, acc: 75.44\n",
      "[Epoch 10] Train loss: 0.014, mcc: 60.83, acc: 80.44, time: 44.1s\n",
      "[Epoch 10] Valid loss: 0.016, mcc: 50.45, acc: 75.15\n",
      "[Epoch 11] Train loss: 0.013, mcc: 63.69, acc: 81.60, time: 44.3s\n",
      "[Epoch 11] Valid loss: 0.016, mcc: 51.51, acc: 75.64\n",
      "[Epoch 12] Train loss: 0.013, mcc: 63.16, acc: 82.00, time: 44.7s\n",
      "[Epoch 12] Valid loss: 0.017, mcc: 50.60, acc: 75.59\n",
      "[Epoch 13] Train loss: 0.013, mcc: 64.86, acc: 82.57, time: 44.8s\n",
      "[Epoch 13] Valid loss: 0.017, mcc: 50.31, acc: 75.49\n",
      "[Epoch 14] Train loss: 0.012, mcc: 66.01, acc: 83.18, time: 44.9s\n",
      "[Epoch 14] Valid loss: 0.017, mcc: 50.50, acc: 75.44\n",
      "[Epoch 15] Train loss: 0.012, mcc: 68.16, acc: 83.64, time: 45.1s\n",
      "[Epoch 15] Valid loss: 0.017, mcc: 51.14, acc: 76.18\n",
      "[Epoch 16] Train loss: 0.012, mcc: 68.64, acc: 84.34, time: 45.1s\n",
      "[Epoch 16] Valid loss: 0.017, mcc: 51.44, acc: 75.98\n",
      "[Epoch 17] Train loss: 0.011, mcc: 69.20, acc: 84.65, time: 43.8s\n",
      "[Epoch 17] Valid loss: 0.017, mcc: 50.87, acc: 75.94\n",
      "[Epoch 18] Train loss: 0.011, mcc: 70.29, acc: 85.28, time: 43.8s\n",
      "[Epoch 18] Valid loss: 0.017, mcc: 51.45, acc: 76.18\n",
      "[Epoch 19] Train loss: 0.011, mcc: 71.31, acc: 85.94, time: 44.8s\n",
      "[Epoch 19] Valid loss: 0.018, mcc: 51.50, acc: 76.13\n",
      "[Epoch 20] Train loss: 0.011, mcc: 71.65, acc: 85.83, time: 44.8s\n",
      "[Epoch 20] Valid loss: 0.018, mcc: 51.83, acc: 76.38\n",
      "[Epoch 21] Train loss: 0.010, mcc: 72.75, acc: 86.44, time: 44.8s\n",
      "[Epoch 21] Valid loss: 0.018, mcc: 52.04, acc: 76.23\n",
      "[Epoch 22] Train loss: 0.010, mcc: 73.78, acc: 86.75, time: 45.2s\n",
      "[Epoch 22] Valid loss: 0.018, mcc: 51.62, acc: 76.33\n",
      "[Epoch 23] Train loss: 0.010, mcc: 74.94, acc: 87.21, time: 43.1s\n",
      "[Epoch 23] Valid loss: 0.018, mcc: 52.16, acc: 76.57\n",
      "[Epoch 24] Train loss: 0.010, mcc: 76.48, acc: 87.52, time: 44.1s\n",
      "[Epoch 24] Valid loss: 0.019, mcc: 52.31, acc: 76.48\n",
      "[Epoch 25] Train loss: 0.009, mcc: 76.55, acc: 88.10, time: 43.8s\n",
      "[Epoch 25] Valid loss: 0.019, mcc: 51.91, acc: 76.28\n",
      "[Epoch 26] Train loss: 0.009, mcc: 77.65, acc: 88.50, time: 44.5s\n",
      "[Epoch 26] Valid loss: 0.019, mcc: 52.44, acc: 76.72\n",
      "[Epoch 27] Train loss: 0.009, mcc: 77.24, acc: 88.74, time: 44.4s\n",
      "[Epoch 27] Valid loss: 0.020, mcc: 52.02, acc: 76.33\n",
      "[Epoch 28] Train loss: 0.009, mcc: 77.54, acc: 88.78, time: 44.0s\n",
      "[Epoch 28] Valid loss: 0.019, mcc: 52.13, acc: 76.67\n",
      "[Epoch 29] Train loss: 0.009, mcc: 78.56, acc: 89.13, time: 45.0s\n",
      "[Epoch 29] Valid loss: 0.020, mcc: 52.01, acc: 76.57\n",
      "[Epoch 30] Train loss: 0.009, mcc: 78.25, acc: 89.18, time: 45.1s\n",
      "[Epoch 30] Valid loss: 0.020, mcc: 52.16, acc: 76.38\n",
      "[Epoch 31] Train loss: 0.008, mcc: 79.41, acc: 89.42, time: 44.7s\n",
      "[Epoch 31] Valid loss: 0.020, mcc: 52.45, acc: 76.43\n",
      "[Epoch 32] Train loss: 0.008, mcc: 80.62, acc: 89.98, time: 45.3s\n",
      "[Epoch 32] Valid loss: 0.020, mcc: 52.37, acc: 76.43\n",
      "[Epoch 33] Train loss: 0.008, mcc: 82.06, acc: 90.34, time: 45.0s\n",
      "[Epoch 33] Valid loss: 0.020, mcc: 52.59, acc: 76.53\n",
      "[Epoch 34] Train loss: 0.008, mcc: 81.37, acc: 90.43, time: 46.0s\n",
      "[Epoch 34] Valid loss: 0.021, mcc: 52.24, acc: 76.38\n",
      "[Epoch 35] Train loss: 0.008, mcc: 80.98, acc: 90.70, time: 44.8s\n",
      "[Epoch 35] Valid loss: 0.021, mcc: 51.83, acc: 76.23\n",
      "[Epoch 36] Train loss: 0.007, mcc: 82.37, acc: 90.85, time: 44.7s\n",
      "[Epoch 36] Valid loss: 0.021, mcc: 52.37, acc: 76.53\n",
      "[Epoch 37] Train loss: 0.007, mcc: 83.56, acc: 91.41, time: 45.4s\n",
      "[Epoch 37] Valid loss: 0.021, mcc: 52.16, acc: 76.38\n",
      "[Epoch 38] Train loss: 0.007, mcc: 82.86, acc: 91.23, time: 44.7s\n",
      "[Epoch 38] Valid loss: 0.022, mcc: 52.29, acc: 76.33\n",
      "[Epoch 39] Train loss: 0.007, mcc: 83.04, acc: 91.05, time: 43.8s\n",
      "[Epoch 39] Valid loss: 0.022, mcc: 52.34, acc: 76.23\n",
      "[Epoch 40] Train loss: 0.007, mcc: 83.56, acc: 91.73, time: 44.0s\n",
      "[Epoch 40] Valid loss: 0.022, mcc: 52.68, acc: 76.67\n",
      "[Epoch 41] Train loss: 0.007, mcc: 82.71, acc: 91.52, time: 43.8s\n",
      "[Epoch 41] Valid loss: 0.022, mcc: 52.08, acc: 76.23\n",
      "[Epoch 42] Train loss: 0.007, mcc: 83.58, acc: 91.69, time: 44.7s\n",
      "[Epoch 42] Valid loss: 0.022, mcc: 52.21, acc: 76.57\n",
      "[Epoch 43] Train loss: 0.007, mcc: 84.08, acc: 91.89, time: 44.7s\n",
      "[Epoch 43] Valid loss: 0.022, mcc: 52.19, acc: 76.33\n",
      "[Epoch 44] Train loss: 0.007, mcc: 83.81, acc: 92.22, time: 44.4s\n",
      "[Epoch 44] Valid loss: 0.023, mcc: 51.54, acc: 76.18\n",
      "[Epoch 45] Train loss: 0.006, mcc: 84.22, acc: 92.23, time: 44.8s\n",
      "[Epoch 45] Valid loss: 0.023, mcc: 52.65, acc: 76.53\n",
      "[Epoch 46] Train loss: 0.006, mcc: 84.86, acc: 92.45, time: 45.2s\n",
      "[Epoch 46] Valid loss: 0.023, mcc: 51.99, acc: 76.23\n",
      "[Epoch 47] Train loss: 0.006, mcc: 85.14, acc: 92.25, time: 44.6s\n",
      "[Epoch 47] Valid loss: 0.023, mcc: 52.23, acc: 76.18\n",
      "[Epoch 48] Train loss: 0.006, mcc: 85.24, acc: 92.58, time: 44.7s\n",
      "[Epoch 48] Valid loss: 0.023, mcc: 52.18, acc: 76.13\n",
      "[Epoch 49] Train loss: 0.006, mcc: 85.03, acc: 92.64, time: 45.4s\n",
      "[Epoch 49] Valid loss: 0.023, mcc: 52.77, acc: 76.33\n",
      "[Epoch 50] Train loss: 0.006, mcc: 85.83, acc: 92.67, time: 43.9s\n",
      "[Epoch 50] Valid loss: 0.023, mcc: 52.89, acc: 76.48\n",
      "[Epoch 51] Train loss: 0.006, mcc: 86.20, acc: 93.10, time: 44.1s\n",
      "[Epoch 51] Valid loss: 0.024, mcc: 53.08, acc: 76.38\n",
      "[Epoch 52] Train loss: 0.006, mcc: 86.28, acc: 93.07, time: 44.1s\n",
      "[Epoch 52] Valid loss: 0.024, mcc: 52.86, acc: 76.48\n",
      "[Epoch 53] Train loss: 0.006, mcc: 86.61, acc: 93.22, time: 44.1s\n",
      "[Epoch 53] Valid loss: 0.024, mcc: 53.15, acc: 76.23\n",
      "[Epoch 54] Train loss: 0.006, mcc: 87.11, acc: 93.59, time: 44.1s\n",
      "[Epoch 54] Valid loss: 0.024, mcc: 53.08, acc: 76.62\n",
      "[Epoch 55] Train loss: 0.006, mcc: 86.46, acc: 93.17, time: 44.1s\n",
      "[Epoch 55] Valid loss: 0.024, mcc: 53.12, acc: 76.53\n",
      "[Epoch 56] Train loss: 0.006, mcc: 87.26, acc: 93.66, time: 44.0s\n",
      "[Epoch 56] Valid loss: 0.024, mcc: 53.45, acc: 76.67\n",
      "[Epoch 57] Train loss: 0.006, mcc: 86.95, acc: 93.51, time: 45.2s\n",
      "[Epoch 57] Valid loss: 0.025, mcc: 53.03, acc: 76.33\n",
      "[Epoch 58] Train loss: 0.005, mcc: 86.18, acc: 93.51, time: 45.4s\n",
      "[Epoch 58] Valid loss: 0.025, mcc: 52.55, acc: 76.03\n",
      "[Epoch 59] Train loss: 0.006, mcc: 86.65, acc: 93.46, time: 45.5s\n",
      "[Epoch 59] Valid loss: 0.025, mcc: 52.79, acc: 76.23\n",
      "[Epoch 60] Train loss: 0.005, mcc: 87.72, acc: 93.84, time: 44.9s\n",
      "[Epoch 60] Valid loss: 0.025, mcc: 52.97, acc: 76.23\n",
      "[Epoch 61] Train loss: 0.005, mcc: 88.11, acc: 93.76, time: 45.4s\n",
      "[Epoch 61] Valid loss: 0.025, mcc: 52.67, acc: 76.23\n",
      "[Epoch 62] Train loss: 0.005, mcc: 87.70, acc: 93.69, time: 44.8s\n",
      "[Epoch 62] Valid loss: 0.025, mcc: 52.71, acc: 76.08\n",
      "[Epoch 63] Train loss: 0.005, mcc: 88.03, acc: 93.84, time: 44.7s\n",
      "[Epoch 63] Valid loss: 0.025, mcc: 52.73, acc: 76.18\n",
      "[Epoch 64] Train loss: 0.005, mcc: 88.18, acc: 93.94, time: 45.0s\n",
      "[Epoch 64] Valid loss: 0.025, mcc: 52.64, acc: 76.03\n",
      "[Epoch 65] Train loss: 0.005, mcc: 87.89, acc: 94.07, time: 44.3s\n",
      "[Epoch 65] Valid loss: 0.025, mcc: 52.60, acc: 76.08\n",
      "[Epoch 66] Train loss: 0.005, mcc: 88.12, acc: 93.86, time: 43.6s\n",
      "[Epoch 66] Valid loss: 0.025, mcc: 52.87, acc: 76.23\n",
      "[Epoch 67] Train loss: 0.005, mcc: 88.21, acc: 94.09, time: 43.4s\n",
      "[Epoch 67] Valid loss: 0.025, mcc: 52.85, acc: 76.23\n",
      "[Epoch 68] Train loss: 0.005, mcc: 88.43, acc: 94.00, time: 44.2s\n",
      "[Epoch 68] Valid loss: 0.025, mcc: 52.48, acc: 75.98\n",
      "[Epoch 69] Train loss: 0.005, mcc: 87.02, acc: 93.92, time: 45.1s\n",
      "[Epoch 69] Valid loss: 0.025, mcc: 52.97, acc: 76.23\n",
      "[Epoch 70] Train loss: 0.005, mcc: 88.85, acc: 94.33, time: 44.7s\n",
      "[Epoch 70] Valid loss: 0.025, mcc: 53.33, acc: 76.38\n",
      "[Epoch 71] Train loss: 0.005, mcc: 87.82, acc: 93.73, time: 45.2s\n",
      "[Epoch 71] Valid loss: 0.025, mcc: 52.57, acc: 76.08\n",
      "[Epoch 72] Train loss: 0.005, mcc: 88.76, acc: 94.34, time: 44.2s\n",
      "[Epoch 72] Valid loss: 0.026, mcc: 52.58, acc: 76.18\n",
      "[Epoch 73] Train loss: 0.005, mcc: 88.11, acc: 94.12, time: 45.3s\n",
      "[Epoch 73] Valid loss: 0.026, mcc: 52.85, acc: 76.23\n",
      "[Epoch 74] Train loss: 0.005, mcc: 89.09, acc: 94.29, time: 45.4s\n",
      "[Epoch 74] Valid loss: 0.026, mcc: 52.63, acc: 76.18\n",
      "[Epoch 75] Train loss: 0.005, mcc: 88.69, acc: 93.97, time: 45.7s\n",
      "[Epoch 75] Valid loss: 0.026, mcc: 52.79, acc: 76.13\n",
      "[Epoch 76] Train loss: 0.005, mcc: 89.37, acc: 94.41, time: 44.4s\n",
      "[Epoch 76] Valid loss: 0.026, mcc: 52.63, acc: 76.23\n",
      "[Epoch 77] Train loss: 0.005, mcc: 88.68, acc: 94.29, time: 45.4s\n",
      "[Epoch 77] Valid loss: 0.026, mcc: 53.06, acc: 76.23\n",
      "[Epoch 78] Train loss: 0.005, mcc: 89.04, acc: 94.28, time: 45.3s\n",
      "[Epoch 78] Valid loss: 0.026, mcc: 52.63, acc: 76.18\n",
      "[Epoch 79] Train loss: 0.005, mcc: 88.48, acc: 94.31, time: 44.4s\n",
      "[Epoch 79] Valid loss: 0.026, mcc: 52.63, acc: 76.23\n",
      "Training finish! Best validation mcc: 53.45\n",
      "\n",
      "Start trining 1th model\n",
      "[Epoch 0] Train loss: 0.022, mcc: 0.97, acc: 50.07, time: 44.7s\n",
      "[Epoch 0] Valid loss: 0.022, mcc: 10.73, acc: 54.68\n",
      "[Epoch 1] Train loss: 0.021, mcc: 16.73, acc: 58.64, time: 44.4s\n",
      "[Epoch 1] Valid loss: 0.021, mcc: 33.83, acc: 64.07\n",
      "[Epoch 2] Train loss: 0.021, mcc: 28.52, acc: 65.89, time: 44.0s\n",
      "[Epoch 2] Valid loss: 0.020, mcc: 39.20, acc: 67.91\n",
      "[Epoch 3] Train loss: 0.020, mcc: 38.94, acc: 70.04, time: 45.5s\n",
      "[Epoch 3] Valid loss: 0.019, mcc: 42.33, acc: 69.93\n",
      "[Epoch 4] Train loss: 0.018, mcc: 45.62, acc: 72.92, time: 45.3s\n",
      "[Epoch 4] Valid loss: 0.017, mcc: 47.79, acc: 72.98\n",
      "[Epoch 5] Train loss: 0.017, mcc: 50.41, acc: 74.98, time: 44.7s\n",
      "[Epoch 5] Valid loss: 0.016, mcc: 48.05, acc: 73.28\n",
      "[Epoch 6] Train loss: 0.016, mcc: 52.34, acc: 76.41, time: 44.2s\n",
      "[Epoch 6] Valid loss: 0.016, mcc: 50.01, acc: 74.41\n",
      "[Epoch 7] Train loss: 0.015, mcc: 55.64, acc: 77.68, time: 44.5s\n",
      "[Epoch 7] Valid loss: 0.016, mcc: 48.81, acc: 74.56\n",
      "[Epoch 8] Train loss: 0.015, mcc: 56.99, acc: 78.83, time: 43.5s\n",
      "[Epoch 8] Valid loss: 0.016, mcc: 49.91, acc: 75.25\n",
      "[Epoch 9] Train loss: 0.014, mcc: 59.77, acc: 80.15, time: 44.0s\n",
      "[Epoch 9] Valid loss: 0.016, mcc: 49.87, acc: 75.64\n",
      "[Epoch 10] Train loss: 0.013, mcc: 61.46, acc: 80.86, time: 44.0s\n",
      "[Epoch 10] Valid loss: 0.016, mcc: 50.86, acc: 76.03\n",
      "[Epoch 11] Train loss: 0.013, mcc: 63.29, acc: 81.68, time: 43.9s\n",
      "[Epoch 11] Valid loss: 0.016, mcc: 49.08, acc: 75.30\n",
      "[Epoch 12] Train loss: 0.013, mcc: 63.85, acc: 82.14, time: 44.5s\n",
      "[Epoch 12] Valid loss: 0.016, mcc: 50.85, acc: 75.84\n",
      "[Epoch 13] Train loss: 0.012, mcc: 65.03, acc: 82.77, time: 45.9s\n",
      "[Epoch 13] Valid loss: 0.017, mcc: 50.10, acc: 75.30\n",
      "[Epoch 14] Train loss: 0.012, mcc: 65.78, acc: 83.45, time: 46.3s\n",
      "[Epoch 14] Valid loss: 0.017, mcc: 49.84, acc: 75.30\n",
      "[Epoch 15] Train loss: 0.012, mcc: 68.20, acc: 84.17, time: 45.6s\n",
      "[Epoch 15] Valid loss: 0.017, mcc: 49.76, acc: 75.39\n",
      "[Epoch 16] Train loss: 0.011, mcc: 70.12, acc: 84.90, time: 45.3s\n",
      "[Epoch 16] Valid loss: 0.017, mcc: 50.13, acc: 75.54\n",
      "[Epoch 17] Train loss: 0.011, mcc: 70.55, acc: 84.96, time: 44.4s\n",
      "[Epoch 17] Valid loss: 0.017, mcc: 51.05, acc: 75.89\n",
      "[Epoch 18] Train loss: 0.011, mcc: 71.83, acc: 85.48, time: 45.1s\n",
      "[Epoch 18] Valid loss: 0.017, mcc: 50.84, acc: 75.84\n",
      "[Epoch 19] Train loss: 0.011, mcc: 72.57, acc: 86.07, time: 45.0s\n",
      "[Epoch 19] Valid loss: 0.018, mcc: 50.88, acc: 75.89\n",
      "[Epoch 20] Train loss: 0.010, mcc: 73.08, acc: 86.23, time: 44.5s\n",
      "[Epoch 20] Valid loss: 0.018, mcc: 51.85, acc: 76.38\n",
      "[Epoch 21] Train loss: 0.010, mcc: 73.67, acc: 86.82, time: 45.0s\n",
      "[Epoch 21] Valid loss: 0.018, mcc: 51.74, acc: 76.33\n",
      "[Epoch 22] Train loss: 0.010, mcc: 73.74, acc: 87.22, time: 44.4s\n",
      "[Epoch 22] Valid loss: 0.018, mcc: 51.71, acc: 76.08\n",
      "[Epoch 23] Train loss: 0.010, mcc: 74.72, acc: 87.26, time: 45.6s\n",
      "[Epoch 23] Valid loss: 0.019, mcc: 51.05, acc: 75.84\n",
      "[Epoch 24] Train loss: 0.009, mcc: 76.83, acc: 88.05, time: 44.6s\n",
      "[Epoch 24] Valid loss: 0.019, mcc: 52.10, acc: 76.62\n",
      "[Epoch 25] Train loss: 0.009, mcc: 76.57, acc: 88.25, time: 44.9s\n",
      "[Epoch 25] Valid loss: 0.019, mcc: 51.31, acc: 76.33\n",
      "[Epoch 26] Train loss: 0.009, mcc: 76.85, acc: 88.63, time: 44.5s\n",
      "[Epoch 26] Valid loss: 0.019, mcc: 51.63, acc: 76.28\n",
      "[Epoch 27] Train loss: 0.009, mcc: 78.06, acc: 88.83, time: 44.4s\n",
      "[Epoch 27] Valid loss: 0.019, mcc: 51.14, acc: 76.08\n",
      "[Epoch 28] Train loss: 0.009, mcc: 78.90, acc: 89.47, time: 44.0s\n",
      "[Epoch 28] Valid loss: 0.019, mcc: 51.39, acc: 76.18\n",
      "[Epoch 29] Train loss: 0.008, mcc: 79.12, acc: 89.44, time: 45.1s\n",
      "[Epoch 29] Valid loss: 0.020, mcc: 51.56, acc: 76.13\n",
      "[Epoch 30] Train loss: 0.008, mcc: 78.89, acc: 89.76, time: 45.8s\n",
      "[Epoch 30] Valid loss: 0.020, mcc: 51.43, acc: 76.18\n",
      "[Epoch 31] Train loss: 0.008, mcc: 81.21, acc: 90.09, time: 45.9s\n",
      "[Epoch 31] Valid loss: 0.020, mcc: 51.59, acc: 76.33\n",
      "[Epoch 32] Train loss: 0.008, mcc: 80.78, acc: 90.33, time: 44.0s\n",
      "[Epoch 32] Valid loss: 0.020, mcc: 51.45, acc: 76.28\n",
      "[Epoch 33] Train loss: 0.008, mcc: 81.75, acc: 90.75, time: 43.9s\n",
      "[Epoch 33] Valid loss: 0.021, mcc: 51.88, acc: 76.13\n",
      "[Epoch 34] Train loss: 0.008, mcc: 81.91, acc: 90.76, time: 44.2s\n",
      "[Epoch 34] Valid loss: 0.021, mcc: 52.07, acc: 76.18\n",
      "[Epoch 35] Train loss: 0.007, mcc: 80.94, acc: 90.90, time: 43.6s\n",
      "[Epoch 35] Valid loss: 0.021, mcc: 52.48, acc: 76.48\n",
      "[Epoch 36] Train loss: 0.007, mcc: 81.43, acc: 90.77, time: 43.6s\n",
      "[Epoch 36] Valid loss: 0.021, mcc: 51.39, acc: 76.23\n",
      "[Epoch 37] Train loss: 0.007, mcc: 82.23, acc: 91.15, time: 45.1s\n",
      "[Epoch 37] Valid loss: 0.021, mcc: 51.83, acc: 76.33\n",
      "[Epoch 38] Train loss: 0.007, mcc: 82.66, acc: 91.18, time: 44.5s\n",
      "[Epoch 38] Valid loss: 0.022, mcc: 51.40, acc: 76.03\n",
      "[Epoch 39] Train loss: 0.007, mcc: 83.77, acc: 91.72, time: 44.2s\n",
      "[Epoch 39] Valid loss: 0.022, mcc: 52.07, acc: 76.18\n",
      "[Epoch 40] Train loss: 0.007, mcc: 82.89, acc: 91.71, time: 43.4s\n",
      "[Epoch 40] Valid loss: 0.022, mcc: 51.97, acc: 76.13\n",
      "[Epoch 41] Train loss: 0.007, mcc: 83.74, acc: 91.85, time: 44.2s\n",
      "[Epoch 41] Valid loss: 0.022, mcc: 51.99, acc: 76.23\n",
      "[Epoch 42] Train loss: 0.007, mcc: 84.38, acc: 92.06, time: 44.0s\n",
      "[Epoch 42] Valid loss: 0.022, mcc: 51.68, acc: 76.08\n",
      "[Epoch 43] Train loss: 0.007, mcc: 84.29, acc: 92.15, time: 43.6s\n",
      "[Epoch 43] Valid loss: 0.022, mcc: 52.88, acc: 76.38\n",
      "[Epoch 44] Train loss: 0.006, mcc: 85.87, acc: 92.57, time: 43.5s\n",
      "[Epoch 44] Valid loss: 0.022, mcc: 52.72, acc: 76.43\n",
      "[Epoch 45] Train loss: 0.006, mcc: 84.85, acc: 92.43, time: 43.7s\n",
      "[Epoch 45] Valid loss: 0.023, mcc: 51.76, acc: 76.03\n",
      "[Epoch 46] Train loss: 0.006, mcc: 85.16, acc: 92.57, time: 44.4s\n",
      "[Epoch 46] Valid loss: 0.023, mcc: 52.02, acc: 75.98\n",
      "[Epoch 47] Train loss: 0.006, mcc: 85.60, acc: 92.86, time: 44.0s\n",
      "[Epoch 47] Valid loss: 0.023, mcc: 53.06, acc: 76.28\n",
      "[Epoch 48] Train loss: 0.006, mcc: 85.48, acc: 92.91, time: 43.9s\n",
      "[Epoch 48] Valid loss: 0.023, mcc: 52.15, acc: 76.03\n",
      "[Epoch 49] Train loss: 0.006, mcc: 85.10, acc: 92.87, time: 43.9s\n",
      "[Epoch 49] Valid loss: 0.023, mcc: 52.45, acc: 76.08\n",
      "[Epoch 50] Train loss: 0.006, mcc: 87.27, acc: 93.28, time: 44.1s\n",
      "[Epoch 50] Valid loss: 0.023, mcc: 53.11, acc: 76.23\n",
      "[Epoch 51] Train loss: 0.006, mcc: 85.52, acc: 93.07, time: 43.5s\n",
      "[Epoch 51] Valid loss: 0.024, mcc: 52.86, acc: 75.98\n",
      "[Epoch 52] Train loss: 0.006, mcc: 86.31, acc: 93.32, time: 44.8s\n",
      "[Epoch 52] Valid loss: 0.024, mcc: 52.87, acc: 76.03\n",
      "[Epoch 53] Train loss: 0.006, mcc: 86.80, acc: 93.30, time: 44.0s\n",
      "[Epoch 53] Valid loss: 0.024, mcc: 53.00, acc: 76.18\n",
      "[Epoch 54] Train loss: 0.006, mcc: 86.63, acc: 93.40, time: 44.8s\n",
      "[Epoch 54] Valid loss: 0.024, mcc: 52.86, acc: 76.18\n",
      "[Epoch 55] Train loss: 0.006, mcc: 87.23, acc: 93.33, time: 43.9s\n",
      "[Epoch 55] Valid loss: 0.024, mcc: 53.38, acc: 76.38\n",
      "[Epoch 56] Train loss: 0.006, mcc: 87.31, acc: 93.78, time: 45.2s\n",
      "[Epoch 56] Valid loss: 0.024, mcc: 52.73, acc: 76.08\n",
      "[Epoch 57] Train loss: 0.005, mcc: 87.95, acc: 93.85, time: 43.5s\n",
      "[Epoch 57] Valid loss: 0.024, mcc: 52.64, acc: 75.98\n",
      "[Epoch 58] Train loss: 0.006, mcc: 86.67, acc: 93.58, time: 44.0s\n",
      "[Epoch 58] Valid loss: 0.024, mcc: 53.13, acc: 76.23\n",
      "[Epoch 59] Train loss: 0.005, mcc: 87.70, acc: 93.62, time: 44.3s\n",
      "[Epoch 59] Valid loss: 0.024, mcc: 53.19, acc: 76.28\n",
      "[Epoch 60] Train loss: 0.005, mcc: 88.40, acc: 94.05, time: 44.4s\n",
      "[Epoch 60] Valid loss: 0.024, mcc: 53.05, acc: 76.28\n",
      "[Epoch 61] Train loss: 0.005, mcc: 87.23, acc: 93.87, time: 44.8s\n",
      "[Epoch 61] Valid loss: 0.025, mcc: 52.64, acc: 76.08\n",
      "[Epoch 62] Train loss: 0.005, mcc: 87.65, acc: 93.89, time: 45.2s\n",
      "[Epoch 62] Valid loss: 0.024, mcc: 53.13, acc: 76.53\n",
      "[Epoch 63] Train loss: 0.005, mcc: 87.51, acc: 93.81, time: 45.2s\n",
      "[Epoch 63] Valid loss: 0.025, mcc: 52.88, acc: 76.43\n",
      "[Epoch 64] Train loss: 0.005, mcc: 87.89, acc: 94.01, time: 43.9s\n",
      "[Epoch 64] Valid loss: 0.025, mcc: 52.62, acc: 76.03\n",
      "[Epoch 65] Train loss: 0.005, mcc: 88.32, acc: 94.29, time: 44.2s\n",
      "[Epoch 65] Valid loss: 0.025, mcc: 52.84, acc: 76.18\n",
      "[Epoch 66] Train loss: 0.005, mcc: 88.82, acc: 94.37, time: 43.5s\n",
      "[Epoch 66] Valid loss: 0.025, mcc: 52.71, acc: 76.28\n",
      "[Epoch 67] Train loss: 0.005, mcc: 89.24, acc: 94.22, time: 43.6s\n",
      "[Epoch 67] Valid loss: 0.025, mcc: 52.75, acc: 76.28\n",
      "[Epoch 68] Train loss: 0.005, mcc: 88.51, acc: 94.30, time: 43.7s\n",
      "[Epoch 68] Valid loss: 0.025, mcc: 52.93, acc: 76.33\n",
      "[Epoch 69] Train loss: 0.005, mcc: 89.82, acc: 94.54, time: 43.4s\n",
      "[Epoch 69] Valid loss: 0.025, mcc: 52.83, acc: 76.28\n",
      "[Epoch 70] Train loss: 0.005, mcc: 88.69, acc: 94.41, time: 44.0s\n",
      "[Epoch 70] Valid loss: 0.025, mcc: 52.96, acc: 76.38\n",
      "[Epoch 71] Train loss: 0.005, mcc: 89.11, acc: 94.36, time: 45.5s\n",
      "[Epoch 71] Valid loss: 0.025, mcc: 52.96, acc: 76.38\n",
      "[Epoch 72] Train loss: 0.005, mcc: 88.80, acc: 94.40, time: 45.0s\n",
      "[Epoch 72] Valid loss: 0.025, mcc: 52.55, acc: 76.23\n",
      "[Epoch 73] Train loss: 0.005, mcc: 88.64, acc: 94.34, time: 43.7s\n",
      "[Epoch 73] Valid loss: 0.025, mcc: 52.42, acc: 76.18\n",
      "[Epoch 74] Train loss: 0.005, mcc: 89.44, acc: 94.47, time: 43.6s\n",
      "[Epoch 74] Valid loss: 0.025, mcc: 52.87, acc: 76.28\n",
      "[Epoch 75] Train loss: 0.005, mcc: 89.10, acc: 94.43, time: 44.4s\n",
      "[Epoch 75] Valid loss: 0.025, mcc: 52.59, acc: 76.18\n",
      "[Epoch 76] Train loss: 0.005, mcc: 89.33, acc: 94.71, time: 44.0s\n",
      "[Epoch 76] Valid loss: 0.025, mcc: 53.04, acc: 76.33\n",
      "[Epoch 77] Train loss: 0.005, mcc: 88.52, acc: 94.41, time: 44.0s\n",
      "[Epoch 77] Valid loss: 0.025, mcc: 52.59, acc: 76.18\n",
      "[Epoch 78] Train loss: 0.005, mcc: 88.70, acc: 94.43, time: 44.8s\n",
      "[Epoch 78] Valid loss: 0.025, mcc: 52.59, acc: 76.18\n",
      "[Epoch 79] Train loss: 0.005, mcc: 88.64, acc: 94.39, time: 44.4s\n",
      "[Epoch 79] Valid loss: 0.025, mcc: 52.59, acc: 76.18\n",
      "Training finish! Best validation mcc: 53.38\n",
      "\n",
      "Start trining 2th model\n",
      "[Epoch 0] Train loss: 0.022, mcc: 6.39, acc: 53.21, time: 44.3s\n",
      "[Epoch 0] Valid loss: 0.022, mcc: 7.77, acc: 54.82\n",
      "[Epoch 1] Train loss: 0.021, mcc: 11.41, acc: 57.59, time: 44.4s\n",
      "[Epoch 1] Valid loss: 0.021, mcc: 25.05, acc: 61.22\n",
      "[Epoch 2] Train loss: 0.021, mcc: 23.31, acc: 64.03, time: 45.3s\n",
      "[Epoch 2] Valid loss: 0.020, mcc: 33.80, acc: 65.31\n",
      "[Epoch 3] Train loss: 0.020, mcc: 36.32, acc: 69.02, time: 43.8s\n",
      "[Epoch 3] Valid loss: 0.018, mcc: 40.72, acc: 70.13\n",
      "[Epoch 4] Train loss: 0.018, mcc: 43.30, acc: 72.65, time: 44.4s\n",
      "[Epoch 4] Valid loss: 0.017, mcc: 45.41, acc: 72.10\n",
      "[Epoch 5] Train loss: 0.017, mcc: 49.22, acc: 74.81, time: 44.6s\n",
      "[Epoch 5] Valid loss: 0.016, mcc: 47.42, acc: 73.38\n",
      "[Epoch 6] Train loss: 0.016, mcc: 51.28, acc: 76.03, time: 44.8s\n",
      "[Epoch 6] Valid loss: 0.016, mcc: 49.68, acc: 74.21\n",
      "[Epoch 7] Train loss: 0.015, mcc: 54.24, acc: 77.59, time: 44.9s\n",
      "[Epoch 7] Valid loss: 0.016, mcc: 51.52, acc: 75.25\n",
      "[Epoch 8] Train loss: 0.014, mcc: 58.76, acc: 79.16, time: 43.5s\n",
      "[Epoch 8] Valid loss: 0.016, mcc: 50.35, acc: 75.25\n",
      "[Epoch 9] Train loss: 0.014, mcc: 61.11, acc: 79.98, time: 43.1s\n",
      "[Epoch 9] Valid loss: 0.016, mcc: 51.33, acc: 75.64\n",
      "[Epoch 10] Train loss: 0.013, mcc: 61.75, acc: 80.77, time: 43.1s\n",
      "[Epoch 10] Valid loss: 0.016, mcc: 50.85, acc: 75.84\n",
      "[Epoch 11] Train loss: 0.013, mcc: 63.83, acc: 81.66, time: 44.5s\n",
      "[Epoch 11] Valid loss: 0.016, mcc: 50.35, acc: 75.74\n",
      "[Epoch 12] Train loss: 0.013, mcc: 63.83, acc: 81.93, time: 43.4s\n",
      "[Epoch 12] Valid loss: 0.016, mcc: 50.37, acc: 75.94\n",
      "[Epoch 13] Train loss: 0.012, mcc: 66.16, acc: 83.05, time: 44.9s\n",
      "[Epoch 13] Valid loss: 0.017, mcc: 50.75, acc: 75.74\n",
      "[Epoch 14] Train loss: 0.012, mcc: 67.50, acc: 83.35, time: 44.2s\n",
      "[Epoch 14] Valid loss: 0.016, mcc: 51.11, acc: 76.23\n",
      "[Epoch 15] Train loss: 0.012, mcc: 68.56, acc: 84.24, time: 45.4s\n",
      "[Epoch 15] Valid loss: 0.017, mcc: 50.84, acc: 75.69\n",
      "[Epoch 16] Train loss: 0.011, mcc: 70.09, acc: 84.63, time: 46.1s\n",
      "[Epoch 16] Valid loss: 0.017, mcc: 51.99, acc: 76.23\n",
      "[Epoch 17] Train loss: 0.011, mcc: 71.05, acc: 84.92, time: 45.8s\n",
      "[Epoch 17] Valid loss: 0.017, mcc: 52.28, acc: 76.13\n",
      "[Epoch 18] Train loss: 0.011, mcc: 71.75, acc: 85.51, time: 44.7s\n",
      "[Epoch 18] Valid loss: 0.017, mcc: 52.04, acc: 76.18\n",
      "[Epoch 19] Train loss: 0.011, mcc: 71.56, acc: 85.80, time: 44.9s\n",
      "[Epoch 19] Valid loss: 0.017, mcc: 52.02, acc: 76.33\n",
      "[Epoch 20] Train loss: 0.010, mcc: 71.88, acc: 86.05, time: 45.6s\n",
      "[Epoch 20] Valid loss: 0.018, mcc: 52.40, acc: 76.28\n",
      "[Epoch 21] Train loss: 0.010, mcc: 74.07, acc: 86.88, time: 44.2s\n",
      "[Epoch 21] Valid loss: 0.018, mcc: 52.87, acc: 76.67\n",
      "[Epoch 22] Train loss: 0.010, mcc: 75.44, acc: 87.47, time: 45.2s\n",
      "[Epoch 22] Valid loss: 0.018, mcc: 53.43, acc: 76.62\n",
      "[Epoch 23] Train loss: 0.010, mcc: 74.73, acc: 87.43, time: 44.5s\n",
      "[Epoch 23] Valid loss: 0.018, mcc: 52.35, acc: 76.62\n",
      "[Epoch 24] Train loss: 0.009, mcc: 76.43, acc: 88.06, time: 43.6s\n",
      "[Epoch 24] Valid loss: 0.018, mcc: 52.76, acc: 76.67\n",
      "[Epoch 25] Train loss: 0.009, mcc: 76.53, acc: 88.15, time: 45.0s\n",
      "[Epoch 25] Valid loss: 0.019, mcc: 52.71, acc: 76.57\n",
      "[Epoch 26] Train loss: 0.009, mcc: 77.78, acc: 88.64, time: 44.4s\n",
      "[Epoch 26] Valid loss: 0.018, mcc: 53.18, acc: 76.92\n",
      "[Epoch 27] Train loss: 0.009, mcc: 77.42, acc: 88.61, time: 44.3s\n",
      "[Epoch 27] Valid loss: 0.019, mcc: 53.53, acc: 76.72\n",
      "[Epoch 28] Train loss: 0.008, mcc: 78.35, acc: 89.26, time: 45.9s\n",
      "[Epoch 28] Valid loss: 0.019, mcc: 53.20, acc: 76.67\n",
      "[Epoch 29] Train loss: 0.008, mcc: 78.87, acc: 89.29, time: 45.0s\n",
      "[Epoch 29] Valid loss: 0.020, mcc: 54.19, acc: 76.92\n",
      "[Epoch 30] Train loss: 0.008, mcc: 78.86, acc: 89.70, time: 44.5s\n",
      "[Epoch 30] Valid loss: 0.020, mcc: 53.23, acc: 76.82\n",
      "[Epoch 31] Train loss: 0.008, mcc: 79.53, acc: 89.95, time: 44.8s\n",
      "[Epoch 31] Valid loss: 0.020, mcc: 53.06, acc: 76.72\n",
      "[Epoch 32] Train loss: 0.008, mcc: 80.83, acc: 90.45, time: 44.5s\n",
      "[Epoch 32] Valid loss: 0.020, mcc: 52.54, acc: 76.53\n",
      "[Epoch 33] Train loss: 0.008, mcc: 81.35, acc: 90.56, time: 44.5s\n",
      "[Epoch 33] Valid loss: 0.021, mcc: 52.76, acc: 76.38\n",
      "[Epoch 34] Train loss: 0.008, mcc: 81.29, acc: 90.74, time: 44.4s\n",
      "[Epoch 34] Valid loss: 0.021, mcc: 52.80, acc: 76.53\n",
      "[Epoch 35] Train loss: 0.007, mcc: 82.21, acc: 90.85, time: 44.0s\n",
      "[Epoch 35] Valid loss: 0.021, mcc: 52.96, acc: 76.38\n",
      "[Epoch 36] Train loss: 0.007, mcc: 81.73, acc: 90.96, time: 43.9s\n",
      "[Epoch 36] Valid loss: 0.021, mcc: 53.68, acc: 76.77\n",
      "[Epoch 37] Train loss: 0.007, mcc: 83.77, acc: 91.65, time: 44.4s\n",
      "[Epoch 37] Valid loss: 0.021, mcc: 53.05, acc: 76.82\n",
      "[Epoch 38] Train loss: 0.007, mcc: 83.96, acc: 91.83, time: 45.1s\n",
      "[Epoch 38] Valid loss: 0.021, mcc: 52.68, acc: 76.57\n",
      "[Epoch 39] Train loss: 0.007, mcc: 83.92, acc: 91.89, time: 44.9s\n",
      "[Epoch 39] Valid loss: 0.022, mcc: 52.58, acc: 76.38\n",
      "[Epoch 40] Train loss: 0.007, mcc: 83.61, acc: 92.04, time: 44.6s\n",
      "[Epoch 40] Valid loss: 0.022, mcc: 53.10, acc: 76.43\n",
      "[Epoch 41] Train loss: 0.007, mcc: 83.98, acc: 92.05, time: 44.9s\n",
      "[Epoch 41] Valid loss: 0.022, mcc: 52.95, acc: 76.67\n",
      "[Epoch 42] Train loss: 0.007, mcc: 84.11, acc: 91.90, time: 46.0s\n",
      "[Epoch 42] Valid loss: 0.022, mcc: 52.70, acc: 76.62\n",
      "[Epoch 43] Train loss: 0.006, mcc: 84.61, acc: 92.28, time: 44.9s\n",
      "[Epoch 43] Valid loss: 0.022, mcc: 52.73, acc: 76.48\n",
      "[Epoch 44] Train loss: 0.006, mcc: 85.33, acc: 92.69, time: 45.0s\n",
      "[Epoch 44] Valid loss: 0.022, mcc: 52.68, acc: 76.43\n",
      "[Epoch 45] Train loss: 0.006, mcc: 85.08, acc: 92.66, time: 44.1s\n",
      "[Epoch 45] Valid loss: 0.023, mcc: 53.03, acc: 76.62\n",
      "[Epoch 46] Train loss: 0.006, mcc: 85.82, acc: 92.84, time: 44.5s\n",
      "[Epoch 46] Valid loss: 0.023, mcc: 53.18, acc: 76.67\n",
      "[Epoch 47] Train loss: 0.006, mcc: 86.22, acc: 92.69, time: 45.5s\n",
      "[Epoch 47] Valid loss: 0.023, mcc: 52.91, acc: 76.53\n",
      "[Epoch 48] Train loss: 0.006, mcc: 86.02, acc: 93.01, time: 44.6s\n",
      "[Epoch 48] Valid loss: 0.023, mcc: 53.04, acc: 76.33\n",
      "[Epoch 49] Train loss: 0.006, mcc: 86.12, acc: 93.04, time: 44.4s\n",
      "[Epoch 49] Valid loss: 0.023, mcc: 53.07, acc: 76.38\n",
      "[Epoch 50] Train loss: 0.006, mcc: 86.39, acc: 93.13, time: 44.8s\n",
      "[Epoch 50] Valid loss: 0.023, mcc: 52.97, acc: 76.38\n",
      "[Epoch 51] Train loss: 0.006, mcc: 87.79, acc: 93.51, time: 45.2s\n",
      "[Epoch 51] Valid loss: 0.024, mcc: 52.84, acc: 76.23\n",
      "[Epoch 52] Train loss: 0.006, mcc: 85.85, acc: 93.27, time: 43.7s\n",
      "[Epoch 52] Valid loss: 0.024, mcc: 52.94, acc: 76.28\n",
      "[Epoch 53] Train loss: 0.006, mcc: 85.90, acc: 93.34, time: 44.4s\n",
      "[Epoch 53] Valid loss: 0.024, mcc: 52.79, acc: 76.23\n",
      "[Epoch 54] Train loss: 0.005, mcc: 87.88, acc: 93.71, time: 45.0s\n",
      "[Epoch 54] Valid loss: 0.024, mcc: 52.94, acc: 76.23\n",
      "[Epoch 55] Train loss: 0.005, mcc: 86.85, acc: 93.54, time: 43.8s\n",
      "[Epoch 55] Valid loss: 0.024, mcc: 52.67, acc: 76.08\n",
      "[Epoch 56] Train loss: 0.005, mcc: 87.50, acc: 93.83, time: 44.3s\n",
      "[Epoch 56] Valid loss: 0.024, mcc: 52.42, acc: 75.94\n",
      "[Epoch 57] Train loss: 0.005, mcc: 87.48, acc: 93.94, time: 44.5s\n",
      "[Epoch 57] Valid loss: 0.024, mcc: 52.33, acc: 75.94\n",
      "[Epoch 58] Train loss: 0.005, mcc: 87.37, acc: 93.78, time: 44.1s\n",
      "[Epoch 58] Valid loss: 0.024, mcc: 52.55, acc: 76.08\n",
      "[Epoch 59] Train loss: 0.005, mcc: 87.77, acc: 94.03, time: 44.9s\n",
      "[Epoch 59] Valid loss: 0.025, mcc: 52.01, acc: 75.79\n",
      "[Epoch 60] Train loss: 0.005, mcc: 87.21, acc: 93.69, time: 44.7s\n",
      "[Epoch 60] Valid loss: 0.024, mcc: 52.50, acc: 75.98\n",
      "[Epoch 61] Train loss: 0.005, mcc: 88.37, acc: 94.00, time: 44.7s\n",
      "[Epoch 61] Valid loss: 0.025, mcc: 52.41, acc: 75.98\n",
      "[Epoch 62] Train loss: 0.005, mcc: 88.28, acc: 94.06, time: 44.9s\n",
      "[Epoch 62] Valid loss: 0.025, mcc: 52.26, acc: 75.84\n",
      "[Epoch 63] Train loss: 0.005, mcc: 88.28, acc: 94.17, time: 43.9s\n",
      "[Epoch 63] Valid loss: 0.025, mcc: 52.23, acc: 75.79\n",
      "[Epoch 64] Train loss: 0.005, mcc: 88.90, acc: 94.24, time: 45.2s\n",
      "[Epoch 64] Valid loss: 0.025, mcc: 52.34, acc: 75.89\n",
      "[Epoch 65] Train loss: 0.005, mcc: 88.59, acc: 94.38, time: 44.3s\n",
      "[Epoch 65] Valid loss: 0.025, mcc: 52.25, acc: 75.94\n",
      "[Epoch 66] Train loss: 0.005, mcc: 88.57, acc: 94.44, time: 46.3s\n",
      "[Epoch 66] Valid loss: 0.025, mcc: 52.37, acc: 75.94\n",
      "[Epoch 67] Train loss: 0.005, mcc: 89.01, acc: 94.51, time: 46.3s\n",
      "[Epoch 67] Valid loss: 0.025, mcc: 52.34, acc: 75.89\n",
      "[Epoch 68] Train loss: 0.005, mcc: 88.34, acc: 94.06, time: 44.3s\n",
      "[Epoch 68] Valid loss: 0.025, mcc: 52.05, acc: 75.79\n",
      "[Epoch 69] Train loss: 0.005, mcc: 88.77, acc: 94.53, time: 43.7s\n",
      "[Epoch 69] Valid loss: 0.025, mcc: 52.01, acc: 75.79\n",
      "[Epoch 70] Train loss: 0.005, mcc: 88.64, acc: 94.38, time: 44.9s\n",
      "[Epoch 70] Valid loss: 0.025, mcc: 52.24, acc: 75.89\n",
      "[Epoch 71] Train loss: 0.005, mcc: 88.17, acc: 94.32, time: 45.7s\n",
      "[Epoch 71] Valid loss: 0.025, mcc: 52.06, acc: 75.69\n",
      "[Epoch 72] Train loss: 0.005, mcc: 89.34, acc: 94.68, time: 45.0s\n",
      "[Epoch 72] Valid loss: 0.025, mcc: 52.18, acc: 75.94\n",
      "[Epoch 73] Train loss: 0.005, mcc: 88.80, acc: 94.48, time: 46.0s\n",
      "[Epoch 73] Valid loss: 0.025, mcc: 52.08, acc: 75.79\n",
      "[Epoch 74] Train loss: 0.005, mcc: 89.10, acc: 94.55, time: 43.6s\n",
      "[Epoch 74] Valid loss: 0.025, mcc: 52.13, acc: 75.89\n",
      "[Epoch 75] Train loss: 0.005, mcc: 88.74, acc: 94.34, time: 43.3s\n",
      "[Epoch 75] Valid loss: 0.025, mcc: 52.15, acc: 75.84\n",
      "[Epoch 76] Train loss: 0.005, mcc: 88.87, acc: 94.46, time: 44.6s\n",
      "[Epoch 76] Valid loss: 0.025, mcc: 52.08, acc: 75.79\n",
      "[Epoch 77] Train loss: 0.005, mcc: 88.45, acc: 94.43, time: 44.3s\n",
      "[Epoch 77] Valid loss: 0.025, mcc: 52.28, acc: 75.94\n",
      "[Epoch 78] Train loss: 0.005, mcc: 89.55, acc: 94.48, time: 44.9s\n",
      "[Epoch 78] Valid loss: 0.025, mcc: 52.26, acc: 75.89\n",
      "[Epoch 79] Train loss: 0.005, mcc: 89.73, acc: 94.78, time: 43.3s\n",
      "[Epoch 79] Valid loss: 0.025, mcc: 52.26, acc: 75.89\n",
      "Training finish! Best validation mcc: 54.19\n",
      "\n",
      "Start trining 3th model\n",
      "[Epoch 0] Train loss: 0.024, mcc: 0.00, acc: 50.16, time: 43.9s\n",
      "[Epoch 0] Valid loss: 0.023, mcc: 0.00, acc: 47.29\n",
      "[Epoch 1] Train loss: 0.022, mcc: 1.22, acc: 51.08, time: 44.0s\n",
      "[Epoch 1] Valid loss: 0.022, mcc: 15.78, acc: 56.20\n",
      "[Epoch 2] Train loss: 0.021, mcc: 19.82, acc: 62.02, time: 44.2s\n",
      "[Epoch 2] Valid loss: 0.021, mcc: 32.55, acc: 65.11\n",
      "[Epoch 3] Train loss: 0.020, mcc: 35.32, acc: 68.18, time: 45.1s\n",
      "[Epoch 3] Valid loss: 0.019, mcc: 40.75, acc: 69.78\n",
      "[Epoch 4] Train loss: 0.018, mcc: 44.52, acc: 72.32, time: 45.7s\n",
      "[Epoch 4] Valid loss: 0.017, mcc: 46.33, acc: 72.00\n",
      "[Epoch 5] Train loss: 0.017, mcc: 48.06, acc: 74.36, time: 44.6s\n",
      "[Epoch 5] Valid loss: 0.017, mcc: 48.16, acc: 73.28\n",
      "[Epoch 6] Train loss: 0.016, mcc: 51.27, acc: 76.00, time: 45.3s\n",
      "[Epoch 6] Valid loss: 0.016, mcc: 49.53, acc: 74.31\n",
      "[Epoch 7] Train loss: 0.015, mcc: 54.93, acc: 77.70, time: 44.3s\n",
      "[Epoch 7] Valid loss: 0.016, mcc: 49.15, acc: 74.70\n",
      "[Epoch 8] Train loss: 0.014, mcc: 57.47, acc: 78.90, time: 44.3s\n",
      "[Epoch 8] Valid loss: 0.016, mcc: 49.29, acc: 75.39\n",
      "[Epoch 9] Train loss: 0.014, mcc: 58.10, acc: 79.86, time: 44.0s\n",
      "[Epoch 9] Valid loss: 0.016, mcc: 49.63, acc: 75.64\n",
      "[Epoch 10] Train loss: 0.013, mcc: 60.17, acc: 80.58, time: 44.1s\n",
      "[Epoch 10] Valid loss: 0.016, mcc: 50.85, acc: 75.49\n",
      "[Epoch 11] Train loss: 0.013, mcc: 63.26, acc: 81.44, time: 46.0s\n",
      "[Epoch 11] Valid loss: 0.017, mcc: 49.44, acc: 75.25\n",
      "[Epoch 12] Train loss: 0.013, mcc: 64.04, acc: 81.99, time: 44.5s\n",
      "[Epoch 12] Valid loss: 0.016, mcc: 48.88, acc: 75.34\n",
      "[Epoch 13] Train loss: 0.012, mcc: 65.62, acc: 82.80, time: 43.7s\n",
      "[Epoch 13] Valid loss: 0.017, mcc: 50.22, acc: 75.64\n",
      "[Epoch 14] Train loss: 0.012, mcc: 67.39, acc: 83.62, time: 44.0s\n",
      "[Epoch 14] Valid loss: 0.017, mcc: 50.89, acc: 75.64\n",
      "[Epoch 15] Train loss: 0.012, mcc: 68.07, acc: 84.01, time: 44.5s\n",
      "[Epoch 15] Valid loss: 0.017, mcc: 50.93, acc: 75.98\n",
      "[Epoch 16] Train loss: 0.011, mcc: 68.15, acc: 84.35, time: 44.7s\n",
      "[Epoch 16] Valid loss: 0.017, mcc: 51.40, acc: 75.64\n",
      "[Epoch 17] Train loss: 0.011, mcc: 69.60, acc: 84.97, time: 44.3s\n",
      "[Epoch 17] Valid loss: 0.017, mcc: 50.85, acc: 75.74\n",
      "[Epoch 18] Train loss: 0.011, mcc: 70.13, acc: 85.46, time: 44.4s\n",
      "[Epoch 18] Valid loss: 0.018, mcc: 52.66, acc: 76.13\n",
      "[Epoch 19] Train loss: 0.011, mcc: 72.24, acc: 85.95, time: 45.0s\n",
      "[Epoch 19] Valid loss: 0.018, mcc: 51.19, acc: 76.03\n",
      "[Epoch 20] Train loss: 0.010, mcc: 73.12, acc: 86.41, time: 44.0s\n",
      "[Epoch 20] Valid loss: 0.018, mcc: 50.87, acc: 76.03\n",
      "[Epoch 21] Train loss: 0.010, mcc: 72.21, acc: 86.69, time: 43.9s\n",
      "[Epoch 21] Valid loss: 0.018, mcc: 51.94, acc: 76.33\n",
      "[Epoch 22] Train loss: 0.010, mcc: 74.41, acc: 87.17, time: 44.0s\n",
      "[Epoch 22] Valid loss: 0.019, mcc: 52.26, acc: 76.38\n",
      "[Epoch 23] Train loss: 0.010, mcc: 75.52, acc: 87.48, time: 44.1s\n",
      "[Epoch 23] Valid loss: 0.019, mcc: 51.83, acc: 76.18\n",
      "[Epoch 24] Train loss: 0.009, mcc: 75.25, acc: 88.01, time: 44.1s\n",
      "[Epoch 24] Valid loss: 0.019, mcc: 52.25, acc: 76.28\n",
      "[Epoch 25] Train loss: 0.009, mcc: 77.11, acc: 88.45, time: 44.0s\n",
      "[Epoch 25] Valid loss: 0.019, mcc: 52.57, acc: 76.57\n",
      "[Epoch 26] Train loss: 0.009, mcc: 76.80, acc: 88.43, time: 45.1s\n",
      "[Epoch 26] Valid loss: 0.019, mcc: 51.68, acc: 76.13\n",
      "[Epoch 27] Train loss: 0.009, mcc: 77.57, acc: 88.67, time: 44.2s\n",
      "[Epoch 27] Valid loss: 0.020, mcc: 52.07, acc: 76.08\n",
      "[Epoch 28] Train loss: 0.008, mcc: 78.87, acc: 89.24, time: 44.2s\n",
      "[Epoch 28] Valid loss: 0.019, mcc: 52.60, acc: 76.28\n",
      "[Epoch 29] Train loss: 0.008, mcc: 78.22, acc: 89.32, time: 45.3s\n",
      "[Epoch 29] Valid loss: 0.020, mcc: 52.61, acc: 76.23\n",
      "[Epoch 30] Train loss: 0.008, mcc: 80.26, acc: 89.86, time: 45.1s\n",
      "[Epoch 30] Valid loss: 0.020, mcc: 51.96, acc: 76.08\n",
      "[Epoch 31] Train loss: 0.008, mcc: 80.68, acc: 90.15, time: 44.5s\n",
      "[Epoch 31] Valid loss: 0.020, mcc: 52.30, acc: 76.38\n",
      "[Epoch 32] Train loss: 0.008, mcc: 80.14, acc: 89.97, time: 43.5s\n",
      "[Epoch 32] Valid loss: 0.021, mcc: 52.16, acc: 76.48\n",
      "[Epoch 33] Train loss: 0.008, mcc: 80.23, acc: 90.24, time: 43.8s\n",
      "[Epoch 33] Valid loss: 0.021, mcc: 52.06, acc: 76.23\n",
      "[Epoch 34] Train loss: 0.007, mcc: 81.60, acc: 90.84, time: 43.6s\n",
      "[Epoch 34] Valid loss: 0.021, mcc: 52.03, acc: 76.23\n",
      "[Epoch 35] Train loss: 0.007, mcc: 81.66, acc: 91.09, time: 43.6s\n",
      "[Epoch 35] Valid loss: 0.022, mcc: 52.07, acc: 75.98\n",
      "[Epoch 36] Train loss: 0.007, mcc: 82.90, acc: 91.34, time: 43.8s\n",
      "[Epoch 36] Valid loss: 0.021, mcc: 51.96, acc: 76.18\n",
      "[Epoch 37] Train loss: 0.007, mcc: 83.21, acc: 91.05, time: 44.5s\n",
      "[Epoch 37] Valid loss: 0.022, mcc: 52.30, acc: 76.28\n",
      "[Epoch 38] Train loss: 0.007, mcc: 83.19, acc: 91.30, time: 44.5s\n",
      "[Epoch 38] Valid loss: 0.022, mcc: 52.51, acc: 76.57\n",
      "[Epoch 39] Train loss: 0.007, mcc: 82.92, acc: 91.97, time: 45.3s\n",
      "[Epoch 39] Valid loss: 0.022, mcc: 52.35, acc: 76.38\n",
      "[Epoch 40] Train loss: 0.007, mcc: 83.66, acc: 91.77, time: 44.6s\n",
      "[Epoch 40] Valid loss: 0.022, mcc: 52.21, acc: 76.28\n",
      "[Epoch 41] Train loss: 0.007, mcc: 84.10, acc: 91.82, time: 44.3s\n",
      "[Epoch 41] Valid loss: 0.022, mcc: 53.08, acc: 76.72\n",
      "[Epoch 42] Train loss: 0.006, mcc: 85.00, acc: 92.22, time: 44.1s\n",
      "[Epoch 42] Valid loss: 0.023, mcc: 52.50, acc: 76.33\n",
      "[Epoch 43] Train loss: 0.006, mcc: 84.42, acc: 92.23, time: 45.3s\n",
      "[Epoch 43] Valid loss: 0.023, mcc: 52.23, acc: 76.13\n",
      "[Epoch 44] Train loss: 0.006, mcc: 85.13, acc: 92.40, time: 45.4s\n",
      "[Epoch 44] Valid loss: 0.023, mcc: 52.62, acc: 76.38\n",
      "[Epoch 45] Train loss: 0.006, mcc: 84.42, acc: 92.47, time: 45.5s\n",
      "[Epoch 45] Valid loss: 0.023, mcc: 52.37, acc: 76.28\n",
      "[Epoch 46] Train loss: 0.006, mcc: 85.89, acc: 92.76, time: 45.5s\n",
      "[Epoch 46] Valid loss: 0.024, mcc: 52.09, acc: 76.23\n",
      "[Epoch 47] Train loss: 0.006, mcc: 86.54, acc: 92.84, time: 43.8s\n",
      "[Epoch 47] Valid loss: 0.024, mcc: 52.27, acc: 76.23\n",
      "[Epoch 48] Train loss: 0.006, mcc: 85.34, acc: 93.01, time: 43.9s\n",
      "[Epoch 48] Valid loss: 0.024, mcc: 52.48, acc: 76.28\n",
      "[Epoch 49] Train loss: 0.006, mcc: 86.43, acc: 92.96, time: 44.0s\n",
      "[Epoch 49] Valid loss: 0.024, mcc: 52.34, acc: 76.28\n",
      "[Epoch 50] Train loss: 0.006, mcc: 86.42, acc: 93.28, time: 45.2s\n",
      "[Epoch 50] Valid loss: 0.024, mcc: 52.24, acc: 76.23\n",
      "[Epoch 51] Train loss: 0.006, mcc: 86.68, acc: 93.38, time: 45.0s\n",
      "[Epoch 51] Valid loss: 0.024, mcc: 52.40, acc: 76.28\n",
      "[Epoch 52] Train loss: 0.006, mcc: 86.49, acc: 93.58, time: 44.1s\n",
      "[Epoch 52] Valid loss: 0.024, mcc: 52.79, acc: 76.43\n",
      "[Epoch 53] Train loss: 0.005, mcc: 87.58, acc: 93.58, time: 44.9s\n",
      "[Epoch 53] Valid loss: 0.025, mcc: 52.78, acc: 76.57\n",
      "[Epoch 54] Train loss: 0.005, mcc: 87.55, acc: 93.69, time: 43.5s\n",
      "[Epoch 54] Valid loss: 0.025, mcc: 52.83, acc: 76.48\n",
      "[Epoch 55] Train loss: 0.005, mcc: 87.59, acc: 93.77, time: 43.4s\n",
      "[Epoch 55] Valid loss: 0.025, mcc: 52.77, acc: 76.43\n",
      "[Epoch 56] Train loss: 0.005, mcc: 88.15, acc: 93.81, time: 44.0s\n",
      "[Epoch 56] Valid loss: 0.025, mcc: 52.62, acc: 76.33\n",
      "[Epoch 57] Train loss: 0.005, mcc: 88.27, acc: 93.95, time: 44.3s\n",
      "[Epoch 57] Valid loss: 0.025, mcc: 52.74, acc: 76.38\n",
      "[Epoch 58] Train loss: 0.005, mcc: 88.08, acc: 93.89, time: 44.2s\n",
      "[Epoch 58] Valid loss: 0.025, mcc: 53.19, acc: 76.53\n",
      "[Epoch 59] Train loss: 0.005, mcc: 88.80, acc: 94.13, time: 44.0s\n",
      "[Epoch 59] Valid loss: 0.025, mcc: 52.35, acc: 76.28\n",
      "[Epoch 60] Train loss: 0.005, mcc: 87.54, acc: 93.75, time: 44.2s\n",
      "[Epoch 60] Valid loss: 0.025, mcc: 52.57, acc: 76.38\n",
      "[Epoch 61] Train loss: 0.005, mcc: 88.95, acc: 93.95, time: 44.3s\n",
      "[Epoch 61] Valid loss: 0.025, mcc: 52.33, acc: 76.23\n",
      "[Epoch 62] Train loss: 0.005, mcc: 88.74, acc: 94.27, time: 44.3s\n",
      "[Epoch 62] Valid loss: 0.026, mcc: 52.05, acc: 76.13\n",
      "[Epoch 63] Train loss: 0.005, mcc: 88.15, acc: 94.22, time: 44.0s\n",
      "[Epoch 63] Valid loss: 0.025, mcc: 52.85, acc: 76.48\n",
      "[Epoch 64] Train loss: 0.005, mcc: 89.05, acc: 94.26, time: 44.1s\n",
      "[Epoch 64] Valid loss: 0.026, mcc: 52.46, acc: 76.33\n",
      "[Epoch 65] Train loss: 0.005, mcc: 88.80, acc: 94.17, time: 45.5s\n",
      "[Epoch 65] Valid loss: 0.026, mcc: 52.15, acc: 76.23\n",
      "[Epoch 66] Train loss: 0.005, mcc: 88.72, acc: 94.31, time: 44.9s\n",
      "[Epoch 66] Valid loss: 0.026, mcc: 52.27, acc: 76.18\n",
      "[Epoch 67] Train loss: 0.005, mcc: 89.82, acc: 94.92, time: 45.3s\n",
      "[Epoch 67] Valid loss: 0.026, mcc: 52.02, acc: 76.23\n",
      "[Epoch 68] Train loss: 0.005, mcc: 89.30, acc: 94.48, time: 44.6s\n",
      "[Epoch 68] Valid loss: 0.026, mcc: 52.10, acc: 76.13\n",
      "[Epoch 69] Train loss: 0.005, mcc: 89.58, acc: 94.74, time: 43.9s\n",
      "[Epoch 69] Valid loss: 0.026, mcc: 52.06, acc: 76.13\n",
      "[Epoch 70] Train loss: 0.005, mcc: 89.85, acc: 94.70, time: 45.8s\n",
      "[Epoch 70] Valid loss: 0.026, mcc: 51.81, acc: 76.08\n",
      "[Epoch 71] Train loss: 0.005, mcc: 88.86, acc: 94.44, time: 45.5s\n",
      "[Epoch 71] Valid loss: 0.026, mcc: 52.15, acc: 76.18\n",
      "[Epoch 72] Train loss: 0.005, mcc: 88.93, acc: 94.56, time: 43.8s\n",
      "[Epoch 72] Valid loss: 0.026, mcc: 52.01, acc: 76.13\n",
      "[Epoch 73] Train loss: 0.005, mcc: 88.88, acc: 94.50, time: 43.4s\n",
      "[Epoch 73] Valid loss: 0.026, mcc: 52.17, acc: 76.18\n",
      "[Epoch 74] Train loss: 0.005, mcc: 88.18, acc: 94.52, time: 43.6s\n",
      "[Epoch 74] Valid loss: 0.026, mcc: 52.07, acc: 76.13\n",
      "[Epoch 75] Train loss: 0.005, mcc: 88.89, acc: 94.42, time: 44.1s\n",
      "[Epoch 75] Valid loss: 0.026, mcc: 51.66, acc: 76.13\n",
      "[Epoch 76] Train loss: 0.005, mcc: 88.92, acc: 94.60, time: 44.0s\n",
      "[Epoch 76] Valid loss: 0.026, mcc: 51.66, acc: 76.13\n",
      "[Epoch 77] Train loss: 0.005, mcc: 89.14, acc: 94.80, time: 44.6s\n",
      "[Epoch 77] Valid loss: 0.026, mcc: 51.80, acc: 76.13\n",
      "[Epoch 78] Train loss: 0.005, mcc: 89.22, acc: 94.47, time: 44.1s\n",
      "[Epoch 78] Valid loss: 0.026, mcc: 51.63, acc: 76.03\n",
      "[Epoch 79] Train loss: 0.005, mcc: 89.37, acc: 94.49, time: 44.5s\n",
      "[Epoch 79] Valid loss: 0.026, mcc: 51.63, acc: 76.03\n",
      "Training finish! Best validation mcc: 53.19\n",
      "\n",
      "Start trining 4th model\n",
      "[Epoch 0] Train loss: 0.022, mcc: -1.06, acc: 50.21, time: 44.5s\n",
      "[Epoch 0] Valid loss: 0.022, mcc: -0.76, acc: 47.44\n",
      "[Epoch 1] Train loss: 0.022, mcc: 6.06, acc: 55.32, time: 44.2s\n",
      "[Epoch 1] Valid loss: 0.022, mcc: 24.47, acc: 60.88\n",
      "[Epoch 2] Train loss: 0.021, mcc: 23.53, acc: 62.96, time: 44.3s\n",
      "[Epoch 2] Valid loss: 0.021, mcc: 35.17, acc: 66.29\n",
      "[Epoch 3] Train loss: 0.020, mcc: 35.21, acc: 68.95, time: 44.1s\n",
      "[Epoch 3] Valid loss: 0.019, mcc: 42.79, acc: 69.73\n",
      "[Epoch 4] Train loss: 0.019, mcc: 42.94, acc: 72.17, time: 44.8s\n",
      "[Epoch 4] Valid loss: 0.018, mcc: 46.58, acc: 71.95\n",
      "[Epoch 5] Train loss: 0.017, mcc: 49.29, acc: 74.98, time: 44.7s\n",
      "[Epoch 5] Valid loss: 0.017, mcc: 49.16, acc: 73.62\n",
      "[Epoch 6] Train loss: 0.016, mcc: 53.69, acc: 76.52, time: 43.7s\n",
      "[Epoch 6] Valid loss: 0.016, mcc: 50.65, acc: 74.31\n",
      "[Epoch 7] Train loss: 0.015, mcc: 55.71, acc: 78.07, time: 43.9s\n",
      "[Epoch 7] Valid loss: 0.016, mcc: 49.75, acc: 74.61\n",
      "[Epoch 8] Train loss: 0.014, mcc: 58.31, acc: 78.89, time: 43.7s\n",
      "[Epoch 8] Valid loss: 0.016, mcc: 50.48, acc: 75.25\n",
      "[Epoch 9] Train loss: 0.014, mcc: 61.16, acc: 80.35, time: 44.4s\n",
      "[Epoch 9] Valid loss: 0.016, mcc: 50.80, acc: 75.69\n",
      "[Epoch 10] Train loss: 0.013, mcc: 61.65, acc: 80.95, time: 44.4s\n",
      "[Epoch 10] Valid loss: 0.016, mcc: 50.96, acc: 75.79\n",
      "[Epoch 11] Train loss: 0.013, mcc: 62.29, acc: 81.51, time: 44.4s\n",
      "[Epoch 11] Valid loss: 0.017, mcc: 52.10, acc: 75.94\n",
      "[Epoch 12] Train loss: 0.013, mcc: 64.06, acc: 82.41, time: 44.3s\n",
      "[Epoch 12] Valid loss: 0.016, mcc: 51.45, acc: 75.98\n",
      "[Epoch 13] Train loss: 0.012, mcc: 66.17, acc: 82.93, time: 44.0s\n",
      "[Epoch 13] Valid loss: 0.017, mcc: 51.51, acc: 75.84\n",
      "[Epoch 14] Train loss: 0.012, mcc: 66.70, acc: 83.57, time: 43.8s\n",
      "[Epoch 14] Valid loss: 0.017, mcc: 51.44, acc: 75.84\n",
      "[Epoch 15] Train loss: 0.012, mcc: 68.05, acc: 84.30, time: 46.0s\n",
      "[Epoch 15] Valid loss: 0.017, mcc: 51.83, acc: 76.13\n",
      "[Epoch 16] Train loss: 0.011, mcc: 69.97, acc: 84.75, time: 44.6s\n",
      "[Epoch 16] Valid loss: 0.017, mcc: 52.26, acc: 76.08\n",
      "[Epoch 17] Train loss: 0.011, mcc: 70.18, acc: 85.34, time: 44.7s\n",
      "[Epoch 17] Valid loss: 0.017, mcc: 52.31, acc: 76.03\n",
      "[Epoch 18] Train loss: 0.011, mcc: 72.27, acc: 85.76, time: 43.5s\n",
      "[Epoch 18] Valid loss: 0.017, mcc: 52.33, acc: 76.13\n",
      "[Epoch 19] Train loss: 0.010, mcc: 73.18, acc: 86.30, time: 44.0s\n",
      "[Epoch 19] Valid loss: 0.018, mcc: 52.57, acc: 76.33\n",
      "[Epoch 20] Train loss: 0.010, mcc: 73.48, acc: 86.85, time: 44.0s\n",
      "[Epoch 20] Valid loss: 0.018, mcc: 53.43, acc: 76.33\n",
      "[Epoch 21] Train loss: 0.010, mcc: 74.25, acc: 87.02, time: 44.4s\n",
      "[Epoch 21] Valid loss: 0.018, mcc: 53.00, acc: 76.38\n",
      "[Epoch 22] Train loss: 0.010, mcc: 75.21, acc: 87.29, time: 44.0s\n",
      "[Epoch 22] Valid loss: 0.018, mcc: 52.86, acc: 76.33\n",
      "[Epoch 23] Train loss: 0.010, mcc: 74.88, acc: 87.59, time: 44.5s\n",
      "[Epoch 23] Valid loss: 0.018, mcc: 53.58, acc: 76.48\n",
      "[Epoch 24] Train loss: 0.009, mcc: 77.42, acc: 88.30, time: 44.2s\n",
      "[Epoch 24] Valid loss: 0.019, mcc: 52.27, acc: 76.08\n",
      "[Epoch 25] Train loss: 0.009, mcc: 77.34, acc: 88.73, time: 44.7s\n",
      "[Epoch 25] Valid loss: 0.019, mcc: 52.92, acc: 76.18\n",
      "[Epoch 26] Train loss: 0.009, mcc: 78.59, acc: 88.93, time: 45.2s\n",
      "[Epoch 26] Valid loss: 0.019, mcc: 53.01, acc: 76.23\n",
      "[Epoch 27] Train loss: 0.009, mcc: 79.71, acc: 89.38, time: 45.3s\n",
      "[Epoch 27] Valid loss: 0.019, mcc: 53.29, acc: 76.43\n",
      "[Epoch 28] Train loss: 0.009, mcc: 79.21, acc: 89.28, time: 43.9s\n",
      "[Epoch 28] Valid loss: 0.019, mcc: 52.70, acc: 76.43\n",
      "[Epoch 29] Train loss: 0.008, mcc: 79.61, acc: 89.54, time: 43.2s\n",
      "[Epoch 29] Valid loss: 0.020, mcc: 51.88, acc: 75.84\n",
      "[Epoch 30] Train loss: 0.008, mcc: 79.70, acc: 90.05, time: 44.2s\n",
      "[Epoch 30] Valid loss: 0.020, mcc: 52.26, acc: 76.08\n",
      "[Epoch 31] Train loss: 0.008, mcc: 80.37, acc: 90.44, time: 43.6s\n",
      "[Epoch 31] Valid loss: 0.020, mcc: 52.35, acc: 76.28\n",
      "[Epoch 32] Train loss: 0.008, mcc: 80.83, acc: 90.55, time: 43.3s\n",
      "[Epoch 32] Valid loss: 0.020, mcc: 51.96, acc: 76.33\n",
      "[Epoch 33] Train loss: 0.008, mcc: 79.76, acc: 90.46, time: 43.6s\n",
      "[Epoch 33] Valid loss: 0.020, mcc: 52.13, acc: 76.28\n",
      "[Epoch 34] Train loss: 0.007, mcc: 81.45, acc: 90.90, time: 44.5s\n",
      "[Epoch 34] Valid loss: 0.021, mcc: 52.16, acc: 76.23\n",
      "[Epoch 35] Train loss: 0.007, mcc: 81.64, acc: 90.87, time: 44.0s\n",
      "[Epoch 35] Valid loss: 0.021, mcc: 51.60, acc: 76.13\n",
      "[Epoch 36] Train loss: 0.007, mcc: 80.53, acc: 91.17, time: 43.8s\n",
      "[Epoch 36] Valid loss: 0.021, mcc: 52.12, acc: 76.18\n",
      "[Epoch 37] Train loss: 0.007, mcc: 83.00, acc: 91.56, time: 43.6s\n",
      "[Epoch 37] Valid loss: 0.021, mcc: 52.47, acc: 76.28\n",
      "[Epoch 38] Train loss: 0.007, mcc: 83.51, acc: 91.52, time: 43.6s\n",
      "[Epoch 38] Valid loss: 0.021, mcc: 52.33, acc: 76.28\n",
      "[Epoch 39] Train loss: 0.007, mcc: 83.98, acc: 92.08, time: 44.1s\n",
      "[Epoch 39] Valid loss: 0.021, mcc: 52.10, acc: 76.13\n",
      "[Epoch 40] Train loss: 0.007, mcc: 83.07, acc: 91.61, time: 44.1s\n",
      "[Epoch 40] Valid loss: 0.021, mcc: 52.10, acc: 76.18\n",
      "[Epoch 41] Train loss: 0.007, mcc: 84.02, acc: 91.89, time: 44.2s\n",
      "[Epoch 41] Valid loss: 0.022, mcc: 51.93, acc: 76.13\n",
      "[Epoch 42] Train loss: 0.006, mcc: 84.43, acc: 92.29, time: 44.4s\n",
      "[Epoch 42] Valid loss: 0.022, mcc: 52.13, acc: 76.18\n",
      "[Epoch 43] Train loss: 0.006, mcc: 84.80, acc: 92.38, time: 44.1s\n",
      "[Epoch 43] Valid loss: 0.022, mcc: 52.58, acc: 76.43\n",
      "[Epoch 44] Train loss: 0.006, mcc: 85.51, acc: 92.66, time: 43.8s\n",
      "[Epoch 44] Valid loss: 0.022, mcc: 52.65, acc: 76.43\n",
      "[Epoch 45] Train loss: 0.006, mcc: 84.96, acc: 92.57, time: 45.7s\n",
      "[Epoch 45] Valid loss: 0.023, mcc: 51.90, acc: 76.03\n",
      "[Epoch 46] Train loss: 0.006, mcc: 85.94, acc: 92.95, time: 43.7s\n",
      "[Epoch 46] Valid loss: 0.023, mcc: 52.38, acc: 76.08\n",
      "[Epoch 47] Train loss: 0.006, mcc: 85.90, acc: 92.84, time: 44.2s\n",
      "[Epoch 47] Valid loss: 0.023, mcc: 52.10, acc: 76.03\n",
      "[Epoch 48] Train loss: 0.006, mcc: 86.41, acc: 93.17, time: 44.2s\n",
      "[Epoch 48] Valid loss: 0.023, mcc: 52.70, acc: 76.43\n",
      "[Epoch 49] Train loss: 0.006, mcc: 86.01, acc: 92.78, time: 44.0s\n",
      "[Epoch 49] Valid loss: 0.023, mcc: 51.99, acc: 76.08\n",
      "[Epoch 50] Train loss: 0.006, mcc: 85.62, acc: 93.08, time: 44.7s\n",
      "[Epoch 50] Valid loss: 0.023, mcc: 52.02, acc: 76.13\n",
      "[Epoch 51] Train loss: 0.006, mcc: 85.87, acc: 93.25, time: 44.4s\n",
      "[Epoch 51] Valid loss: 0.023, mcc: 52.17, acc: 76.08\n",
      "[Epoch 52] Train loss: 0.006, mcc: 87.72, acc: 93.63, time: 44.2s\n",
      "[Epoch 52] Valid loss: 0.023, mcc: 52.49, acc: 76.28\n",
      "[Epoch 53] Train loss: 0.006, mcc: 87.82, acc: 93.69, time: 44.4s\n",
      "[Epoch 53] Valid loss: 0.023, mcc: 52.08, acc: 76.18\n",
      "[Epoch 54] Train loss: 0.006, mcc: 86.85, acc: 93.55, time: 44.0s\n",
      "[Epoch 54] Valid loss: 0.023, mcc: 51.96, acc: 76.28\n",
      "[Epoch 55] Train loss: 0.005, mcc: 87.34, acc: 93.76, time: 43.9s\n",
      "[Epoch 55] Valid loss: 0.023, mcc: 51.92, acc: 76.18\n",
      "[Epoch 56] Train loss: 0.005, mcc: 87.47, acc: 93.78, time: 43.5s\n",
      "[Epoch 56] Valid loss: 0.024, mcc: 51.33, acc: 76.03\n",
      "[Epoch 57] Train loss: 0.005, mcc: 87.77, acc: 93.90, time: 43.4s\n",
      "[Epoch 57] Valid loss: 0.024, mcc: 52.06, acc: 76.28\n",
      "[Epoch 58] Train loss: 0.005, mcc: 88.38, acc: 93.97, time: 43.7s\n",
      "[Epoch 58] Valid loss: 0.024, mcc: 51.78, acc: 76.33\n",
      "[Epoch 59] Train loss: 0.005, mcc: 87.32, acc: 93.93, time: 43.5s\n",
      "[Epoch 59] Valid loss: 0.024, mcc: 52.25, acc: 76.43\n",
      "[Epoch 60] Train loss: 0.005, mcc: 88.64, acc: 94.20, time: 44.1s\n",
      "[Epoch 60] Valid loss: 0.024, mcc: 51.73, acc: 76.18\n",
      "[Epoch 61] Train loss: 0.005, mcc: 89.15, acc: 94.34, time: 44.3s\n",
      "[Epoch 61] Valid loss: 0.024, mcc: 51.98, acc: 76.33\n",
      "[Epoch 62] Train loss: 0.005, mcc: 88.36, acc: 94.10, time: 44.5s\n",
      "[Epoch 62] Valid loss: 0.024, mcc: 51.90, acc: 76.38\n",
      "[Epoch 63] Train loss: 0.005, mcc: 88.29, acc: 94.09, time: 43.8s\n",
      "[Epoch 63] Valid loss: 0.025, mcc: 51.64, acc: 76.28\n",
      "[Epoch 64] Train loss: 0.005, mcc: 88.26, acc: 94.19, time: 44.5s\n",
      "[Epoch 64] Valid loss: 0.024, mcc: 52.42, acc: 76.43\n",
      "[Epoch 65] Train loss: 0.005, mcc: 88.12, acc: 94.27, time: 44.9s\n",
      "[Epoch 65] Valid loss: 0.025, mcc: 52.46, acc: 76.53\n",
      "[Epoch 66] Train loss: 0.005, mcc: 89.60, acc: 94.38, time: 44.9s\n",
      "[Epoch 66] Valid loss: 0.025, mcc: 52.16, acc: 76.33\n",
      "[Epoch 67] Train loss: 0.005, mcc: 88.72, acc: 94.20, time: 44.9s\n",
      "[Epoch 67] Valid loss: 0.025, mcc: 51.78, acc: 76.23\n",
      "[Epoch 68] Train loss: 0.005, mcc: 89.62, acc: 94.48, time: 44.7s\n",
      "[Epoch 68] Valid loss: 0.025, mcc: 52.20, acc: 76.23\n",
      "[Epoch 69] Train loss: 0.005, mcc: 88.43, acc: 94.32, time: 44.0s\n",
      "[Epoch 69] Valid loss: 0.025, mcc: 52.23, acc: 76.33\n",
      "[Epoch 70] Train loss: 0.005, mcc: 88.94, acc: 94.42, time: 43.6s\n",
      "[Epoch 70] Valid loss: 0.025, mcc: 51.83, acc: 76.18\n",
      "[Epoch 71] Train loss: 0.005, mcc: 88.86, acc: 94.46, time: 43.9s\n",
      "[Epoch 71] Valid loss: 0.025, mcc: 51.68, acc: 76.13\n",
      "[Epoch 72] Train loss: 0.005, mcc: 89.62, acc: 94.72, time: 44.0s\n",
      "[Epoch 72] Valid loss: 0.025, mcc: 52.05, acc: 76.13\n",
      "[Epoch 73] Train loss: 0.005, mcc: 88.78, acc: 94.41, time: 44.2s\n",
      "[Epoch 73] Valid loss: 0.025, mcc: 51.71, acc: 76.08\n",
      "[Epoch 74] Train loss: 0.005, mcc: 88.35, acc: 94.29, time: 43.8s\n",
      "[Epoch 74] Valid loss: 0.025, mcc: 52.05, acc: 76.13\n",
      "[Epoch 75] Train loss: 0.005, mcc: 89.18, acc: 94.39, time: 43.9s\n",
      "[Epoch 75] Valid loss: 0.025, mcc: 52.23, acc: 76.13\n",
      "[Epoch 76] Train loss: 0.005, mcc: 88.45, acc: 94.41, time: 44.5s\n",
      "[Epoch 76] Valid loss: 0.025, mcc: 51.83, acc: 76.03\n",
      "[Epoch 77] Train loss: 0.005, mcc: 88.82, acc: 94.53, time: 44.3s\n",
      "[Epoch 77] Valid loss: 0.025, mcc: 52.08, acc: 76.08\n",
      "[Epoch 78] Train loss: 0.005, mcc: 90.17, acc: 94.72, time: 45.3s\n",
      "[Epoch 78] Valid loss: 0.025, mcc: 52.08, acc: 76.08\n",
      "[Epoch 79] Train loss: 0.005, mcc: 88.61, acc: 94.49, time: 44.5s\n",
      "[Epoch 79] Valid loss: 0.025, mcc: 52.21, acc: 76.13\n",
      "Training finish! Best validation mcc: 53.58\n",
      "\n",
      "Start trining 5th model\n",
      "[Epoch 0] Train loss: 0.023, mcc: 0.00, acc: 49.84, time: 43.2s\n",
      "[Epoch 0] Valid loss: 0.022, mcc: 0.00, acc: 52.71\n",
      "[Epoch 1] Train loss: 0.022, mcc: 4.67, acc: 53.72, time: 43.3s\n",
      "[Epoch 1] Valid loss: 0.021, mcc: 21.85, acc: 59.79\n",
      "[Epoch 2] Train loss: 0.021, mcc: 19.81, acc: 61.61, time: 44.1s\n",
      "[Epoch 2] Valid loss: 0.021, mcc: 35.29, acc: 65.60\n",
      "[Epoch 3] Train loss: 0.020, mcc: 32.38, acc: 67.44, time: 44.6s\n",
      "[Epoch 3] Valid loss: 0.019, mcc: 41.26, acc: 69.14\n",
      "[Epoch 4] Train loss: 0.019, mcc: 43.26, acc: 71.62, time: 44.7s\n",
      "[Epoch 4] Valid loss: 0.017, mcc: 47.16, acc: 72.44\n",
      "[Epoch 5] Train loss: 0.017, mcc: 48.50, acc: 74.65, time: 44.0s\n",
      "[Epoch 5] Valid loss: 0.016, mcc: 48.73, acc: 73.62\n",
      "[Epoch 6] Train loss: 0.016, mcc: 51.86, acc: 76.27, time: 44.7s\n",
      "[Epoch 6] Valid loss: 0.016, mcc: 50.34, acc: 74.56\n",
      "[Epoch 7] Train loss: 0.015, mcc: 54.49, acc: 77.76, time: 43.4s\n",
      "[Epoch 7] Valid loss: 0.016, mcc: 49.69, acc: 74.95\n",
      "[Epoch 8] Train loss: 0.014, mcc: 56.57, acc: 78.81, time: 44.0s\n",
      "[Epoch 8] Valid loss: 0.016, mcc: 51.76, acc: 75.94\n",
      "[Epoch 9] Train loss: 0.014, mcc: 59.81, acc: 79.64, time: 44.2s\n",
      "[Epoch 9] Valid loss: 0.016, mcc: 51.58, acc: 75.84\n",
      "[Epoch 10] Train loss: 0.014, mcc: 61.50, acc: 80.70, time: 43.9s\n",
      "[Epoch 10] Valid loss: 0.016, mcc: 50.95, acc: 75.89\n",
      "[Epoch 11] Train loss: 0.013, mcc: 63.37, acc: 81.53, time: 43.9s\n",
      "[Epoch 11] Valid loss: 0.016, mcc: 51.14, acc: 75.94\n",
      "[Epoch 12] Train loss: 0.013, mcc: 65.17, acc: 82.36, time: 43.5s\n",
      "[Epoch 12] Valid loss: 0.016, mcc: 51.07, acc: 76.03\n",
      "[Epoch 13] Train loss: 0.012, mcc: 66.39, acc: 83.01, time: 44.1s\n",
      "[Epoch 13] Valid loss: 0.017, mcc: 51.28, acc: 75.84\n",
      "[Epoch 14] Train loss: 0.012, mcc: 66.94, acc: 83.66, time: 45.0s\n",
      "[Epoch 14] Valid loss: 0.016, mcc: 52.55, acc: 76.43\n",
      "[Epoch 15] Train loss: 0.012, mcc: 67.86, acc: 83.92, time: 45.1s\n",
      "[Epoch 15] Valid loss: 0.017, mcc: 52.28, acc: 76.57\n",
      "[Epoch 16] Train loss: 0.011, mcc: 68.42, acc: 84.39, time: 44.3s\n",
      "[Epoch 16] Valid loss: 0.017, mcc: 51.59, acc: 76.23\n",
      "[Epoch 17] Train loss: 0.011, mcc: 70.38, acc: 85.05, time: 44.0s\n",
      "[Epoch 17] Valid loss: 0.017, mcc: 53.30, acc: 76.67\n",
      "[Epoch 18] Train loss: 0.011, mcc: 72.19, acc: 85.52, time: 44.0s\n",
      "[Epoch 18] Valid loss: 0.017, mcc: 52.65, acc: 76.57\n",
      "[Epoch 19] Train loss: 0.011, mcc: 70.97, acc: 85.50, time: 45.0s\n",
      "[Epoch 19] Valid loss: 0.017, mcc: 52.79, acc: 76.67\n",
      "[Epoch 20] Train loss: 0.010, mcc: 71.64, acc: 86.26, time: 45.4s\n",
      "[Epoch 20] Valid loss: 0.018, mcc: 52.83, acc: 76.67\n",
      "[Epoch 21] Train loss: 0.010, mcc: 73.40, acc: 86.76, time: 44.6s\n",
      "[Epoch 21] Valid loss: 0.018, mcc: 52.85, acc: 76.62\n",
      "[Epoch 22] Train loss: 0.010, mcc: 74.72, acc: 87.12, time: 43.7s\n",
      "[Epoch 22] Valid loss: 0.018, mcc: 52.94, acc: 76.48\n",
      "[Epoch 23] Train loss: 0.010, mcc: 74.36, acc: 87.30, time: 43.9s\n",
      "[Epoch 23] Valid loss: 0.018, mcc: 53.49, acc: 76.62\n",
      "[Epoch 24] Train loss: 0.009, mcc: 75.63, acc: 87.77, time: 43.8s\n",
      "[Epoch 24] Valid loss: 0.019, mcc: 53.94, acc: 76.82\n",
      "[Epoch 25] Train loss: 0.009, mcc: 76.34, acc: 87.98, time: 43.0s\n",
      "[Epoch 25] Valid loss: 0.019, mcc: 53.43, acc: 76.82\n",
      "[Epoch 26] Train loss: 0.009, mcc: 75.91, acc: 88.31, time: 43.0s\n",
      "[Epoch 26] Valid loss: 0.019, mcc: 54.33, acc: 77.17\n",
      "[Epoch 27] Train loss: 0.009, mcc: 77.50, acc: 88.92, time: 43.6s\n",
      "[Epoch 27] Valid loss: 0.019, mcc: 54.00, acc: 77.17\n",
      "[Epoch 28] Train loss: 0.008, mcc: 79.32, acc: 89.58, time: 43.5s\n",
      "[Epoch 28] Valid loss: 0.019, mcc: 54.14, acc: 77.07\n",
      "[Epoch 29] Train loss: 0.008, mcc: 79.87, acc: 89.59, time: 44.1s\n",
      "[Epoch 29] Valid loss: 0.019, mcc: 53.85, acc: 77.21\n",
      "[Epoch 30] Train loss: 0.008, mcc: 79.67, acc: 89.68, time: 44.1s\n",
      "[Epoch 30] Valid loss: 0.020, mcc: 54.48, acc: 76.92\n",
      "[Epoch 31] Train loss: 0.008, mcc: 79.84, acc: 89.81, time: 44.6s\n",
      "[Epoch 31] Valid loss: 0.020, mcc: 53.49, acc: 76.87\n",
      "[Epoch 32] Train loss: 0.008, mcc: 79.70, acc: 89.97, time: 44.4s\n",
      "[Epoch 32] Valid loss: 0.020, mcc: 54.54, acc: 77.02\n",
      "[Epoch 33] Train loss: 0.008, mcc: 82.16, acc: 90.83, time: 45.0s\n",
      "[Epoch 33] Valid loss: 0.020, mcc: 54.21, acc: 76.97\n",
      "[Epoch 34] Train loss: 0.008, mcc: 81.34, acc: 90.70, time: 44.4s\n",
      "[Epoch 34] Valid loss: 0.021, mcc: 53.56, acc: 76.72\n",
      "[Epoch 35] Train loss: 0.007, mcc: 82.36, acc: 90.96, time: 44.5s\n",
      "[Epoch 35] Valid loss: 0.021, mcc: 53.56, acc: 76.67\n",
      "[Epoch 36] Train loss: 0.007, mcc: 82.11, acc: 91.11, time: 44.1s\n",
      "[Epoch 36] Valid loss: 0.021, mcc: 53.61, acc: 76.67\n",
      "[Epoch 37] Train loss: 0.007, mcc: 83.36, acc: 91.60, time: 43.7s\n",
      "[Epoch 37] Valid loss: 0.021, mcc: 53.69, acc: 76.82\n",
      "[Epoch 38] Train loss: 0.007, mcc: 82.33, acc: 91.07, time: 44.4s\n",
      "[Epoch 38] Valid loss: 0.021, mcc: 53.84, acc: 76.82\n",
      "[Epoch 39] Train loss: 0.007, mcc: 81.98, acc: 91.18, time: 44.2s\n",
      "[Epoch 39] Valid loss: 0.021, mcc: 53.63, acc: 76.82\n",
      "[Epoch 40] Train loss: 0.007, mcc: 83.30, acc: 91.84, time: 45.8s\n",
      "[Epoch 40] Valid loss: 0.021, mcc: 53.87, acc: 76.97\n",
      "[Epoch 41] Train loss: 0.007, mcc: 85.00, acc: 92.14, time: 45.1s\n",
      "[Epoch 41] Valid loss: 0.022, mcc: 53.62, acc: 76.67\n",
      "[Epoch 42] Train loss: 0.007, mcc: 84.51, acc: 91.98, time: 45.0s\n",
      "[Epoch 42] Valid loss: 0.022, mcc: 53.70, acc: 76.87\n",
      "[Epoch 43] Train loss: 0.006, mcc: 85.26, acc: 92.34, time: 44.4s\n",
      "[Epoch 43] Valid loss: 0.022, mcc: 53.30, acc: 76.77\n",
      "[Epoch 44] Train loss: 0.006, mcc: 85.78, acc: 92.76, time: 43.6s\n",
      "[Epoch 44] Valid loss: 0.023, mcc: 53.07, acc: 76.67\n",
      "[Epoch 45] Train loss: 0.006, mcc: 85.47, acc: 92.57, time: 43.6s\n",
      "[Epoch 45] Valid loss: 0.023, mcc: 53.33, acc: 76.62\n",
      "[Epoch 46] Train loss: 0.006, mcc: 85.14, acc: 92.48, time: 43.9s\n",
      "[Epoch 46] Valid loss: 0.023, mcc: 53.46, acc: 76.67\n",
      "[Epoch 47] Train loss: 0.006, mcc: 85.39, acc: 92.62, time: 44.5s\n",
      "[Epoch 47] Valid loss: 0.023, mcc: 53.44, acc: 76.62\n",
      "[Epoch 48] Train loss: 0.006, mcc: 86.93, acc: 93.11, time: 44.1s\n",
      "[Epoch 48] Valid loss: 0.023, mcc: 52.84, acc: 76.33\n",
      "[Epoch 49] Train loss: 0.006, mcc: 85.62, acc: 92.88, time: 44.0s\n",
      "[Epoch 49] Valid loss: 0.023, mcc: 53.35, acc: 76.43\n",
      "[Epoch 50] Train loss: 0.006, mcc: 86.55, acc: 93.17, time: 43.3s\n",
      "[Epoch 50] Valid loss: 0.023, mcc: 53.56, acc: 76.53\n",
      "[Epoch 51] Train loss: 0.006, mcc: 86.09, acc: 93.29, time: 43.4s\n",
      "[Epoch 51] Valid loss: 0.024, mcc: 53.05, acc: 76.33\n",
      "[Epoch 52] Train loss: 0.006, mcc: 86.08, acc: 93.20, time: 44.6s\n",
      "[Epoch 52] Valid loss: 0.024, mcc: 52.99, acc: 76.23\n",
      "[Epoch 53] Train loss: 0.006, mcc: 87.18, acc: 93.42, time: 43.9s\n",
      "[Epoch 53] Valid loss: 0.024, mcc: 53.06, acc: 76.28\n",
      "[Epoch 54] Train loss: 0.006, mcc: 86.64, acc: 93.20, time: 43.6s\n",
      "[Epoch 54] Valid loss: 0.024, mcc: 53.15, acc: 76.38\n",
      "[Epoch 55] Train loss: 0.006, mcc: 87.13, acc: 93.43, time: 43.8s\n",
      "[Epoch 55] Valid loss: 0.024, mcc: 53.18, acc: 76.48\n",
      "[Epoch 56] Train loss: 0.006, mcc: 86.26, acc: 93.38, time: 45.1s\n",
      "[Epoch 56] Valid loss: 0.024, mcc: 53.04, acc: 76.23\n",
      "[Epoch 57] Train loss: 0.006, mcc: 87.08, acc: 93.29, time: 45.0s\n",
      "[Epoch 57] Valid loss: 0.024, mcc: 53.36, acc: 76.38\n",
      "[Epoch 58] Train loss: 0.005, mcc: 88.30, acc: 93.96, time: 46.6s\n",
      "[Epoch 58] Valid loss: 0.024, mcc: 53.03, acc: 76.48\n",
      "[Epoch 59] Train loss: 0.005, mcc: 87.00, acc: 93.95, time: 45.7s\n",
      "[Epoch 59] Valid loss: 0.024, mcc: 53.44, acc: 76.48\n",
      "[Epoch 60] Train loss: 0.005, mcc: 88.19, acc: 93.98, time: 43.4s\n",
      "[Epoch 60] Valid loss: 0.024, mcc: 53.08, acc: 76.28\n",
      "[Epoch 61] Train loss: 0.005, mcc: 88.47, acc: 93.90, time: 43.3s\n",
      "[Epoch 61] Valid loss: 0.025, mcc: 53.16, acc: 76.33\n",
      "[Epoch 62] Train loss: 0.005, mcc: 88.22, acc: 94.10, time: 44.0s\n",
      "[Epoch 62] Valid loss: 0.025, mcc: 52.97, acc: 76.28\n",
      "[Epoch 63] Train loss: 0.005, mcc: 89.06, acc: 94.25, time: 43.7s\n",
      "[Epoch 63] Valid loss: 0.025, mcc: 53.35, acc: 76.48\n",
      "[Epoch 64] Train loss: 0.005, mcc: 88.39, acc: 94.05, time: 43.9s\n",
      "[Epoch 64] Valid loss: 0.025, mcc: 53.09, acc: 76.28\n",
      "[Epoch 65] Train loss: 0.005, mcc: 88.77, acc: 93.99, time: 43.8s\n",
      "[Epoch 65] Valid loss: 0.025, mcc: 53.26, acc: 76.28\n",
      "[Epoch 66] Train loss: 0.005, mcc: 88.15, acc: 94.14, time: 44.1s\n",
      "[Epoch 66] Valid loss: 0.025, mcc: 52.98, acc: 76.33\n",
      "[Epoch 67] Train loss: 0.005, mcc: 88.40, acc: 94.08, time: 45.2s\n",
      "[Epoch 67] Valid loss: 0.025, mcc: 53.02, acc: 76.23\n",
      "[Epoch 68] Train loss: 0.005, mcc: 88.70, acc: 94.34, time: 44.1s\n",
      "[Epoch 68] Valid loss: 0.025, mcc: 52.90, acc: 76.18\n",
      "[Epoch 69] Train loss: 0.005, mcc: 88.71, acc: 94.38, time: 45.0s\n",
      "[Epoch 69] Valid loss: 0.025, mcc: 53.01, acc: 76.18\n",
      "[Epoch 70] Train loss: 0.005, mcc: 88.66, acc: 94.55, time: 44.4s\n",
      "[Epoch 70] Valid loss: 0.025, mcc: 52.85, acc: 76.13\n",
      "[Epoch 71] Train loss: 0.005, mcc: 88.95, acc: 94.29, time: 45.7s\n",
      "[Epoch 71] Valid loss: 0.025, mcc: 53.18, acc: 76.18\n",
      "[Epoch 72] Train loss: 0.005, mcc: 88.29, acc: 94.29, time: 44.0s\n",
      "[Epoch 72] Valid loss: 0.025, mcc: 53.35, acc: 76.23\n",
      "[Epoch 73] Train loss: 0.005, mcc: 88.74, acc: 94.40, time: 43.6s\n",
      "[Epoch 73] Valid loss: 0.025, mcc: 53.31, acc: 76.23\n",
      "[Epoch 74] Train loss: 0.005, mcc: 89.36, acc: 94.73, time: 43.0s\n",
      "[Epoch 74] Valid loss: 0.025, mcc: 53.40, acc: 76.23\n",
      "[Epoch 75] Train loss: 0.005, mcc: 89.24, acc: 94.40, time: 43.1s\n",
      "[Epoch 75] Valid loss: 0.025, mcc: 53.27, acc: 76.18\n",
      "[Epoch 76] Train loss: 0.005, mcc: 88.92, acc: 94.39, time: 43.7s\n",
      "[Epoch 76] Valid loss: 0.025, mcc: 53.09, acc: 76.23\n",
      "[Epoch 77] Train loss: 0.005, mcc: 89.59, acc: 94.64, time: 45.1s\n",
      "[Epoch 77] Valid loss: 0.025, mcc: 53.09, acc: 76.23\n",
      "[Epoch 78] Train loss: 0.005, mcc: 88.25, acc: 94.44, time: 44.3s\n",
      "[Epoch 78] Valid loss: 0.025, mcc: 53.26, acc: 76.23\n",
      "[Epoch 79] Train loss: 0.005, mcc: 88.97, acc: 94.58, time: 44.3s\n",
      "[Epoch 79] Valid loss: 0.025, mcc: 53.09, acc: 76.23\n",
      "Training finish! Best validation mcc: 54.54\n",
      "\n",
      "Start trining 6th model\n",
      "[Epoch 0] Train loss: 0.022, mcc: 0.06, acc: 50.16, time: 43.8s\n",
      "[Epoch 0] Valid loss: 0.022, mcc: 0.00, acc: 47.29\n",
      "[Epoch 1] Train loss: 0.022, mcc: 0.30, acc: 52.08, time: 44.2s\n",
      "[Epoch 1] Valid loss: 0.022, mcc: 15.44, acc: 56.59\n",
      "[Epoch 2] Train loss: 0.021, mcc: 20.17, acc: 62.12, time: 45.0s\n",
      "[Epoch 2] Valid loss: 0.021, mcc: 32.95, acc: 66.63\n",
      "[Epoch 3] Train loss: 0.020, mcc: 34.57, acc: 68.51, time: 44.2s\n",
      "[Epoch 3] Valid loss: 0.019, mcc: 39.01, acc: 69.29\n",
      "[Epoch 4] Train loss: 0.018, mcc: 43.29, acc: 72.26, time: 46.6s\n",
      "[Epoch 4] Valid loss: 0.017, mcc: 45.84, acc: 72.88\n",
      "[Epoch 5] Train loss: 0.017, mcc: 50.14, acc: 75.22, time: 44.8s\n",
      "[Epoch 5] Valid loss: 0.017, mcc: 49.34, acc: 73.67\n",
      "[Epoch 6] Train loss: 0.016, mcc: 51.81, acc: 76.36, time: 44.3s\n",
      "[Epoch 6] Valid loss: 0.016, mcc: 52.19, acc: 75.44\n",
      "[Epoch 7] Train loss: 0.015, mcc: 56.08, acc: 77.99, time: 44.4s\n",
      "[Epoch 7] Valid loss: 0.016, mcc: 54.06, acc: 76.38\n",
      "[Epoch 8] Train loss: 0.014, mcc: 58.38, acc: 79.13, time: 44.1s\n",
      "[Epoch 8] Valid loss: 0.016, mcc: 52.90, acc: 76.13\n",
      "[Epoch 9] Train loss: 0.014, mcc: 61.13, acc: 80.45, time: 44.5s\n",
      "[Epoch 9] Valid loss: 0.016, mcc: 52.74, acc: 76.08\n",
      "[Epoch 10] Train loss: 0.013, mcc: 62.67, acc: 81.12, time: 44.1s\n",
      "[Epoch 10] Valid loss: 0.016, mcc: 53.57, acc: 76.57\n",
      "[Epoch 11] Train loss: 0.013, mcc: 63.10, acc: 81.78, time: 43.8s\n",
      "[Epoch 11] Valid loss: 0.016, mcc: 53.23, acc: 76.62\n",
      "[Epoch 12] Train loss: 0.012, mcc: 66.03, acc: 82.91, time: 44.5s\n",
      "[Epoch 12] Valid loss: 0.016, mcc: 53.56, acc: 76.62\n",
      "[Epoch 13] Train loss: 0.012, mcc: 66.32, acc: 83.26, time: 44.0s\n",
      "[Epoch 13] Valid loss: 0.017, mcc: 53.25, acc: 76.38\n",
      "[Epoch 14] Train loss: 0.012, mcc: 68.26, acc: 83.70, time: 43.5s\n",
      "[Epoch 14] Valid loss: 0.017, mcc: 53.11, acc: 76.28\n",
      "[Epoch 15] Train loss: 0.012, mcc: 69.48, acc: 84.51, time: 44.1s\n",
      "[Epoch 15] Valid loss: 0.017, mcc: 52.97, acc: 76.28\n",
      "[Epoch 16] Train loss: 0.011, mcc: 70.12, acc: 85.13, time: 44.1s\n",
      "[Epoch 16] Valid loss: 0.017, mcc: 53.75, acc: 76.77\n",
      "[Epoch 17] Train loss: 0.011, mcc: 70.60, acc: 85.22, time: 43.6s\n",
      "[Epoch 17] Valid loss: 0.017, mcc: 52.64, acc: 76.23\n",
      "[Epoch 18] Train loss: 0.011, mcc: 71.86, acc: 85.81, time: 43.7s\n",
      "[Epoch 18] Valid loss: 0.017, mcc: 52.90, acc: 76.33\n",
      "[Epoch 19] Train loss: 0.010, mcc: 72.54, acc: 86.21, time: 44.4s\n",
      "[Epoch 19] Valid loss: 0.017, mcc: 53.24, acc: 76.23\n",
      "[Epoch 20] Train loss: 0.010, mcc: 72.44, acc: 86.71, time: 45.2s\n",
      "[Epoch 20] Valid loss: 0.018, mcc: 54.49, acc: 76.72\n",
      "[Epoch 21] Train loss: 0.010, mcc: 74.30, acc: 87.24, time: 44.7s\n",
      "[Epoch 21] Valid loss: 0.018, mcc: 54.04, acc: 76.97\n",
      "[Epoch 22] Train loss: 0.010, mcc: 75.64, acc: 87.59, time: 43.5s\n",
      "[Epoch 22] Valid loss: 0.018, mcc: 53.84, acc: 76.67\n",
      "[Epoch 23] Train loss: 0.009, mcc: 76.49, acc: 88.15, time: 44.9s\n",
      "[Epoch 23] Valid loss: 0.018, mcc: 53.89, acc: 76.82\n",
      "[Epoch 24] Train loss: 0.009, mcc: 75.95, acc: 88.41, time: 44.6s\n",
      "[Epoch 24] Valid loss: 0.018, mcc: 54.32, acc: 77.21\n",
      "[Epoch 25] Train loss: 0.009, mcc: 77.55, acc: 88.78, time: 44.2s\n",
      "[Epoch 25] Valid loss: 0.019, mcc: 53.97, acc: 76.82\n",
      "[Epoch 26] Train loss: 0.009, mcc: 78.15, acc: 89.16, time: 44.2s\n",
      "[Epoch 26] Valid loss: 0.019, mcc: 54.35, acc: 76.92\n",
      "[Epoch 27] Train loss: 0.008, mcc: 78.07, acc: 89.36, time: 44.2s\n",
      "[Epoch 27] Valid loss: 0.019, mcc: 53.95, acc: 76.82\n",
      "[Epoch 28] Train loss: 0.008, mcc: 79.76, acc: 89.80, time: 44.3s\n",
      "[Epoch 28] Valid loss: 0.019, mcc: 53.88, acc: 76.87\n",
      "[Epoch 29] Train loss: 0.008, mcc: 79.54, acc: 89.75, time: 43.9s\n",
      "[Epoch 29] Valid loss: 0.019, mcc: 54.46, acc: 76.92\n",
      "[Epoch 30] Train loss: 0.008, mcc: 80.22, acc: 90.05, time: 44.6s\n",
      "[Epoch 30] Valid loss: 0.020, mcc: 54.18, acc: 76.92\n",
      "[Epoch 31] Train loss: 0.008, mcc: 81.86, acc: 90.63, time: 44.4s\n",
      "[Epoch 31] Valid loss: 0.020, mcc: 55.02, acc: 77.17\n",
      "[Epoch 32] Train loss: 0.007, mcc: 82.36, acc: 90.87, time: 44.9s\n",
      "[Epoch 32] Valid loss: 0.020, mcc: 54.48, acc: 76.97\n",
      "[Epoch 33] Train loss: 0.007, mcc: 81.00, acc: 90.71, time: 44.1s\n",
      "[Epoch 33] Valid loss: 0.021, mcc: 54.84, acc: 77.02\n",
      "[Epoch 34] Train loss: 0.007, mcc: 82.69, acc: 91.30, time: 44.1s\n",
      "[Epoch 34] Valid loss: 0.021, mcc: 54.29, acc: 76.97\n",
      "[Epoch 35] Train loss: 0.007, mcc: 82.20, acc: 91.07, time: 44.4s\n",
      "[Epoch 35] Valid loss: 0.021, mcc: 54.85, acc: 77.21\n",
      "[Epoch 36] Train loss: 0.007, mcc: 83.33, acc: 91.62, time: 45.8s\n",
      "[Epoch 36] Valid loss: 0.021, mcc: 53.82, acc: 76.57\n",
      "[Epoch 37] Train loss: 0.007, mcc: 83.81, acc: 91.65, time: 45.7s\n",
      "[Epoch 37] Valid loss: 0.021, mcc: 53.19, acc: 76.48\n",
      "[Epoch 38] Train loss: 0.007, mcc: 83.96, acc: 91.92, time: 45.1s\n",
      "[Epoch 38] Valid loss: 0.021, mcc: 53.81, acc: 76.53\n",
      "[Epoch 39] Train loss: 0.006, mcc: 85.07, acc: 92.23, time: 43.5s\n",
      "[Epoch 39] Valid loss: 0.022, mcc: 53.80, acc: 76.48\n",
      "[Epoch 40] Train loss: 0.007, mcc: 84.38, acc: 92.13, time: 44.3s\n",
      "[Epoch 40] Valid loss: 0.022, mcc: 53.09, acc: 76.23\n",
      "[Epoch 41] Train loss: 0.006, mcc: 85.59, acc: 92.59, time: 44.4s\n",
      "[Epoch 41] Valid loss: 0.022, mcc: 53.27, acc: 76.33\n",
      "[Epoch 42] Train loss: 0.006, mcc: 84.08, acc: 92.26, time: 45.3s\n",
      "[Epoch 42] Valid loss: 0.022, mcc: 53.12, acc: 76.23\n",
      "[Epoch 43] Train loss: 0.006, mcc: 86.40, acc: 92.76, time: 45.1s\n",
      "[Epoch 43] Valid loss: 0.022, mcc: 53.29, acc: 76.13\n",
      "[Epoch 44] Train loss: 0.006, mcc: 85.13, acc: 92.86, time: 44.4s\n",
      "[Epoch 44] Valid loss: 0.022, mcc: 53.37, acc: 76.23\n",
      "[Epoch 45] Train loss: 0.006, mcc: 86.29, acc: 93.09, time: 43.8s\n",
      "[Epoch 45] Valid loss: 0.022, mcc: 53.18, acc: 75.98\n",
      "[Epoch 46] Train loss: 0.006, mcc: 85.81, acc: 92.87, time: 44.1s\n",
      "[Epoch 46] Valid loss: 0.023, mcc: 52.62, acc: 75.98\n",
      "[Epoch 47] Train loss: 0.006, mcc: 86.92, acc: 93.13, time: 44.5s\n",
      "[Epoch 47] Valid loss: 0.023, mcc: 52.53, acc: 75.89\n",
      "[Epoch 48] Train loss: 0.006, mcc: 86.66, acc: 93.22, time: 44.1s\n",
      "[Epoch 48] Valid loss: 0.023, mcc: 53.29, acc: 76.23\n",
      "[Epoch 49] Train loss: 0.006, mcc: 86.40, acc: 93.31, time: 44.8s\n",
      "[Epoch 49] Valid loss: 0.023, mcc: 53.20, acc: 76.08\n",
      "[Epoch 50] Train loss: 0.006, mcc: 87.27, acc: 93.59, time: 43.6s\n",
      "[Epoch 50] Valid loss: 0.023, mcc: 53.51, acc: 76.28\n",
      "[Epoch 51] Train loss: 0.005, mcc: 87.34, acc: 93.41, time: 43.7s\n",
      "[Epoch 51] Valid loss: 0.023, mcc: 53.32, acc: 76.28\n",
      "[Epoch 52] Train loss: 0.005, mcc: 87.15, acc: 93.68, time: 44.3s\n",
      "[Epoch 52] Valid loss: 0.023, mcc: 53.04, acc: 76.13\n",
      "[Epoch 53] Train loss: 0.005, mcc: 88.56, acc: 93.98, time: 45.4s\n",
      "[Epoch 53] Valid loss: 0.024, mcc: 53.33, acc: 76.08\n",
      "[Epoch 54] Train loss: 0.005, mcc: 88.00, acc: 93.89, time: 45.9s\n",
      "[Epoch 54] Valid loss: 0.024, mcc: 53.42, acc: 76.23\n",
      "[Epoch 55] Train loss: 0.005, mcc: 87.83, acc: 94.13, time: 45.4s\n",
      "[Epoch 55] Valid loss: 0.024, mcc: 52.74, acc: 75.84\n",
      "[Epoch 56] Train loss: 0.005, mcc: 88.21, acc: 94.18, time: 44.7s\n",
      "[Epoch 56] Valid loss: 0.024, mcc: 53.03, acc: 76.08\n",
      "[Epoch 57] Train loss: 0.005, mcc: 87.58, acc: 94.14, time: 44.9s\n",
      "[Epoch 57] Valid loss: 0.024, mcc: 52.93, acc: 76.03\n",
      "[Epoch 58] Train loss: 0.005, mcc: 87.64, acc: 94.18, time: 44.9s\n",
      "[Epoch 58] Valid loss: 0.024, mcc: 53.07, acc: 76.08\n",
      "[Epoch 59] Train loss: 0.005, mcc: 88.00, acc: 94.31, time: 44.8s\n",
      "[Epoch 59] Valid loss: 0.024, mcc: 53.47, acc: 76.28\n",
      "[Epoch 60] Train loss: 0.005, mcc: 89.02, acc: 94.29, time: 44.6s\n",
      "[Epoch 60] Valid loss: 0.024, mcc: 53.23, acc: 76.08\n",
      "[Epoch 61] Train loss: 0.005, mcc: 88.57, acc: 94.31, time: 44.8s\n",
      "[Epoch 61] Valid loss: 0.025, mcc: 53.20, acc: 76.08\n",
      "[Epoch 62] Train loss: 0.005, mcc: 89.04, acc: 94.22, time: 44.4s\n",
      "[Epoch 62] Valid loss: 0.025, mcc: 53.13, acc: 76.13\n",
      "[Epoch 63] Train loss: 0.005, mcc: 88.28, acc: 94.19, time: 44.5s\n",
      "[Epoch 63] Valid loss: 0.025, mcc: 53.38, acc: 76.18\n",
      "[Epoch 64] Train loss: 0.005, mcc: 89.01, acc: 94.55, time: 44.4s\n",
      "[Epoch 64] Valid loss: 0.025, mcc: 53.21, acc: 76.13\n",
      "[Epoch 65] Train loss: 0.005, mcc: 89.24, acc: 94.69, time: 45.2s\n",
      "[Epoch 65] Valid loss: 0.025, mcc: 53.14, acc: 75.98\n",
      "[Epoch 66] Train loss: 0.005, mcc: 89.56, acc: 94.82, time: 44.5s\n",
      "[Epoch 66] Valid loss: 0.025, mcc: 53.12, acc: 75.98\n",
      "[Epoch 67] Train loss: 0.005, mcc: 89.51, acc: 94.75, time: 45.9s\n",
      "[Epoch 67] Valid loss: 0.025, mcc: 53.33, acc: 76.13\n",
      "[Epoch 68] Train loss: 0.005, mcc: 88.81, acc: 94.46, time: 44.6s\n",
      "[Epoch 68] Valid loss: 0.025, mcc: 52.92, acc: 76.03\n",
      "[Epoch 69] Train loss: 0.005, mcc: 89.12, acc: 94.49, time: 44.9s\n",
      "[Epoch 69] Valid loss: 0.025, mcc: 53.18, acc: 76.13\n",
      "[Epoch 70] Train loss: 0.005, mcc: 88.61, acc: 94.39, time: 43.5s\n",
      "[Epoch 70] Valid loss: 0.025, mcc: 52.97, acc: 76.08\n",
      "[Epoch 71] Train loss: 0.005, mcc: 89.21, acc: 94.75, time: 43.9s\n",
      "[Epoch 71] Valid loss: 0.025, mcc: 53.40, acc: 76.23\n",
      "[Epoch 72] Train loss: 0.004, mcc: 90.14, acc: 95.04, time: 44.0s\n",
      "[Epoch 72] Valid loss: 0.025, mcc: 53.39, acc: 76.18\n",
      "[Epoch 73] Train loss: 0.005, mcc: 89.06, acc: 94.73, time: 44.8s\n",
      "[Epoch 73] Valid loss: 0.025, mcc: 53.36, acc: 76.13\n",
      "[Epoch 74] Train loss: 0.004, mcc: 89.37, acc: 94.69, time: 44.0s\n",
      "[Epoch 74] Valid loss: 0.025, mcc: 53.25, acc: 76.13\n",
      "[Epoch 75] Train loss: 0.005, mcc: 89.62, acc: 94.77, time: 43.9s\n",
      "[Epoch 75] Valid loss: 0.025, mcc: 53.25, acc: 76.18\n",
      "[Epoch 76] Train loss: 0.004, mcc: 89.94, acc: 94.92, time: 44.4s\n",
      "[Epoch 76] Valid loss: 0.025, mcc: 53.40, acc: 76.23\n",
      "[Epoch 77] Train loss: 0.004, mcc: 89.95, acc: 94.92, time: 44.4s\n",
      "[Epoch 77] Valid loss: 0.025, mcc: 53.18, acc: 76.13\n",
      "[Epoch 78] Train loss: 0.004, mcc: 89.53, acc: 94.83, time: 44.4s\n",
      "[Epoch 78] Valid loss: 0.025, mcc: 53.50, acc: 76.23\n",
      "[Epoch 79] Train loss: 0.004, mcc: 89.75, acc: 94.95, time: 44.8s\n",
      "[Epoch 79] Valid loss: 0.025, mcc: 53.36, acc: 76.13\n",
      "Training finish! Best validation mcc: 55.02\n",
      "\n",
      "Start trining 7th model\n",
      "[Epoch 0] Train loss: 0.023, mcc: 0.00, acc: 50.16, time: 43.9s\n",
      "[Epoch 0] Valid loss: 0.023, mcc: 0.00, acc: 47.29\n",
      "[Epoch 1] Train loss: 0.022, mcc: 4.29, acc: 53.08, time: 45.0s\n",
      "[Epoch 1] Valid loss: 0.021, mcc: 27.41, acc: 61.22\n",
      "[Epoch 2] Train loss: 0.021, mcc: 30.04, acc: 66.30, time: 44.6s\n",
      "[Epoch 2] Valid loss: 0.020, mcc: 38.49, acc: 67.91\n",
      "[Epoch 3] Train loss: 0.019, mcc: 39.34, acc: 70.33, time: 44.7s\n",
      "[Epoch 3] Valid loss: 0.018, mcc: 45.84, acc: 71.65\n",
      "[Epoch 4] Train loss: 0.018, mcc: 45.34, acc: 72.97, time: 43.9s\n",
      "[Epoch 4] Valid loss: 0.017, mcc: 46.53, acc: 72.39\n",
      "[Epoch 5] Train loss: 0.017, mcc: 48.91, acc: 74.64, time: 44.5s\n",
      "[Epoch 5] Valid loss: 0.016, mcc: 48.48, acc: 73.67\n",
      "[Epoch 6] Train loss: 0.016, mcc: 51.34, acc: 75.89, time: 45.1s\n",
      "[Epoch 6] Valid loss: 0.016, mcc: 48.96, acc: 74.31\n",
      "[Epoch 7] Train loss: 0.015, mcc: 53.79, acc: 76.98, time: 45.0s\n",
      "[Epoch 7] Valid loss: 0.016, mcc: 48.97, acc: 74.56\n",
      "[Epoch 8] Train loss: 0.015, mcc: 55.91, acc: 78.21, time: 44.5s\n",
      "[Epoch 8] Valid loss: 0.016, mcc: 48.82, acc: 74.70\n",
      "[Epoch 9] Train loss: 0.014, mcc: 57.80, acc: 79.03, time: 45.0s\n",
      "[Epoch 9] Valid loss: 0.016, mcc: 49.11, acc: 75.30\n",
      "[Epoch 10] Train loss: 0.014, mcc: 60.57, acc: 80.42, time: 44.4s\n",
      "[Epoch 10] Valid loss: 0.016, mcc: 49.77, acc: 75.74\n",
      "[Epoch 11] Train loss: 0.013, mcc: 61.90, acc: 80.67, time: 44.0s\n",
      "[Epoch 11] Valid loss: 0.016, mcc: 49.68, acc: 75.49\n",
      "[Epoch 12] Train loss: 0.013, mcc: 62.44, acc: 81.51, time: 44.7s\n",
      "[Epoch 12] Valid loss: 0.016, mcc: 50.03, acc: 75.84\n",
      "[Epoch 13] Train loss: 0.013, mcc: 64.21, acc: 82.17, time: 45.3s\n",
      "[Epoch 13] Valid loss: 0.016, mcc: 49.11, acc: 75.49\n",
      "[Epoch 14] Train loss: 0.012, mcc: 65.80, acc: 82.99, time: 44.1s\n",
      "[Epoch 14] Valid loss: 0.016, mcc: 50.15, acc: 76.08\n",
      "[Epoch 15] Train loss: 0.012, mcc: 67.22, acc: 83.43, time: 44.2s\n",
      "[Epoch 15] Valid loss: 0.017, mcc: 50.39, acc: 76.03\n",
      "[Epoch 16] Train loss: 0.012, mcc: 68.75, acc: 83.74, time: 44.6s\n",
      "[Epoch 16] Valid loss: 0.017, mcc: 51.24, acc: 76.53\n",
      "[Epoch 17] Train loss: 0.011, mcc: 68.98, acc: 84.47, time: 45.2s\n",
      "[Epoch 17] Valid loss: 0.017, mcc: 49.79, acc: 75.84\n",
      "[Epoch 18] Train loss: 0.011, mcc: 69.56, acc: 84.81, time: 44.3s\n",
      "[Epoch 18] Valid loss: 0.017, mcc: 49.99, acc: 75.49\n",
      "[Epoch 19] Train loss: 0.011, mcc: 71.40, acc: 85.39, time: 44.0s\n",
      "[Epoch 19] Valid loss: 0.017, mcc: 49.85, acc: 75.64\n",
      "[Epoch 20] Train loss: 0.011, mcc: 71.45, acc: 85.61, time: 45.4s\n",
      "[Epoch 20] Valid loss: 0.017, mcc: 50.10, acc: 75.64\n",
      "[Epoch 21] Train loss: 0.010, mcc: 74.59, acc: 86.68, time: 44.1s\n",
      "[Epoch 21] Valid loss: 0.018, mcc: 50.69, acc: 75.98\n",
      "[Epoch 22] Train loss: 0.010, mcc: 73.52, acc: 86.66, time: 43.8s\n",
      "[Epoch 22] Valid loss: 0.018, mcc: 51.02, acc: 75.98\n",
      "[Epoch 23] Train loss: 0.010, mcc: 74.00, acc: 86.97, time: 44.7s\n",
      "[Epoch 23] Valid loss: 0.018, mcc: 50.39, acc: 75.84\n",
      "[Epoch 24] Train loss: 0.010, mcc: 74.98, acc: 87.33, time: 43.7s\n",
      "[Epoch 24] Valid loss: 0.018, mcc: 50.95, acc: 75.94\n",
      "[Epoch 25] Train loss: 0.010, mcc: 75.13, acc: 87.77, time: 44.4s\n",
      "[Epoch 25] Valid loss: 0.018, mcc: 50.69, acc: 75.89\n",
      "[Epoch 26] Train loss: 0.009, mcc: 76.28, acc: 87.64, time: 44.1s\n",
      "[Epoch 26] Valid loss: 0.018, mcc: 50.71, acc: 75.84\n",
      "[Epoch 27] Train loss: 0.009, mcc: 76.69, acc: 88.42, time: 45.4s\n",
      "[Epoch 27] Valid loss: 0.019, mcc: 50.76, acc: 75.84\n",
      "[Epoch 28] Train loss: 0.009, mcc: 78.06, acc: 88.98, time: 44.9s\n",
      "[Epoch 28] Valid loss: 0.019, mcc: 50.98, acc: 76.03\n",
      "[Epoch 29] Train loss: 0.009, mcc: 78.38, acc: 89.15, time: 44.5s\n",
      "[Epoch 29] Valid loss: 0.019, mcc: 51.38, acc: 76.13\n",
      "[Epoch 30] Train loss: 0.008, mcc: 78.98, acc: 89.42, time: 45.1s\n",
      "[Epoch 30] Valid loss: 0.020, mcc: 51.09, acc: 75.79\n",
      "[Epoch 31] Train loss: 0.008, mcc: 78.78, acc: 89.32, time: 44.4s\n",
      "[Epoch 31] Valid loss: 0.020, mcc: 51.57, acc: 76.18\n",
      "[Epoch 32] Train loss: 0.008, mcc: 79.96, acc: 89.68, time: 46.4s\n",
      "[Epoch 32] Valid loss: 0.020, mcc: 51.79, acc: 76.13\n",
      "[Epoch 33] Train loss: 0.008, mcc: 80.18, acc: 89.81, time: 44.0s\n",
      "[Epoch 33] Valid loss: 0.020, mcc: 52.27, acc: 76.38\n",
      "[Epoch 34] Train loss: 0.008, mcc: 80.77, acc: 90.33, time: 43.9s\n",
      "[Epoch 34] Valid loss: 0.020, mcc: 51.97, acc: 76.23\n",
      "[Epoch 35] Train loss: 0.008, mcc: 81.54, acc: 90.38, time: 43.9s\n",
      "[Epoch 35] Valid loss: 0.020, mcc: 52.39, acc: 76.38\n",
      "[Epoch 36] Train loss: 0.008, mcc: 82.04, acc: 90.79, time: 44.6s\n",
      "[Epoch 36] Valid loss: 0.021, mcc: 52.37, acc: 76.38\n",
      "[Epoch 37] Train loss: 0.007, mcc: 81.73, acc: 90.88, time: 44.2s\n",
      "[Epoch 37] Valid loss: 0.021, mcc: 52.16, acc: 76.23\n",
      "[Epoch 38] Train loss: 0.007, mcc: 83.03, acc: 90.99, time: 44.2s\n",
      "[Epoch 38] Valid loss: 0.021, mcc: 51.88, acc: 75.98\n",
      "[Epoch 39] Train loss: 0.007, mcc: 81.61, acc: 91.19, time: 44.4s\n",
      "[Epoch 39] Valid loss: 0.021, mcc: 51.96, acc: 76.13\n",
      "[Epoch 40] Train loss: 0.007, mcc: 81.68, acc: 91.18, time: 43.7s\n",
      "[Epoch 40] Valid loss: 0.021, mcc: 52.05, acc: 76.23\n",
      "[Epoch 41] Train loss: 0.007, mcc: 83.46, acc: 91.45, time: 44.6s\n",
      "[Epoch 41] Valid loss: 0.022, mcc: 52.50, acc: 76.03\n",
      "[Epoch 42] Train loss: 0.007, mcc: 82.94, acc: 91.70, time: 44.4s\n",
      "[Epoch 42] Valid loss: 0.022, mcc: 52.80, acc: 76.23\n",
      "[Epoch 43] Train loss: 0.007, mcc: 84.35, acc: 91.95, time: 44.9s\n",
      "[Epoch 43] Valid loss: 0.022, mcc: 52.42, acc: 76.08\n",
      "[Epoch 44] Train loss: 0.007, mcc: 83.58, acc: 91.79, time: 44.9s\n",
      "[Epoch 44] Valid loss: 0.022, mcc: 52.93, acc: 76.43\n",
      "[Epoch 45] Train loss: 0.007, mcc: 84.00, acc: 91.98, time: 43.4s\n",
      "[Epoch 45] Valid loss: 0.022, mcc: 52.26, acc: 76.03\n",
      "[Epoch 46] Train loss: 0.006, mcc: 83.66, acc: 92.30, time: 43.3s\n",
      "[Epoch 46] Valid loss: 0.023, mcc: 52.81, acc: 76.18\n",
      "[Epoch 47] Train loss: 0.006, mcc: 84.21, acc: 92.08, time: 43.3s\n",
      "[Epoch 47] Valid loss: 0.023, mcc: 52.08, acc: 75.84\n",
      "[Epoch 48] Train loss: 0.006, mcc: 84.19, acc: 92.55, time: 43.3s\n",
      "[Epoch 48] Valid loss: 0.023, mcc: 52.69, acc: 76.08\n",
      "[Epoch 49] Train loss: 0.006, mcc: 84.54, acc: 92.38, time: 43.3s\n",
      "[Epoch 49] Valid loss: 0.023, mcc: 52.70, acc: 76.08\n",
      "[Epoch 50] Train loss: 0.006, mcc: 85.27, acc: 92.49, time: 43.3s\n",
      "[Epoch 50] Valid loss: 0.023, mcc: 52.44, acc: 76.13\n",
      "[Epoch 51] Train loss: 0.006, mcc: 86.14, acc: 92.91, time: 43.4s\n",
      "[Epoch 51] Valid loss: 0.023, mcc: 52.61, acc: 75.94\n",
      "[Epoch 52] Train loss: 0.006, mcc: 86.66, acc: 93.20, time: 43.4s\n",
      "[Epoch 52] Valid loss: 0.023, mcc: 51.98, acc: 75.94\n",
      "[Epoch 53] Train loss: 0.006, mcc: 86.46, acc: 93.07, time: 43.8s\n",
      "[Epoch 53] Valid loss: 0.024, mcc: 51.97, acc: 75.74\n",
      "[Epoch 54] Train loss: 0.006, mcc: 86.82, acc: 93.24, time: 43.7s\n",
      "[Epoch 54] Valid loss: 0.024, mcc: 52.11, acc: 75.84\n",
      "[Epoch 55] Train loss: 0.006, mcc: 86.58, acc: 93.30, time: 43.7s\n",
      "[Epoch 55] Valid loss: 0.024, mcc: 52.61, acc: 75.94\n",
      "[Epoch 56] Train loss: 0.006, mcc: 87.74, acc: 93.53, time: 43.7s\n",
      "[Epoch 56] Valid loss: 0.024, mcc: 52.13, acc: 75.94\n",
      "[Epoch 57] Train loss: 0.006, mcc: 86.98, acc: 93.22, time: 43.7s\n",
      "[Epoch 57] Valid loss: 0.024, mcc: 51.95, acc: 75.79\n",
      "[Epoch 58] Train loss: 0.006, mcc: 87.31, acc: 93.55, time: 43.9s\n",
      "[Epoch 58] Valid loss: 0.024, mcc: 52.11, acc: 76.08\n",
      "[Epoch 59] Train loss: 0.006, mcc: 87.62, acc: 93.56, time: 44.6s\n",
      "[Epoch 59] Valid loss: 0.024, mcc: 51.92, acc: 75.94\n",
      "[Epoch 60] Train loss: 0.005, mcc: 87.48, acc: 93.61, time: 43.7s\n",
      "[Epoch 60] Valid loss: 0.024, mcc: 52.14, acc: 75.79\n",
      "[Epoch 61] Train loss: 0.005, mcc: 87.68, acc: 93.78, time: 43.7s\n",
      "[Epoch 61] Valid loss: 0.024, mcc: 52.09, acc: 75.98\n",
      "[Epoch 62] Train loss: 0.006, mcc: 87.32, acc: 93.37, time: 43.6s\n",
      "[Epoch 62] Valid loss: 0.024, mcc: 52.03, acc: 75.84\n",
      "[Epoch 63] Train loss: 0.005, mcc: 87.48, acc: 93.80, time: 44.0s\n",
      "[Epoch 63] Valid loss: 0.025, mcc: 52.09, acc: 75.84\n",
      "[Epoch 64] Train loss: 0.005, mcc: 87.82, acc: 93.93, time: 44.0s\n",
      "[Epoch 64] Valid loss: 0.025, mcc: 51.75, acc: 75.79\n",
      "[Epoch 65] Train loss: 0.005, mcc: 87.69, acc: 93.86, time: 44.0s\n",
      "[Epoch 65] Valid loss: 0.025, mcc: 52.01, acc: 76.03\n",
      "[Epoch 66] Train loss: 0.005, mcc: 86.99, acc: 93.67, time: 44.4s\n",
      "[Epoch 66] Valid loss: 0.025, mcc: 52.03, acc: 75.84\n",
      "[Epoch 67] Train loss: 0.005, mcc: 88.14, acc: 94.02, time: 44.4s\n",
      "[Epoch 67] Valid loss: 0.025, mcc: 52.08, acc: 75.94\n",
      "[Epoch 68] Train loss: 0.005, mcc: 88.42, acc: 94.05, time: 44.1s\n",
      "[Epoch 68] Valid loss: 0.025, mcc: 52.06, acc: 75.74\n",
      "[Epoch 69] Train loss: 0.005, mcc: 87.78, acc: 93.99, time: 43.1s\n",
      "[Epoch 69] Valid loss: 0.025, mcc: 52.03, acc: 75.69\n",
      "[Epoch 70] Train loss: 0.005, mcc: 88.75, acc: 94.27, time: 43.0s\n",
      "[Epoch 70] Valid loss: 0.025, mcc: 52.25, acc: 75.98\n",
      "[Epoch 71] Train loss: 0.005, mcc: 89.01, acc: 94.17, time: 43.0s\n",
      "[Epoch 71] Valid loss: 0.025, mcc: 52.32, acc: 75.94\n",
      "[Epoch 72] Train loss: 0.005, mcc: 87.80, acc: 93.95, time: 43.0s\n",
      "[Epoch 72] Valid loss: 0.025, mcc: 52.16, acc: 75.84\n",
      "[Epoch 73] Train loss: 0.005, mcc: 88.65, acc: 94.07, time: 43.0s\n",
      "[Epoch 73] Valid loss: 0.025, mcc: 52.26, acc: 75.94\n",
      "[Epoch 74] Train loss: 0.005, mcc: 89.08, acc: 94.44, time: 43.0s\n",
      "[Epoch 74] Valid loss: 0.025, mcc: 52.26, acc: 75.89\n",
      "[Epoch 75] Train loss: 0.005, mcc: 87.97, acc: 94.12, time: 43.0s\n",
      "[Epoch 75] Valid loss: 0.025, mcc: 52.33, acc: 75.98\n",
      "[Epoch 76] Train loss: 0.005, mcc: 87.78, acc: 93.95, time: 43.0s\n",
      "[Epoch 76] Valid loss: 0.025, mcc: 52.33, acc: 75.98\n",
      "[Epoch 77] Train loss: 0.005, mcc: 88.39, acc: 94.31, time: 43.0s\n",
      "[Epoch 77] Valid loss: 0.025, mcc: 52.26, acc: 75.89\n",
      "[Epoch 78] Train loss: 0.005, mcc: 88.95, acc: 94.55, time: 43.0s\n",
      "[Epoch 78] Valid loss: 0.025, mcc: 52.26, acc: 75.89\n",
      "[Epoch 79] Train loss: 0.005, mcc: 87.63, acc: 94.19, time: 44.0s\n",
      "[Epoch 79] Valid loss: 0.025, mcc: 52.26, acc: 75.89\n",
      "Training finish! Best validation mcc: 52.93\n",
      "\n",
      "Start trining 8th model\n",
      "[Epoch 0] Train loss: 0.022, mcc: 5.37, acc: 53.77, time: 45.4s\n",
      "[Epoch 0] Valid loss: 0.022, mcc: 15.36, acc: 55.91\n",
      "[Epoch 1] Train loss: 0.021, mcc: 13.58, acc: 59.22, time: 45.8s\n",
      "[Epoch 1] Valid loss: 0.021, mcc: 28.32, acc: 63.88\n",
      "[Epoch 2] Train loss: 0.021, mcc: 29.68, acc: 66.87, time: 45.8s\n",
      "[Epoch 2] Valid loss: 0.020, mcc: 40.33, acc: 70.08\n",
      "[Epoch 3] Train loss: 0.020, mcc: 40.58, acc: 71.30, time: 45.9s\n",
      "[Epoch 3] Valid loss: 0.019, mcc: 44.23, acc: 71.65\n",
      "[Epoch 4] Train loss: 0.018, mcc: 46.76, acc: 73.52, time: 45.7s\n",
      "[Epoch 4] Valid loss: 0.017, mcc: 47.08, acc: 73.03\n",
      "[Epoch 5] Train loss: 0.016, mcc: 50.51, acc: 75.38, time: 45.4s\n",
      "[Epoch 5] Valid loss: 0.016, mcc: 48.98, acc: 74.16\n",
      "[Epoch 6] Train loss: 0.016, mcc: 53.69, acc: 76.73, time: 44.4s\n",
      "[Epoch 6] Valid loss: 0.016, mcc: 49.97, acc: 74.36\n",
      "[Epoch 7] Train loss: 0.015, mcc: 55.58, acc: 78.33, time: 43.6s\n",
      "[Epoch 7] Valid loss: 0.016, mcc: 49.21, acc: 74.56\n",
      "[Epoch 8] Train loss: 0.014, mcc: 58.52, acc: 79.13, time: 43.6s\n",
      "[Epoch 8] Valid loss: 0.016, mcc: 50.67, acc: 75.10\n",
      "[Epoch 9] Train loss: 0.014, mcc: 59.58, acc: 79.94, time: 44.7s\n",
      "[Epoch 9] Valid loss: 0.016, mcc: 51.37, acc: 75.54\n",
      "[Epoch 10] Train loss: 0.013, mcc: 63.79, acc: 80.81, time: 44.4s\n",
      "[Epoch 10] Valid loss: 0.016, mcc: 51.46, acc: 75.89\n",
      "[Epoch 11] Train loss: 0.013, mcc: 64.18, acc: 81.74, time: 43.6s\n",
      "[Epoch 11] Valid loss: 0.016, mcc: 50.93, acc: 75.69\n",
      "[Epoch 12] Train loss: 0.013, mcc: 64.77, acc: 82.28, time: 44.4s\n",
      "[Epoch 12] Valid loss: 0.017, mcc: 50.73, acc: 75.49\n",
      "[Epoch 13] Train loss: 0.012, mcc: 66.23, acc: 83.30, time: 44.0s\n",
      "[Epoch 13] Valid loss: 0.017, mcc: 51.40, acc: 75.64\n",
      "[Epoch 14] Train loss: 0.012, mcc: 68.18, acc: 84.04, time: 43.7s\n",
      "[Epoch 14] Valid loss: 0.017, mcc: 50.96, acc: 75.54\n",
      "[Epoch 15] Train loss: 0.012, mcc: 68.94, acc: 84.45, time: 43.6s\n",
      "[Epoch 15] Valid loss: 0.017, mcc: 50.03, acc: 75.05\n",
      "[Epoch 16] Train loss: 0.011, mcc: 69.24, acc: 84.93, time: 43.5s\n",
      "[Epoch 16] Valid loss: 0.017, mcc: 51.00, acc: 75.54\n",
      "[Epoch 17] Train loss: 0.011, mcc: 70.80, acc: 85.17, time: 43.6s\n",
      "[Epoch 17] Valid loss: 0.017, mcc: 51.49, acc: 76.18\n",
      "[Epoch 18] Train loss: 0.011, mcc: 71.84, acc: 85.63, time: 43.8s\n",
      "[Epoch 18] Valid loss: 0.017, mcc: 52.56, acc: 76.77\n",
      "[Epoch 19] Train loss: 0.010, mcc: 72.78, acc: 86.43, time: 43.9s\n",
      "[Epoch 19] Valid loss: 0.018, mcc: 52.05, acc: 76.57\n",
      "[Epoch 20] Train loss: 0.010, mcc: 72.23, acc: 86.67, time: 44.3s\n",
      "[Epoch 20] Valid loss: 0.018, mcc: 51.75, acc: 76.53\n",
      "[Epoch 21] Train loss: 0.010, mcc: 72.90, acc: 86.94, time: 44.4s\n",
      "[Epoch 21] Valid loss: 0.018, mcc: 52.48, acc: 77.02\n",
      "[Epoch 22] Train loss: 0.010, mcc: 75.31, acc: 87.65, time: 44.9s\n",
      "[Epoch 22] Valid loss: 0.018, mcc: 52.58, acc: 76.97\n",
      "[Epoch 23] Train loss: 0.010, mcc: 75.71, acc: 87.55, time: 44.0s\n",
      "[Epoch 23] Valid loss: 0.018, mcc: 52.17, acc: 76.77\n",
      "[Epoch 24] Train loss: 0.009, mcc: 75.99, acc: 87.67, time: 43.7s\n",
      "[Epoch 24] Valid loss: 0.019, mcc: 52.84, acc: 76.87\n",
      "[Epoch 25] Train loss: 0.009, mcc: 76.29, acc: 88.11, time: 43.6s\n",
      "[Epoch 25] Valid loss: 0.019, mcc: 52.42, acc: 77.07\n",
      "[Epoch 26] Train loss: 0.009, mcc: 77.65, acc: 88.55, time: 44.2s\n",
      "[Epoch 26] Valid loss: 0.019, mcc: 53.06, acc: 77.31\n",
      "[Epoch 27] Train loss: 0.009, mcc: 77.96, acc: 89.22, time: 44.1s\n",
      "[Epoch 27] Valid loss: 0.019, mcc: 53.75, acc: 77.46\n",
      "[Epoch 28] Train loss: 0.009, mcc: 77.60, acc: 88.98, time: 44.0s\n",
      "[Epoch 28] Valid loss: 0.019, mcc: 52.71, acc: 77.07\n",
      "[Epoch 29] Train loss: 0.008, mcc: 78.82, acc: 89.58, time: 44.1s\n",
      "[Epoch 29] Valid loss: 0.020, mcc: 53.34, acc: 77.17\n",
      "[Epoch 30] Train loss: 0.008, mcc: 79.21, acc: 89.68, time: 44.4s\n",
      "[Epoch 30] Valid loss: 0.020, mcc: 52.74, acc: 77.07\n",
      "[Epoch 31] Train loss: 0.008, mcc: 80.17, acc: 90.33, time: 44.0s\n",
      "[Epoch 31] Valid loss: 0.020, mcc: 53.54, acc: 77.17\n",
      "[Epoch 32] Train loss: 0.008, mcc: 81.48, acc: 90.55, time: 43.9s\n",
      "[Epoch 32] Valid loss: 0.020, mcc: 53.51, acc: 77.21\n",
      "[Epoch 33] Train loss: 0.008, mcc: 81.82, acc: 90.45, time: 43.5s\n",
      "[Epoch 33] Valid loss: 0.020, mcc: 52.90, acc: 77.17\n",
      "[Epoch 34] Train loss: 0.008, mcc: 80.40, acc: 90.80, time: 44.0s\n",
      "[Epoch 34] Valid loss: 0.021, mcc: 53.65, acc: 77.17\n",
      "[Epoch 35] Train loss: 0.007, mcc: 81.26, acc: 90.91, time: 44.8s\n",
      "[Epoch 35] Valid loss: 0.021, mcc: 53.74, acc: 77.12\n",
      "[Epoch 36] Train loss: 0.007, mcc: 82.52, acc: 91.21, time: 45.1s\n",
      "[Epoch 36] Valid loss: 0.021, mcc: 52.70, acc: 76.82\n",
      "[Epoch 37] Train loss: 0.007, mcc: 84.09, acc: 91.52, time: 45.4s\n",
      "[Epoch 37] Valid loss: 0.021, mcc: 53.24, acc: 77.12\n",
      "[Epoch 38] Train loss: 0.007, mcc: 83.04, acc: 91.67, time: 45.0s\n",
      "[Epoch 38] Valid loss: 0.021, mcc: 52.16, acc: 76.82\n",
      "[Epoch 39] Train loss: 0.007, mcc: 83.90, acc: 92.01, time: 43.8s\n",
      "[Epoch 39] Valid loss: 0.022, mcc: 53.65, acc: 77.21\n",
      "[Epoch 40] Train loss: 0.007, mcc: 84.49, acc: 91.78, time: 43.8s\n",
      "[Epoch 40] Valid loss: 0.022, mcc: 52.53, acc: 76.77\n",
      "[Epoch 41] Train loss: 0.007, mcc: 84.01, acc: 91.99, time: 43.6s\n",
      "[Epoch 41] Valid loss: 0.022, mcc: 53.84, acc: 77.12\n",
      "[Epoch 42] Train loss: 0.007, mcc: 84.84, acc: 91.98, time: 44.5s\n",
      "[Epoch 42] Valid loss: 0.022, mcc: 54.46, acc: 77.51\n",
      "[Epoch 43] Train loss: 0.006, mcc: 84.80, acc: 92.46, time: 45.7s\n",
      "[Epoch 43] Valid loss: 0.022, mcc: 53.31, acc: 76.92\n",
      "[Epoch 44] Train loss: 0.006, mcc: 84.76, acc: 92.44, time: 43.9s\n",
      "[Epoch 44] Valid loss: 0.022, mcc: 53.54, acc: 76.97\n",
      "[Epoch 45] Train loss: 0.006, mcc: 85.32, acc: 92.43, time: 43.8s\n",
      "[Epoch 45] Valid loss: 0.022, mcc: 54.03, acc: 77.21\n",
      "[Epoch 46] Train loss: 0.006, mcc: 85.42, acc: 92.84, time: 43.7s\n",
      "[Epoch 46] Valid loss: 0.023, mcc: 54.13, acc: 76.97\n",
      "[Epoch 47] Train loss: 0.006, mcc: 85.06, acc: 92.81, time: 43.9s\n",
      "[Epoch 47] Valid loss: 0.023, mcc: 53.45, acc: 76.82\n",
      "[Epoch 48] Train loss: 0.006, mcc: 85.73, acc: 93.07, time: 44.9s\n",
      "[Epoch 48] Valid loss: 0.023, mcc: 52.98, acc: 76.67\n",
      "[Epoch 49] Train loss: 0.006, mcc: 86.55, acc: 93.08, time: 44.4s\n",
      "[Epoch 49] Valid loss: 0.023, mcc: 54.12, acc: 77.17\n",
      "[Epoch 50] Train loss: 0.006, mcc: 86.27, acc: 92.98, time: 44.7s\n",
      "[Epoch 50] Valid loss: 0.023, mcc: 53.61, acc: 76.92\n",
      "[Epoch 51] Train loss: 0.006, mcc: 86.30, acc: 93.24, time: 44.2s\n",
      "[Epoch 51] Valid loss: 0.023, mcc: 53.25, acc: 76.77\n",
      "[Epoch 52] Train loss: 0.006, mcc: 86.61, acc: 93.49, time: 44.7s\n",
      "[Epoch 52] Valid loss: 0.023, mcc: 53.84, acc: 77.02\n",
      "[Epoch 53] Train loss: 0.006, mcc: 86.93, acc: 93.47, time: 44.6s\n",
      "[Epoch 53] Valid loss: 0.024, mcc: 53.90, acc: 77.12\n",
      "[Epoch 54] Train loss: 0.006, mcc: 86.80, acc: 93.37, time: 44.9s\n",
      "[Epoch 54] Valid loss: 0.024, mcc: 53.41, acc: 76.67\n",
      "[Epoch 55] Train loss: 0.005, mcc: 87.40, acc: 93.58, time: 43.4s\n",
      "[Epoch 55] Valid loss: 0.024, mcc: 54.12, acc: 77.12\n",
      "[Epoch 56] Train loss: 0.005, mcc: 86.73, acc: 93.59, time: 44.0s\n",
      "[Epoch 56] Valid loss: 0.024, mcc: 53.91, acc: 77.12\n",
      "[Epoch 57] Train loss: 0.005, mcc: 87.68, acc: 93.85, time: 44.1s\n",
      "[Epoch 57] Valid loss: 0.024, mcc: 53.89, acc: 76.97\n",
      "[Epoch 58] Train loss: 0.005, mcc: 87.89, acc: 94.00, time: 44.4s\n",
      "[Epoch 58] Valid loss: 0.024, mcc: 54.07, acc: 77.02\n",
      "[Epoch 59] Train loss: 0.005, mcc: 88.14, acc: 94.07, time: 44.9s\n",
      "[Epoch 59] Valid loss: 0.024, mcc: 53.68, acc: 76.97\n",
      "[Epoch 60] Train loss: 0.005, mcc: 88.03, acc: 94.06, time: 44.8s\n",
      "[Epoch 60] Valid loss: 0.024, mcc: 54.30, acc: 77.07\n",
      "[Epoch 61] Train loss: 0.005, mcc: 88.21, acc: 94.10, time: 44.8s\n",
      "[Epoch 61] Valid loss: 0.024, mcc: 54.47, acc: 77.12\n",
      "[Epoch 62] Train loss: 0.005, mcc: 88.55, acc: 94.16, time: 44.2s\n",
      "[Epoch 62] Valid loss: 0.025, mcc: 54.46, acc: 77.07\n",
      "[Epoch 63] Train loss: 0.005, mcc: 88.80, acc: 94.32, time: 45.3s\n",
      "[Epoch 63] Valid loss: 0.025, mcc: 54.25, acc: 77.02\n",
      "[Epoch 64] Train loss: 0.005, mcc: 88.00, acc: 94.14, time: 45.6s\n",
      "[Epoch 64] Valid loss: 0.025, mcc: 54.16, acc: 76.87\n",
      "[Epoch 65] Train loss: 0.005, mcc: 88.65, acc: 94.34, time: 43.8s\n",
      "[Epoch 65] Valid loss: 0.025, mcc: 53.94, acc: 76.77\n",
      "[Epoch 66] Train loss: 0.005, mcc: 88.86, acc: 94.34, time: 43.5s\n",
      "[Epoch 66] Valid loss: 0.025, mcc: 53.87, acc: 76.92\n",
      "[Epoch 67] Train loss: 0.005, mcc: 88.13, acc: 94.41, time: 44.4s\n",
      "[Epoch 67] Valid loss: 0.025, mcc: 53.99, acc: 76.92\n",
      "[Epoch 68] Train loss: 0.005, mcc: 88.48, acc: 94.48, time: 44.0s\n",
      "[Epoch 68] Valid loss: 0.025, mcc: 54.01, acc: 76.97\n",
      "[Epoch 69] Train loss: 0.005, mcc: 88.88, acc: 94.41, time: 43.7s\n",
      "[Epoch 69] Valid loss: 0.025, mcc: 53.72, acc: 76.87\n",
      "[Epoch 70] Train loss: 0.005, mcc: 89.51, acc: 94.47, time: 44.0s\n",
      "[Epoch 70] Valid loss: 0.025, mcc: 53.57, acc: 76.87\n",
      "[Epoch 71] Train loss: 0.005, mcc: 89.33, acc: 94.62, time: 43.6s\n",
      "[Epoch 71] Valid loss: 0.025, mcc: 53.37, acc: 76.77\n",
      "[Epoch 72] Train loss: 0.005, mcc: 88.23, acc: 94.50, time: 43.8s\n",
      "[Epoch 72] Valid loss: 0.025, mcc: 53.59, acc: 76.87\n",
      "[Epoch 73] Train loss: 0.005, mcc: 87.74, acc: 94.25, time: 44.4s\n",
      "[Epoch 73] Valid loss: 0.025, mcc: 53.37, acc: 76.77\n",
      "[Epoch 74] Train loss: 0.005, mcc: 89.35, acc: 94.65, time: 45.8s\n",
      "[Epoch 74] Valid loss: 0.025, mcc: 53.37, acc: 76.77\n",
      "[Epoch 75] Train loss: 0.005, mcc: 88.45, acc: 94.52, time: 45.3s\n",
      "[Epoch 75] Valid loss: 0.025, mcc: 53.37, acc: 76.77\n",
      "[Epoch 76] Train loss: 0.005, mcc: 89.26, acc: 94.75, time: 43.7s\n",
      "[Epoch 76] Valid loss: 0.025, mcc: 53.53, acc: 76.82\n",
      "[Epoch 77] Train loss: 0.005, mcc: 88.73, acc: 94.37, time: 43.4s\n",
      "[Epoch 77] Valid loss: 0.025, mcc: 53.37, acc: 76.77\n",
      "[Epoch 78] Train loss: 0.005, mcc: 88.10, acc: 94.33, time: 43.3s\n",
      "[Epoch 78] Valid loss: 0.025, mcc: 53.37, acc: 76.77\n",
      "[Epoch 79] Train loss: 0.005, mcc: 89.14, acc: 94.45, time: 43.3s\n",
      "[Epoch 79] Valid loss: 0.025, mcc: 53.40, acc: 76.82\n",
      "Training finish! Best validation mcc: 54.47\n",
      "\n",
      "Start trining 9th model\n",
      "[Epoch 0] Train loss: 0.023, mcc: 0.00, acc: 50.16, time: 43.5s\n",
      "[Epoch 0] Valid loss: 0.023, mcc: 0.00, acc: 47.29\n",
      "[Epoch 1] Train loss: 0.022, mcc: 0.92, acc: 50.94, time: 44.2s\n",
      "[Epoch 1] Valid loss: 0.022, mcc: 10.48, acc: 55.02\n",
      "[Epoch 2] Train loss: 0.021, mcc: 15.81, acc: 61.10, time: 44.2s\n",
      "[Epoch 2] Valid loss: 0.021, mcc: 27.75, acc: 64.86\n",
      "[Epoch 3] Train loss: 0.020, mcc: 32.08, acc: 67.46, time: 44.5s\n",
      "[Epoch 3] Valid loss: 0.019, mcc: 39.20, acc: 69.88\n",
      "[Epoch 4] Train loss: 0.019, mcc: 42.01, acc: 71.76, time: 44.9s\n",
      "[Epoch 4] Valid loss: 0.018, mcc: 44.14, acc: 71.60\n",
      "[Epoch 5] Train loss: 0.017, mcc: 48.35, acc: 74.65, time: 44.9s\n",
      "[Epoch 5] Valid loss: 0.017, mcc: 45.90, acc: 72.59\n",
      "[Epoch 6] Train loss: 0.016, mcc: 52.62, acc: 76.23, time: 45.5s\n",
      "[Epoch 6] Valid loss: 0.016, mcc: 50.18, acc: 74.95\n",
      "[Epoch 7] Train loss: 0.015, mcc: 55.10, acc: 77.95, time: 43.8s\n",
      "[Epoch 7] Valid loss: 0.016, mcc: 49.98, acc: 75.00\n",
      "[Epoch 8] Train loss: 0.014, mcc: 56.42, acc: 78.58, time: 44.1s\n",
      "[Epoch 8] Valid loss: 0.016, mcc: 50.37, acc: 75.39\n",
      "[Epoch 9] Train loss: 0.014, mcc: 60.13, acc: 80.22, time: 43.7s\n",
      "[Epoch 9] Valid loss: 0.016, mcc: 50.75, acc: 75.89\n",
      "[Epoch 10] Train loss: 0.013, mcc: 63.35, acc: 80.96, time: 43.7s\n",
      "[Epoch 10] Valid loss: 0.016, mcc: 51.43, acc: 76.23\n",
      "[Epoch 11] Train loss: 0.013, mcc: 63.51, acc: 81.92, time: 43.3s\n",
      "[Epoch 11] Valid loss: 0.016, mcc: 52.13, acc: 76.28\n",
      "[Epoch 12] Train loss: 0.013, mcc: 65.25, acc: 82.63, time: 43.3s\n",
      "[Epoch 12] Valid loss: 0.016, mcc: 52.96, acc: 76.57\n",
      "[Epoch 13] Train loss: 0.012, mcc: 66.61, acc: 83.06, time: 43.4s\n",
      "[Epoch 13] Valid loss: 0.017, mcc: 51.76, acc: 76.28\n",
      "[Epoch 14] Train loss: 0.012, mcc: 66.76, acc: 83.40, time: 43.3s\n",
      "[Epoch 14] Valid loss: 0.017, mcc: 52.70, acc: 76.53\n",
      "[Epoch 15] Train loss: 0.012, mcc: 69.23, acc: 84.35, time: 44.1s\n",
      "[Epoch 15] Valid loss: 0.017, mcc: 51.74, acc: 76.38\n",
      "[Epoch 16] Train loss: 0.011, mcc: 69.25, acc: 84.85, time: 45.2s\n",
      "[Epoch 16] Valid loss: 0.017, mcc: 52.26, acc: 76.57\n",
      "[Epoch 17] Train loss: 0.011, mcc: 70.59, acc: 85.57, time: 44.8s\n",
      "[Epoch 17] Valid loss: 0.017, mcc: 52.28, acc: 76.62\n",
      "[Epoch 18] Train loss: 0.011, mcc: 71.87, acc: 85.83, time: 43.6s\n",
      "[Epoch 18] Valid loss: 0.017, mcc: 53.09, acc: 76.92\n",
      "[Epoch 19] Train loss: 0.010, mcc: 72.44, acc: 86.07, time: 44.7s\n",
      "[Epoch 19] Valid loss: 0.018, mcc: 52.45, acc: 76.62\n",
      "[Epoch 20] Train loss: 0.010, mcc: 74.08, acc: 86.85, time: 45.5s\n",
      "[Epoch 20] Valid loss: 0.018, mcc: 53.13, acc: 76.77\n",
      "[Epoch 21] Train loss: 0.010, mcc: 73.90, acc: 87.17, time: 44.9s\n",
      "[Epoch 21] Valid loss: 0.018, mcc: 52.82, acc: 76.38\n",
      "[Epoch 22] Train loss: 0.010, mcc: 74.91, acc: 87.34, time: 44.4s\n",
      "[Epoch 22] Valid loss: 0.018, mcc: 52.39, acc: 76.67\n",
      "[Epoch 23] Train loss: 0.009, mcc: 75.71, acc: 87.55, time: 45.0s\n",
      "[Epoch 23] Valid loss: 0.019, mcc: 52.00, acc: 76.33\n",
      "[Epoch 24] Train loss: 0.009, mcc: 75.74, acc: 88.02, time: 45.3s\n",
      "[Epoch 24] Valid loss: 0.018, mcc: 53.47, acc: 76.87\n",
      "[Epoch 25] Train loss: 0.009, mcc: 76.61, acc: 88.29, time: 44.0s\n",
      "[Epoch 25] Valid loss: 0.019, mcc: 54.06, acc: 76.97\n",
      "[Epoch 26] Train loss: 0.009, mcc: 77.49, acc: 88.74, time: 43.7s\n",
      "[Epoch 26] Valid loss: 0.019, mcc: 53.66, acc: 76.82\n",
      "[Epoch 27] Train loss: 0.009, mcc: 78.89, acc: 89.11, time: 43.6s\n",
      "[Epoch 27] Valid loss: 0.019, mcc: 54.89, acc: 77.12\n",
      "[Epoch 28] Train loss: 0.008, mcc: 78.72, acc: 89.59, time: 43.3s\n",
      "[Epoch 28] Valid loss: 0.019, mcc: 53.73, acc: 76.72\n",
      "[Epoch 29] Train loss: 0.008, mcc: 80.41, acc: 89.85, time: 43.4s\n",
      "[Epoch 29] Valid loss: 0.020, mcc: 52.67, acc: 76.33\n",
      "[Epoch 30] Train loss: 0.008, mcc: 81.06, acc: 90.34, time: 43.6s\n",
      "[Epoch 30] Valid loss: 0.020, mcc: 54.34, acc: 76.97\n",
      "[Epoch 31] Train loss: 0.008, mcc: 80.91, acc: 90.17, time: 44.6s\n",
      "[Epoch 31] Valid loss: 0.020, mcc: 52.87, acc: 76.33\n",
      "[Epoch 32] Train loss: 0.008, mcc: 81.05, acc: 90.34, time: 45.2s\n",
      "[Epoch 32] Valid loss: 0.020, mcc: 55.65, acc: 77.46\n",
      "[Epoch 33] Train loss: 0.007, mcc: 81.45, acc: 90.77, time: 45.1s\n",
      "[Epoch 33] Valid loss: 0.021, mcc: 53.68, acc: 76.62\n",
      "[Epoch 34] Train loss: 0.008, mcc: 81.34, acc: 90.64, time: 45.2s\n",
      "[Epoch 34] Valid loss: 0.021, mcc: 54.02, acc: 76.77\n",
      "[Epoch 35] Train loss: 0.007, mcc: 82.14, acc: 91.16, time: 45.2s\n",
      "[Epoch 35] Valid loss: 0.021, mcc: 52.79, acc: 76.18\n",
      "[Epoch 36] Train loss: 0.007, mcc: 83.34, acc: 91.54, time: 44.8s\n",
      "[Epoch 36] Valid loss: 0.021, mcc: 55.31, acc: 77.31\n",
      "[Epoch 37] Train loss: 0.007, mcc: 82.71, acc: 91.44, time: 44.1s\n",
      "[Epoch 37] Valid loss: 0.021, mcc: 54.22, acc: 76.72\n",
      "[Epoch 38] Train loss: 0.007, mcc: 83.36, acc: 91.75, time: 44.1s\n",
      "[Epoch 38] Valid loss: 0.021, mcc: 55.11, acc: 77.17\n",
      "[Epoch 39] Train loss: 0.007, mcc: 83.52, acc: 91.64, time: 43.9s\n",
      "[Epoch 39] Valid loss: 0.022, mcc: 54.03, acc: 76.72\n",
      "[Epoch 40] Train loss: 0.007, mcc: 84.73, acc: 92.15, time: 43.5s\n",
      "[Epoch 40] Valid loss: 0.022, mcc: 53.88, acc: 76.67\n",
      "[Epoch 41] Train loss: 0.007, mcc: 84.45, acc: 92.02, time: 43.4s\n",
      "[Epoch 41] Valid loss: 0.022, mcc: 54.63, acc: 76.92\n",
      "[Epoch 42] Train loss: 0.006, mcc: 84.25, acc: 92.18, time: 43.5s\n",
      "[Epoch 42] Valid loss: 0.022, mcc: 54.82, acc: 77.31\n",
      "[Epoch 43] Train loss: 0.006, mcc: 84.06, acc: 92.29, time: 43.5s\n",
      "[Epoch 43] Valid loss: 0.022, mcc: 53.89, acc: 76.38\n",
      "[Epoch 44] Train loss: 0.006, mcc: 85.97, acc: 92.61, time: 43.6s\n",
      "[Epoch 44] Valid loss: 0.022, mcc: 54.05, acc: 76.97\n",
      "[Epoch 45] Train loss: 0.006, mcc: 85.73, acc: 92.87, time: 43.8s\n",
      "[Epoch 45] Valid loss: 0.023, mcc: 53.76, acc: 76.82\n",
      "[Epoch 46] Train loss: 0.006, mcc: 86.00, acc: 92.91, time: 43.3s\n",
      "[Epoch 46] Valid loss: 0.023, mcc: 54.08, acc: 76.87\n",
      "[Epoch 47] Train loss: 0.006, mcc: 85.72, acc: 93.12, time: 43.5s\n",
      "[Epoch 47] Valid loss: 0.023, mcc: 54.33, acc: 77.02\n",
      "[Epoch 48] Train loss: 0.006, mcc: 86.24, acc: 92.89, time: 44.2s\n",
      "[Epoch 48] Valid loss: 0.023, mcc: 53.81, acc: 76.67\n",
      "[Epoch 49] Train loss: 0.006, mcc: 86.55, acc: 93.11, time: 43.5s\n",
      "[Epoch 49] Valid loss: 0.023, mcc: 53.32, acc: 76.38\n",
      "[Epoch 50] Train loss: 0.006, mcc: 86.25, acc: 93.28, time: 43.5s\n",
      "[Epoch 50] Valid loss: 0.023, mcc: 54.33, acc: 76.87\n",
      "[Epoch 51] Train loss: 0.006, mcc: 87.33, acc: 93.35, time: 43.4s\n",
      "[Epoch 51] Valid loss: 0.023, mcc: 54.01, acc: 76.72\n",
      "[Epoch 52] Train loss: 0.006, mcc: 86.44, acc: 93.38, time: 43.6s\n",
      "[Epoch 52] Valid loss: 0.024, mcc: 53.54, acc: 76.28\n",
      "[Epoch 53] Train loss: 0.005, mcc: 87.56, acc: 93.69, time: 43.8s\n",
      "[Epoch 53] Valid loss: 0.024, mcc: 53.51, acc: 76.33\n",
      "[Epoch 54] Train loss: 0.005, mcc: 87.41, acc: 93.64, time: 43.3s\n",
      "[Epoch 54] Valid loss: 0.024, mcc: 53.97, acc: 76.53\n",
      "[Epoch 55] Train loss: 0.005, mcc: 87.67, acc: 93.85, time: 43.3s\n",
      "[Epoch 55] Valid loss: 0.024, mcc: 53.83, acc: 76.48\n",
      "[Epoch 56] Train loss: 0.005, mcc: 87.73, acc: 93.84, time: 43.3s\n",
      "[Epoch 56] Valid loss: 0.024, mcc: 54.20, acc: 76.57\n",
      "[Epoch 57] Train loss: 0.005, mcc: 87.93, acc: 93.87, time: 43.7s\n",
      "[Epoch 57] Valid loss: 0.024, mcc: 53.72, acc: 76.43\n",
      "[Epoch 58] Train loss: 0.005, mcc: 87.65, acc: 94.04, time: 44.3s\n",
      "[Epoch 58] Valid loss: 0.024, mcc: 53.98, acc: 76.53\n",
      "[Epoch 59] Train loss: 0.005, mcc: 87.19, acc: 93.76, time: 44.2s\n",
      "[Epoch 59] Valid loss: 0.024, mcc: 53.17, acc: 76.23\n",
      "[Epoch 60] Train loss: 0.005, mcc: 88.28, acc: 94.17, time: 44.1s\n",
      "[Epoch 60] Valid loss: 0.024, mcc: 52.70, acc: 76.08\n",
      "[Epoch 61] Train loss: 0.005, mcc: 87.68, acc: 93.92, time: 44.1s\n",
      "[Epoch 61] Valid loss: 0.024, mcc: 53.17, acc: 76.28\n",
      "[Epoch 62] Train loss: 0.005, mcc: 89.10, acc: 94.39, time: 44.1s\n",
      "[Epoch 62] Valid loss: 0.024, mcc: 52.95, acc: 76.13\n",
      "[Epoch 63] Train loss: 0.005, mcc: 89.12, acc: 94.49, time: 44.1s\n",
      "[Epoch 63] Valid loss: 0.025, mcc: 52.80, acc: 76.13\n",
      "[Epoch 64] Train loss: 0.005, mcc: 89.13, acc: 94.43, time: 44.1s\n",
      "[Epoch 64] Valid loss: 0.025, mcc: 53.26, acc: 76.38\n",
      "[Epoch 65] Train loss: 0.005, mcc: 88.44, acc: 94.32, time: 44.4s\n",
      "[Epoch 65] Valid loss: 0.025, mcc: 53.35, acc: 76.43\n",
      "[Epoch 66] Train loss: 0.005, mcc: 88.74, acc: 94.27, time: 45.6s\n",
      "[Epoch 66] Valid loss: 0.025, mcc: 52.41, acc: 76.08\n",
      "[Epoch 67] Train loss: 0.005, mcc: 89.18, acc: 94.55, time: 44.7s\n",
      "[Epoch 67] Valid loss: 0.025, mcc: 53.02, acc: 76.33\n",
      "[Epoch 68] Train loss: 0.005, mcc: 89.04, acc: 94.68, time: 45.0s\n",
      "[Epoch 68] Valid loss: 0.025, mcc: 52.79, acc: 76.28\n",
      "[Epoch 69] Train loss: 0.005, mcc: 87.93, acc: 94.22, time: 43.9s\n",
      "[Epoch 69] Valid loss: 0.025, mcc: 52.78, acc: 76.28\n",
      "[Epoch 70] Train loss: 0.005, mcc: 88.84, acc: 94.60, time: 44.1s\n",
      "[Epoch 70] Valid loss: 0.025, mcc: 52.11, acc: 76.03\n",
      "[Epoch 71] Train loss: 0.005, mcc: 89.83, acc: 94.59, time: 44.1s\n",
      "[Epoch 71] Valid loss: 0.025, mcc: 52.42, acc: 76.13\n",
      "[Epoch 72] Train loss: 0.005, mcc: 88.75, acc: 94.60, time: 44.0s\n",
      "[Epoch 72] Valid loss: 0.025, mcc: 52.40, acc: 76.08\n",
      "[Epoch 73] Train loss: 0.005, mcc: 89.31, acc: 94.56, time: 44.5s\n",
      "[Epoch 73] Valid loss: 0.025, mcc: 52.60, acc: 76.08\n",
      "[Epoch 74] Train loss: 0.005, mcc: 89.73, acc: 94.61, time: 44.2s\n",
      "[Epoch 74] Valid loss: 0.025, mcc: 52.60, acc: 76.08\n",
      "[Epoch 75] Train loss: 0.005, mcc: 89.06, acc: 94.72, time: 44.1s\n",
      "[Epoch 75] Valid loss: 0.025, mcc: 52.76, acc: 76.18\n",
      "[Epoch 76] Train loss: 0.004, mcc: 89.89, acc: 94.94, time: 44.1s\n",
      "[Epoch 76] Valid loss: 0.025, mcc: 52.80, acc: 76.23\n",
      "[Epoch 77] Train loss: 0.005, mcc: 89.29, acc: 94.72, time: 44.9s\n",
      "[Epoch 77] Valid loss: 0.025, mcc: 52.43, acc: 76.03\n",
      "[Epoch 78] Train loss: 0.005, mcc: 89.74, acc: 94.74, time: 43.8s\n",
      "[Epoch 78] Valid loss: 0.025, mcc: 52.43, acc: 76.03\n",
      "[Epoch 79] Train loss: 0.005, mcc: 88.87, acc: 94.73, time: 44.3s\n",
      "[Epoch 79] Valid loss: 0.025, mcc: 52.43, acc: 76.03\n",
      "Training finish! Best validation mcc: 55.65\n",
      "\n"
     ]
    }
   ],
   "source": [
    "train(0, num_epochs, lr, train_loader, val_loader)\n",
    "# We run 10 times in the results below"
   ]
  },
  {
   "cell_type": "code",
   "execution_count": 46,
   "id": "c9202be3",
   "metadata": {},
   "outputs": [],
   "source": [
    "def validate_last(val_loader, answer):\n",
    "    model = Electra.from_pretrained(os.path.join(save_dir, f'0'), model_name)\n",
    "    model.to(device)\n",
    "    mcc, pred_all = validate('best', model, val_loader, verbose=False)\n",
    "    print(f\"Load final model (mcc: {mcc*100:.2f})\")"
   ]
  },
  {
   "cell_type": "code",
   "execution_count": 47,
   "id": "3952fb06",
   "metadata": {},
   "outputs": [
    {
     "name": "stdout",
     "output_type": "stream",
     "text": [
      "Load final model (mcc: 55.65)\n"
     ]
    }
   ],
   "source": [
    "answer = torch.tensor(val_dataset.labels)\n",
    "\n",
    "validate_last(val_loader, answer)"
   ]
  }
 ],
 "metadata": {
  "kernelspec": {
   "display_name": "Python 3",
   "language": "python",
   "name": "python3"
  },
  "language_info": {
   "codemirror_mode": {
    "name": "ipython",
    "version": 3
   },
   "file_extension": ".py",
   "mimetype": "text/x-python",
   "name": "python",
   "nbconvert_exporter": "python",
   "pygments_lexer": "ipython3",
   "version": "3.8.8"
  }
 },
 "nbformat": 4,
 "nbformat_minor": 5
}
